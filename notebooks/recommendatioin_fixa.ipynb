{
 "cells": [
  {
   "cell_type": "code",
   "execution_count": 419,
   "metadata": {},
   "outputs": [],
   "source": [
    "import pandas as pd\n",
    "import numpy as np\n",
    "\n",
    "import matplotlib.pyplot as plt\n",
    "import seaborn as sns;sns.set(context='notebook',palette='Set3', style='darkgrid')\n",
    "\n",
    "import turicreate as tc\n",
    "from sklearn.model_selection import train_test_split\n",
    "\n",
    "import pickle"
   ]
  },
  {
   "cell_type": "code",
   "execution_count": 2,
   "metadata": {},
   "outputs": [],
   "source": [
    "df_cluster_clientes = pd.read_csv(\"../data/processados/clientes_final.csv\")\n",
    "df_produtos_fixa = pd.read_csv(\"../data/processados/produto_fundos_final.csv\")\n",
    "df_produtos_fundos = pd.read_csv(\"../data/processados/produto_fixa_final.csv\")"
   ]
  },
  {
   "cell_type": "code",
   "execution_count": 3,
   "metadata": {},
   "outputs": [
    {
     "name": "stderr",
     "output_type": "stream",
     "text": [
      "/home/vinicius/.pyenv/versions/3.7.4/lib/python3.7/site-packages/IPython/core/interactiveshell.py:3058: DtypeWarning: Columns (62) have mixed types. Specify dtype option on import or set low_memory=False.\n",
      "  interactivity=interactivity, compiler=compiler, result=result)\n"
     ]
    }
   ],
   "source": [
    "df_compras = pd.read_csv('../data/Dataset-1.csv')"
   ]
  },
  {
   "cell_type": "code",
   "execution_count": 4,
   "metadata": {},
   "outputs": [
    {
     "data": {
      "text/plain": [
       "(38102, 66)"
      ]
     },
     "execution_count": 4,
     "metadata": {},
     "output_type": "execute_result"
    }
   ],
   "source": [
    "df_compras.shape"
   ]
  },
  {
   "cell_type": "code",
   "execution_count": 5,
   "metadata": {},
   "outputs": [
    {
     "data": {
      "text/plain": [
       "Index(['Unnamed: 0', 'Id', 'Idade', 'EstadoCivil', 'BillingCity',\n",
       "       'NivelConhecimentoAtual', 'ScoreNivelConhecimento', 'PerfilInvestidor',\n",
       "       'RendaMensal', 'ValorPatrimonio', 'Pergunta1', 'Resposta11',\n",
       "       'Pergunta2', 'Resposta21', 'Pergunta3', 'Resposta31', 'Pergunta4',\n",
       "       'Resposta41', 'Pergunta5', 'Resposta51', 'Resposta52', 'Resposta53',\n",
       "       'Resposta54', 'Resposta55', 'Resposta56', 'Resposta57', 'Resposta58',\n",
       "       'Pergunta6', 'Resposta61', 'Resposta62', 'Resposta63', 'Resposta64',\n",
       "       'Resposta65', 'Resposta66', 'Resposta67', 'Resposta68', 'Pergunta7',\n",
       "       'Resposta71', 'Resposta72', 'Resposta73', 'Resposta74', 'Resposta75',\n",
       "       'Pergunta8', 'Resposta81', 'Pergunta9', 'Resposta91', 'ScoreRisco',\n",
       "       'ScoreObjetivos', 'ScoreSituacaoFinanceira', 'Produto', 'NomeDoProduto',\n",
       "       'NomeEmissor', 'TaxaCliente', 'TaxaPreCliente', 'DescricaoProduto',\n",
       "       'ValorMinimoAplicaInicial', 'ValorMinimoAplicacaoAdicional',\n",
       "       'DataVencimento', 'FamiliaCarteira', 'ValorInvestidoAtual',\n",
       "       'ValorRendimento', 'Rentabilidade12Meses', 'RentabilidadeMes',\n",
       "       'RiscoAtivo', 'Status', 'ProdutoId'],\n",
       "      dtype='object')"
      ]
     },
     "execution_count": 5,
     "metadata": {},
     "output_type": "execute_result"
    }
   ],
   "source": [
    "df_compras.columns"
   ]
  },
  {
   "cell_type": "code",
   "execution_count": 6,
   "metadata": {},
   "outputs": [],
   "source": [
    "df_compras = df_compras[['Id', 'ProdutoId']]"
   ]
  },
  {
   "cell_type": "code",
   "execution_count": 7,
   "metadata": {},
   "outputs": [
    {
     "data": {
      "text/html": [
       "<div>\n",
       "<style scoped>\n",
       "    .dataframe tbody tr th:only-of-type {\n",
       "        vertical-align: middle;\n",
       "    }\n",
       "\n",
       "    .dataframe tbody tr th {\n",
       "        vertical-align: top;\n",
       "    }\n",
       "\n",
       "    .dataframe thead th {\n",
       "        text-align: right;\n",
       "    }\n",
       "</style>\n",
       "<table border=\"1\" class=\"dataframe\">\n",
       "  <thead>\n",
       "    <tr style=\"text-align: right;\">\n",
       "      <th></th>\n",
       "      <th>Id</th>\n",
       "      <th>ProdutoId</th>\n",
       "    </tr>\n",
       "  </thead>\n",
       "  <tbody>\n",
       "    <tr>\n",
       "      <td>0</td>\n",
       "      <td>$2b$10$.DCvvJ9WSDpqVP2xXjeSPe9yBilu2JVQh2nFTHN...</td>\n",
       "      <td>a0W6A000009GZdgUAG</td>\n",
       "    </tr>\n",
       "    <tr>\n",
       "      <td>1</td>\n",
       "      <td>$2b$10$.DCvvJ9WSDpqVP2xXjeSPeR6I3TrUCl/MAePvQQ...</td>\n",
       "      <td>a0W6A000009GZdgUAG</td>\n",
       "    </tr>\n",
       "    <tr>\n",
       "      <td>2</td>\n",
       "      <td>$2b$10$.DCvvJ9WSDpqVP2xXjeSPeR6I3TrUCl/MAePvQQ...</td>\n",
       "      <td>a0W6A000009GZdgUAG</td>\n",
       "    </tr>\n",
       "    <tr>\n",
       "      <td>3</td>\n",
       "      <td>$2b$10$.DCvvJ9WSDpqVP2xXjeSPeR6I3TrUCl/MAePvQQ...</td>\n",
       "      <td>a0W6A000009GZdgUAG</td>\n",
       "    </tr>\n",
       "    <tr>\n",
       "      <td>4</td>\n",
       "      <td>$2b$10$.DCvvJ9WSDpqVP2xXjeSPeR6I3TrUCl/MAePvQQ...</td>\n",
       "      <td>a0W6A000009GZdgUAG</td>\n",
       "    </tr>\n",
       "  </tbody>\n",
       "</table>\n",
       "</div>"
      ],
      "text/plain": [
       "                                                  Id           ProdutoId\n",
       "0  $2b$10$.DCvvJ9WSDpqVP2xXjeSPe9yBilu2JVQh2nFTHN...  a0W6A000009GZdgUAG\n",
       "1  $2b$10$.DCvvJ9WSDpqVP2xXjeSPeR6I3TrUCl/MAePvQQ...  a0W6A000009GZdgUAG\n",
       "2  $2b$10$.DCvvJ9WSDpqVP2xXjeSPeR6I3TrUCl/MAePvQQ...  a0W6A000009GZdgUAG\n",
       "3  $2b$10$.DCvvJ9WSDpqVP2xXjeSPeR6I3TrUCl/MAePvQQ...  a0W6A000009GZdgUAG\n",
       "4  $2b$10$.DCvvJ9WSDpqVP2xXjeSPeR6I3TrUCl/MAePvQQ...  a0W6A000009GZdgUAG"
      ]
     },
     "execution_count": 7,
     "metadata": {},
     "output_type": "execute_result"
    }
   ],
   "source": [
    "df_compras.head()"
   ]
  },
  {
   "cell_type": "code",
   "execution_count": 11,
   "metadata": {},
   "outputs": [],
   "source": [
    "df_compras_custer_clientes = df_compras.merge(df_cluster_clientes[['Id', 'cluster']], on='Id', how='left')"
   ]
  },
  {
   "cell_type": "code",
   "execution_count": 13,
   "metadata": {},
   "outputs": [],
   "source": [
    "df_compras_custer_clientes.rename(columns={'cluster':'cluster_clientes'}, inplace=True)"
   ]
  },
  {
   "cell_type": "code",
   "execution_count": 14,
   "metadata": {},
   "outputs": [],
   "source": [
    "df_compras_custer_fixa = df_compras_custer_clientes.merge(df_produtos_fixa[['ProdutoId', 'cluster']], on='ProdutoId', how='left')"
   ]
  },
  {
   "cell_type": "code",
   "execution_count": 15,
   "metadata": {},
   "outputs": [
    {
     "data": {
      "text/html": [
       "<div>\n",
       "<style scoped>\n",
       "    .dataframe tbody tr th:only-of-type {\n",
       "        vertical-align: middle;\n",
       "    }\n",
       "\n",
       "    .dataframe tbody tr th {\n",
       "        vertical-align: top;\n",
       "    }\n",
       "\n",
       "    .dataframe thead th {\n",
       "        text-align: right;\n",
       "    }\n",
       "</style>\n",
       "<table border=\"1\" class=\"dataframe\">\n",
       "  <thead>\n",
       "    <tr style=\"text-align: right;\">\n",
       "      <th></th>\n",
       "      <th>Id</th>\n",
       "      <th>ProdutoId</th>\n",
       "      <th>cluster_clientes</th>\n",
       "      <th>cluster</th>\n",
       "    </tr>\n",
       "  </thead>\n",
       "  <tbody>\n",
       "    <tr>\n",
       "      <td>0</td>\n",
       "      <td>$2b$10$.DCvvJ9WSDpqVP2xXjeSPe9yBilu2JVQh2nFTHN...</td>\n",
       "      <td>a0W6A000009GZdgUAG</td>\n",
       "      <td>3.0</td>\n",
       "      <td>-1.0</td>\n",
       "    </tr>\n",
       "    <tr>\n",
       "      <td>1</td>\n",
       "      <td>$2b$10$.DCvvJ9WSDpqVP2xXjeSPeR6I3TrUCl/MAePvQQ...</td>\n",
       "      <td>a0W6A000009GZdgUAG</td>\n",
       "      <td>0.0</td>\n",
       "      <td>-1.0</td>\n",
       "    </tr>\n",
       "    <tr>\n",
       "      <td>2</td>\n",
       "      <td>$2b$10$.DCvvJ9WSDpqVP2xXjeSPeR6I3TrUCl/MAePvQQ...</td>\n",
       "      <td>a0W6A000009GZdgUAG</td>\n",
       "      <td>0.0</td>\n",
       "      <td>-1.0</td>\n",
       "    </tr>\n",
       "    <tr>\n",
       "      <td>3</td>\n",
       "      <td>$2b$10$.DCvvJ9WSDpqVP2xXjeSPeR6I3TrUCl/MAePvQQ...</td>\n",
       "      <td>a0W6A000009GZdgUAG</td>\n",
       "      <td>0.0</td>\n",
       "      <td>-1.0</td>\n",
       "    </tr>\n",
       "    <tr>\n",
       "      <td>4</td>\n",
       "      <td>$2b$10$.DCvvJ9WSDpqVP2xXjeSPeR6I3TrUCl/MAePvQQ...</td>\n",
       "      <td>a0W6A000009GZdgUAG</td>\n",
       "      <td>0.0</td>\n",
       "      <td>-1.0</td>\n",
       "    </tr>\n",
       "  </tbody>\n",
       "</table>\n",
       "</div>"
      ],
      "text/plain": [
       "                                                  Id           ProdutoId  \\\n",
       "0  $2b$10$.DCvvJ9WSDpqVP2xXjeSPe9yBilu2JVQh2nFTHN...  a0W6A000009GZdgUAG   \n",
       "1  $2b$10$.DCvvJ9WSDpqVP2xXjeSPeR6I3TrUCl/MAePvQQ...  a0W6A000009GZdgUAG   \n",
       "2  $2b$10$.DCvvJ9WSDpqVP2xXjeSPeR6I3TrUCl/MAePvQQ...  a0W6A000009GZdgUAG   \n",
       "3  $2b$10$.DCvvJ9WSDpqVP2xXjeSPeR6I3TrUCl/MAePvQQ...  a0W6A000009GZdgUAG   \n",
       "4  $2b$10$.DCvvJ9WSDpqVP2xXjeSPeR6I3TrUCl/MAePvQQ...  a0W6A000009GZdgUAG   \n",
       "\n",
       "   cluster_clientes  cluster  \n",
       "0               3.0     -1.0  \n",
       "1               0.0     -1.0  \n",
       "2               0.0     -1.0  \n",
       "3               0.0     -1.0  \n",
       "4               0.0     -1.0  "
      ]
     },
     "execution_count": 15,
     "metadata": {},
     "output_type": "execute_result"
    }
   ],
   "source": [
    "df_compras_custer_fixa.head()"
   ]
  },
  {
   "cell_type": "code",
   "execution_count": 16,
   "metadata": {},
   "outputs": [],
   "source": [
    "df_compras_custer_fixa.rename(columns={'cluster':'cluster_fixa'}, inplace=True)"
   ]
  },
  {
   "cell_type": "code",
   "execution_count": 17,
   "metadata": {},
   "outputs": [],
   "source": [
    "df_compras_final = df_compras_custer_fixa.merge(df_produtos_fundos[['ProdutoId', 'cluster']], on='ProdutoId', how='left')"
   ]
  },
  {
   "cell_type": "code",
   "execution_count": 18,
   "metadata": {},
   "outputs": [],
   "source": [
    "df_compras_final.rename(columns={'cluster':'cluster_fundos'}, inplace=True)"
   ]
  },
  {
   "cell_type": "code",
   "execution_count": 19,
   "metadata": {},
   "outputs": [
    {
     "data": {
      "text/html": [
       "<div>\n",
       "<style scoped>\n",
       "    .dataframe tbody tr th:only-of-type {\n",
       "        vertical-align: middle;\n",
       "    }\n",
       "\n",
       "    .dataframe tbody tr th {\n",
       "        vertical-align: top;\n",
       "    }\n",
       "\n",
       "    .dataframe thead th {\n",
       "        text-align: right;\n",
       "    }\n",
       "</style>\n",
       "<table border=\"1\" class=\"dataframe\">\n",
       "  <thead>\n",
       "    <tr style=\"text-align: right;\">\n",
       "      <th></th>\n",
       "      <th>Id</th>\n",
       "      <th>ProdutoId</th>\n",
       "      <th>cluster_clientes</th>\n",
       "      <th>cluster_fixa</th>\n",
       "      <th>cluster_fundos</th>\n",
       "    </tr>\n",
       "  </thead>\n",
       "  <tbody>\n",
       "    <tr>\n",
       "      <td>0</td>\n",
       "      <td>$2b$10$.DCvvJ9WSDpqVP2xXjeSPe9yBilu2JVQh2nFTHN...</td>\n",
       "      <td>a0W6A000009GZdgUAG</td>\n",
       "      <td>3.0</td>\n",
       "      <td>-1.0</td>\n",
       "      <td>NaN</td>\n",
       "    </tr>\n",
       "    <tr>\n",
       "      <td>1</td>\n",
       "      <td>$2b$10$.DCvvJ9WSDpqVP2xXjeSPeR6I3TrUCl/MAePvQQ...</td>\n",
       "      <td>a0W6A000009GZdgUAG</td>\n",
       "      <td>0.0</td>\n",
       "      <td>-1.0</td>\n",
       "      <td>NaN</td>\n",
       "    </tr>\n",
       "    <tr>\n",
       "      <td>2</td>\n",
       "      <td>$2b$10$.DCvvJ9WSDpqVP2xXjeSPeR6I3TrUCl/MAePvQQ...</td>\n",
       "      <td>a0W6A000009GZdgUAG</td>\n",
       "      <td>0.0</td>\n",
       "      <td>-1.0</td>\n",
       "      <td>NaN</td>\n",
       "    </tr>\n",
       "    <tr>\n",
       "      <td>3</td>\n",
       "      <td>$2b$10$.DCvvJ9WSDpqVP2xXjeSPeR6I3TrUCl/MAePvQQ...</td>\n",
       "      <td>a0W6A000009GZdgUAG</td>\n",
       "      <td>0.0</td>\n",
       "      <td>-1.0</td>\n",
       "      <td>NaN</td>\n",
       "    </tr>\n",
       "    <tr>\n",
       "      <td>4</td>\n",
       "      <td>$2b$10$.DCvvJ9WSDpqVP2xXjeSPeR6I3TrUCl/MAePvQQ...</td>\n",
       "      <td>a0W6A000009GZdgUAG</td>\n",
       "      <td>0.0</td>\n",
       "      <td>-1.0</td>\n",
       "      <td>NaN</td>\n",
       "    </tr>\n",
       "  </tbody>\n",
       "</table>\n",
       "</div>"
      ],
      "text/plain": [
       "                                                  Id           ProdutoId  \\\n",
       "0  $2b$10$.DCvvJ9WSDpqVP2xXjeSPe9yBilu2JVQh2nFTHN...  a0W6A000009GZdgUAG   \n",
       "1  $2b$10$.DCvvJ9WSDpqVP2xXjeSPeR6I3TrUCl/MAePvQQ...  a0W6A000009GZdgUAG   \n",
       "2  $2b$10$.DCvvJ9WSDpqVP2xXjeSPeR6I3TrUCl/MAePvQQ...  a0W6A000009GZdgUAG   \n",
       "3  $2b$10$.DCvvJ9WSDpqVP2xXjeSPeR6I3TrUCl/MAePvQQ...  a0W6A000009GZdgUAG   \n",
       "4  $2b$10$.DCvvJ9WSDpqVP2xXjeSPeR6I3TrUCl/MAePvQQ...  a0W6A000009GZdgUAG   \n",
       "\n",
       "   cluster_clientes  cluster_fixa  cluster_fundos  \n",
       "0               3.0          -1.0             NaN  \n",
       "1               0.0          -1.0             NaN  \n",
       "2               0.0          -1.0             NaN  \n",
       "3               0.0          -1.0             NaN  \n",
       "4               0.0          -1.0             NaN  "
      ]
     },
     "execution_count": 19,
     "metadata": {},
     "output_type": "execute_result"
    }
   ],
   "source": [
    "df_compras_final.head()"
   ]
  },
  {
   "cell_type": "markdown",
   "metadata": {},
   "source": [
    "# Recomendação Renda Fixa"
   ]
  },
  {
   "cell_type": "code",
   "execution_count": 30,
   "metadata": {},
   "outputs": [],
   "source": [
    "df_compras_final = df_compras_final.query('cluster_fundos != \"NaN\" or cluster_fixa != \"NaN\"')"
   ]
  },
  {
   "cell_type": "code",
   "execution_count": 34,
   "metadata": {},
   "outputs": [
    {
     "name": "stderr",
     "output_type": "stream",
     "text": [
      "/home/vinicius/.pyenv/versions/3.7.4/lib/python3.7/site-packages/ipykernel_launcher.py:1: SettingWithCopyWarning: \n",
      "A value is trying to be set on a copy of a slice from a DataFrame\n",
      "\n",
      "See the caveats in the documentation: http://pandas.pydata.org/pandas-docs/stable/user_guide/indexing.html#returning-a-view-versus-a-copy\n",
      "  \"\"\"Entry point for launching an IPython kernel.\n"
     ]
    }
   ],
   "source": [
    "df_compras_final.dropna(subset=['cluster_clientes'], inplace=True)"
   ]
  },
  {
   "cell_type": "code",
   "execution_count": 35,
   "metadata": {},
   "outputs": [
    {
     "data": {
      "text/plain": [
       "Id                      0\n",
       "ProdutoId               0\n",
       "cluster_clientes        0\n",
       "cluster_fixa         5442\n",
       "cluster_fundos      29961\n",
       "dtype: int64"
      ]
     },
     "execution_count": 35,
     "metadata": {},
     "output_type": "execute_result"
    }
   ],
   "source": [
    "df_compras_final.isnull().sum()"
   ]
  },
  {
   "cell_type": "code",
   "execution_count": 39,
   "metadata": {},
   "outputs": [],
   "source": [
    "df_rec_fixa = df_compras_final.query('cluster_fixa != \"NaN\"')"
   ]
  },
  {
   "cell_type": "code",
   "execution_count": 40,
   "metadata": {},
   "outputs": [
    {
     "data": {
      "text/plain": [
       "(29961, 5)"
      ]
     },
     "execution_count": 40,
     "metadata": {},
     "output_type": "execute_result"
    }
   ],
   "source": [
    "df_rec_fixa.shape"
   ]
  },
  {
   "cell_type": "code",
   "execution_count": 41,
   "metadata": {},
   "outputs": [
    {
     "data": {
      "text/html": [
       "<div>\n",
       "<style scoped>\n",
       "    .dataframe tbody tr th:only-of-type {\n",
       "        vertical-align: middle;\n",
       "    }\n",
       "\n",
       "    .dataframe tbody tr th {\n",
       "        vertical-align: top;\n",
       "    }\n",
       "\n",
       "    .dataframe thead th {\n",
       "        text-align: right;\n",
       "    }\n",
       "</style>\n",
       "<table border=\"1\" class=\"dataframe\">\n",
       "  <thead>\n",
       "    <tr style=\"text-align: right;\">\n",
       "      <th></th>\n",
       "      <th>Id</th>\n",
       "      <th>ProdutoId</th>\n",
       "      <th>cluster_clientes</th>\n",
       "      <th>cluster_fixa</th>\n",
       "      <th>cluster_fundos</th>\n",
       "    </tr>\n",
       "  </thead>\n",
       "  <tbody>\n",
       "    <tr>\n",
       "      <td>0</td>\n",
       "      <td>$2b$10$.DCvvJ9WSDpqVP2xXjeSPe9yBilu2JVQh2nFTHN...</td>\n",
       "      <td>a0W6A000009GZdgUAG</td>\n",
       "      <td>3.0</td>\n",
       "      <td>-1.0</td>\n",
       "      <td>NaN</td>\n",
       "    </tr>\n",
       "    <tr>\n",
       "      <td>1</td>\n",
       "      <td>$2b$10$.DCvvJ9WSDpqVP2xXjeSPeR6I3TrUCl/MAePvQQ...</td>\n",
       "      <td>a0W6A000009GZdgUAG</td>\n",
       "      <td>0.0</td>\n",
       "      <td>-1.0</td>\n",
       "      <td>NaN</td>\n",
       "    </tr>\n",
       "    <tr>\n",
       "      <td>2</td>\n",
       "      <td>$2b$10$.DCvvJ9WSDpqVP2xXjeSPeR6I3TrUCl/MAePvQQ...</td>\n",
       "      <td>a0W6A000009GZdgUAG</td>\n",
       "      <td>0.0</td>\n",
       "      <td>-1.0</td>\n",
       "      <td>NaN</td>\n",
       "    </tr>\n",
       "    <tr>\n",
       "      <td>3</td>\n",
       "      <td>$2b$10$.DCvvJ9WSDpqVP2xXjeSPeR6I3TrUCl/MAePvQQ...</td>\n",
       "      <td>a0W6A000009GZdgUAG</td>\n",
       "      <td>0.0</td>\n",
       "      <td>-1.0</td>\n",
       "      <td>NaN</td>\n",
       "    </tr>\n",
       "    <tr>\n",
       "      <td>4</td>\n",
       "      <td>$2b$10$.DCvvJ9WSDpqVP2xXjeSPeR6I3TrUCl/MAePvQQ...</td>\n",
       "      <td>a0W6A000009GZdgUAG</td>\n",
       "      <td>0.0</td>\n",
       "      <td>-1.0</td>\n",
       "      <td>NaN</td>\n",
       "    </tr>\n",
       "  </tbody>\n",
       "</table>\n",
       "</div>"
      ],
      "text/plain": [
       "                                                  Id           ProdutoId  \\\n",
       "0  $2b$10$.DCvvJ9WSDpqVP2xXjeSPe9yBilu2JVQh2nFTHN...  a0W6A000009GZdgUAG   \n",
       "1  $2b$10$.DCvvJ9WSDpqVP2xXjeSPeR6I3TrUCl/MAePvQQ...  a0W6A000009GZdgUAG   \n",
       "2  $2b$10$.DCvvJ9WSDpqVP2xXjeSPeR6I3TrUCl/MAePvQQ...  a0W6A000009GZdgUAG   \n",
       "3  $2b$10$.DCvvJ9WSDpqVP2xXjeSPeR6I3TrUCl/MAePvQQ...  a0W6A000009GZdgUAG   \n",
       "4  $2b$10$.DCvvJ9WSDpqVP2xXjeSPeR6I3TrUCl/MAePvQQ...  a0W6A000009GZdgUAG   \n",
       "\n",
       "   cluster_clientes  cluster_fixa  cluster_fundos  \n",
       "0               3.0          -1.0             NaN  \n",
       "1               0.0          -1.0             NaN  \n",
       "2               0.0          -1.0             NaN  \n",
       "3               0.0          -1.0             NaN  \n",
       "4               0.0          -1.0             NaN  "
      ]
     },
     "execution_count": 41,
     "metadata": {},
     "output_type": "execute_result"
    }
   ],
   "source": [
    "df_rec_fixa.head()"
   ]
  },
  {
   "cell_type": "code",
   "execution_count": 50,
   "metadata": {},
   "outputs": [
    {
     "name": "stderr",
     "output_type": "stream",
     "text": [
      "/home/vinicius/.pyenv/versions/3.7.4/lib/python3.7/site-packages/ipykernel_launcher.py:1: SettingWithCopyWarning: \n",
      "A value is trying to be set on a copy of a slice from a DataFrame.\n",
      "Try using .loc[row_indexer,col_indexer] = value instead\n",
      "\n",
      "See the caveats in the documentation: http://pandas.pydata.org/pandas-docs/stable/user_guide/indexing.html#returning-a-view-versus-a-copy\n",
      "  \"\"\"Entry point for launching an IPython kernel.\n"
     ]
    }
   ],
   "source": [
    "df_rec_fixa['cluster_fixa'] = df_rec_fixa['cluster_fixa'].astype(int).astype(str)"
   ]
  },
  {
   "cell_type": "code",
   "execution_count": 421,
   "metadata": {},
   "outputs": [
    {
     "data": {
      "text/html": [
       "<div>\n",
       "<style scoped>\n",
       "    .dataframe tbody tr th:only-of-type {\n",
       "        vertical-align: middle;\n",
       "    }\n",
       "\n",
       "    .dataframe tbody tr th {\n",
       "        vertical-align: top;\n",
       "    }\n",
       "\n",
       "    .dataframe thead th {\n",
       "        text-align: right;\n",
       "    }\n",
       "</style>\n",
       "<table border=\"1\" class=\"dataframe\">\n",
       "  <thead>\n",
       "    <tr style=\"text-align: right;\">\n",
       "      <th></th>\n",
       "      <th>Id</th>\n",
       "      <th>ProdutoId</th>\n",
       "      <th>cluster_clientes</th>\n",
       "      <th>cluster_fixa</th>\n",
       "      <th>cluster_fundos</th>\n",
       "    </tr>\n",
       "  </thead>\n",
       "  <tbody>\n",
       "    <tr>\n",
       "      <td>0</td>\n",
       "      <td>$2b$10$.DCvvJ9WSDpqVP2xXjeSPe9yBilu2JVQh2nFTHN...</td>\n",
       "      <td>a0W6A000009GZdgUAG</td>\n",
       "      <td>3.0</td>\n",
       "      <td>-1</td>\n",
       "      <td>NaN</td>\n",
       "    </tr>\n",
       "    <tr>\n",
       "      <td>1</td>\n",
       "      <td>$2b$10$.DCvvJ9WSDpqVP2xXjeSPeR6I3TrUCl/MAePvQQ...</td>\n",
       "      <td>a0W6A000009GZdgUAG</td>\n",
       "      <td>0.0</td>\n",
       "      <td>-1</td>\n",
       "      <td>NaN</td>\n",
       "    </tr>\n",
       "    <tr>\n",
       "      <td>2</td>\n",
       "      <td>$2b$10$.DCvvJ9WSDpqVP2xXjeSPeR6I3TrUCl/MAePvQQ...</td>\n",
       "      <td>a0W6A000009GZdgUAG</td>\n",
       "      <td>0.0</td>\n",
       "      <td>-1</td>\n",
       "      <td>NaN</td>\n",
       "    </tr>\n",
       "    <tr>\n",
       "      <td>3</td>\n",
       "      <td>$2b$10$.DCvvJ9WSDpqVP2xXjeSPeR6I3TrUCl/MAePvQQ...</td>\n",
       "      <td>a0W6A000009GZdgUAG</td>\n",
       "      <td>0.0</td>\n",
       "      <td>-1</td>\n",
       "      <td>NaN</td>\n",
       "    </tr>\n",
       "    <tr>\n",
       "      <td>4</td>\n",
       "      <td>$2b$10$.DCvvJ9WSDpqVP2xXjeSPeR6I3TrUCl/MAePvQQ...</td>\n",
       "      <td>a0W6A000009GZdgUAG</td>\n",
       "      <td>0.0</td>\n",
       "      <td>-1</td>\n",
       "      <td>NaN</td>\n",
       "    </tr>\n",
       "    <tr>\n",
       "      <td>...</td>\n",
       "      <td>...</td>\n",
       "      <td>...</td>\n",
       "      <td>...</td>\n",
       "      <td>...</td>\n",
       "      <td>...</td>\n",
       "    </tr>\n",
       "    <tr>\n",
       "      <td>38080</td>\n",
       "      <td>$2b$10$.DCvvJ9WSDpqVP2xXjeSPeb5uDkvii4bLVXuKwX...</td>\n",
       "      <td>a0W6A000009GZdgUAG</td>\n",
       "      <td>2.0</td>\n",
       "      <td>-1</td>\n",
       "      <td>NaN</td>\n",
       "    </tr>\n",
       "    <tr>\n",
       "      <td>38081</td>\n",
       "      <td>$2b$10$.DCvvJ9WSDpqVP2xXjeSPeb5uDkvii4bLVXuKwX...</td>\n",
       "      <td>a0W6A000008FwYQUA0</td>\n",
       "      <td>2.0</td>\n",
       "      <td>2</td>\n",
       "      <td>NaN</td>\n",
       "    </tr>\n",
       "    <tr>\n",
       "      <td>38097</td>\n",
       "      <td>$2b$10$.DCvvJ9WSDpqVP2xXjeSPeJ/SmDXRVoa03nJIT4...</td>\n",
       "      <td>a0W6A000009ai38UAA</td>\n",
       "      <td>0.0</td>\n",
       "      <td>-1</td>\n",
       "      <td>NaN</td>\n",
       "    </tr>\n",
       "    <tr>\n",
       "      <td>38098</td>\n",
       "      <td>$2b$10$.DCvvJ9WSDpqVP2xXjeSPeJ/SmDXRVoa03nJIT4...</td>\n",
       "      <td>a0W6A000009ai38UAA</td>\n",
       "      <td>0.0</td>\n",
       "      <td>-1</td>\n",
       "      <td>NaN</td>\n",
       "    </tr>\n",
       "    <tr>\n",
       "      <td>38100</td>\n",
       "      <td>$2b$10$.DCvvJ9WSDpqVP2xXjeSPeJ/SmDXRVoa03nJIT4...</td>\n",
       "      <td>a0W6A000009ai38UAA</td>\n",
       "      <td>0.0</td>\n",
       "      <td>-1</td>\n",
       "      <td>NaN</td>\n",
       "    </tr>\n",
       "  </tbody>\n",
       "</table>\n",
       "<p>29961 rows × 5 columns</p>\n",
       "</div>"
      ],
      "text/plain": [
       "                                                      Id           ProdutoId  \\\n",
       "0      $2b$10$.DCvvJ9WSDpqVP2xXjeSPe9yBilu2JVQh2nFTHN...  a0W6A000009GZdgUAG   \n",
       "1      $2b$10$.DCvvJ9WSDpqVP2xXjeSPeR6I3TrUCl/MAePvQQ...  a0W6A000009GZdgUAG   \n",
       "2      $2b$10$.DCvvJ9WSDpqVP2xXjeSPeR6I3TrUCl/MAePvQQ...  a0W6A000009GZdgUAG   \n",
       "3      $2b$10$.DCvvJ9WSDpqVP2xXjeSPeR6I3TrUCl/MAePvQQ...  a0W6A000009GZdgUAG   \n",
       "4      $2b$10$.DCvvJ9WSDpqVP2xXjeSPeR6I3TrUCl/MAePvQQ...  a0W6A000009GZdgUAG   \n",
       "...                                                  ...                 ...   \n",
       "38080  $2b$10$.DCvvJ9WSDpqVP2xXjeSPeb5uDkvii4bLVXuKwX...  a0W6A000009GZdgUAG   \n",
       "38081  $2b$10$.DCvvJ9WSDpqVP2xXjeSPeb5uDkvii4bLVXuKwX...  a0W6A000008FwYQUA0   \n",
       "38097  $2b$10$.DCvvJ9WSDpqVP2xXjeSPeJ/SmDXRVoa03nJIT4...  a0W6A000009ai38UAA   \n",
       "38098  $2b$10$.DCvvJ9WSDpqVP2xXjeSPeJ/SmDXRVoa03nJIT4...  a0W6A000009ai38UAA   \n",
       "38100  $2b$10$.DCvvJ9WSDpqVP2xXjeSPeJ/SmDXRVoa03nJIT4...  a0W6A000009ai38UAA   \n",
       "\n",
       "       cluster_clientes cluster_fixa  cluster_fundos  \n",
       "0                   3.0           -1             NaN  \n",
       "1                   0.0           -1             NaN  \n",
       "2                   0.0           -1             NaN  \n",
       "3                   0.0           -1             NaN  \n",
       "4                   0.0           -1             NaN  \n",
       "...                 ...          ...             ...  \n",
       "38080               2.0           -1             NaN  \n",
       "38081               2.0            2             NaN  \n",
       "38097               0.0           -1             NaN  \n",
       "38098               0.0           -1             NaN  \n",
       "38100               0.0           -1             NaN  \n",
       "\n",
       "[29961 rows x 5 columns]"
      ]
     },
     "execution_count": 421,
     "metadata": {},
     "output_type": "execute_result"
    }
   ],
   "source": [
    "df_rec_fixa"
   ]
  },
  {
   "cell_type": "code",
   "execution_count": 52,
   "metadata": {},
   "outputs": [],
   "source": [
    "df_rec_fixa_grouped = df_rec_fixa.groupby(['cluster_clientes'])['cluster_fixa'].apply(lambda x: '|'.join(x)).reset_index()"
   ]
  },
  {
   "cell_type": "code",
   "execution_count": 54,
   "metadata": {},
   "outputs": [
    {
     "data": {
      "text/plain": [
       "(10, 2)"
      ]
     },
     "execution_count": 54,
     "metadata": {},
     "output_type": "execute_result"
    }
   ],
   "source": [
    "df_rec_fixa_grouped.shape"
   ]
  },
  {
   "cell_type": "code",
   "execution_count": 117,
   "metadata": {},
   "outputs": [
    {
     "data": {
      "text/html": [
       "<div>\n",
       "<style scoped>\n",
       "    .dataframe tbody tr th:only-of-type {\n",
       "        vertical-align: middle;\n",
       "    }\n",
       "\n",
       "    .dataframe tbody tr th {\n",
       "        vertical-align: top;\n",
       "    }\n",
       "\n",
       "    .dataframe thead th {\n",
       "        text-align: right;\n",
       "    }\n",
       "</style>\n",
       "<table border=\"1\" class=\"dataframe\">\n",
       "  <thead>\n",
       "    <tr style=\"text-align: right;\">\n",
       "      <th></th>\n",
       "      <th>customerId</th>\n",
       "      <th>products</th>\n",
       "    </tr>\n",
       "  </thead>\n",
       "  <tbody>\n",
       "    <tr>\n",
       "      <td>0</td>\n",
       "      <td>0.0</td>\n",
       "      <td>-1|-1|-1|-1|-1|-1|-1|1|2|1|-1|-1|-1|-1|-1|-1|-...</td>\n",
       "    </tr>\n",
       "    <tr>\n",
       "      <td>1</td>\n",
       "      <td>1.0</td>\n",
       "      <td>-1|1|1|1|1|1|-1|-1|-1|-1|-1|-1|-1|1|1|1|-1|1|-...</td>\n",
       "    </tr>\n",
       "    <tr>\n",
       "      <td>2</td>\n",
       "      <td>2.0</td>\n",
       "      <td>1|1|2|1|1|1|1|2|-1|2|2|1|2|2|2|-1|2|1|-1|1|1|1...</td>\n",
       "    </tr>\n",
       "    <tr>\n",
       "      <td>3</td>\n",
       "      <td>3.0</td>\n",
       "      <td>-1|2|2|2|0|1|-1|-1|1|-1|-1|-1|-1|-1|-1|2|-1|2|...</td>\n",
       "    </tr>\n",
       "    <tr>\n",
       "      <td>4</td>\n",
       "      <td>4.0</td>\n",
       "      <td>1|1|2|0|2|2|0|0|0|0|0|0|0|0|0|0|0|0|0|0|0|0|0|...</td>\n",
       "    </tr>\n",
       "  </tbody>\n",
       "</table>\n",
       "</div>"
      ],
      "text/plain": [
       "   customerId                                           products\n",
       "0         0.0  -1|-1|-1|-1|-1|-1|-1|1|2|1|-1|-1|-1|-1|-1|-1|-...\n",
       "1         1.0  -1|1|1|1|1|1|-1|-1|-1|-1|-1|-1|-1|1|1|1|-1|1|-...\n",
       "2         2.0  1|1|2|1|1|1|1|2|-1|2|2|1|2|2|2|-1|2|1|-1|1|1|1...\n",
       "3         3.0  -1|2|2|2|0|1|-1|-1|1|-1|-1|-1|-1|-1|-1|2|-1|2|...\n",
       "4         4.0  1|1|2|0|2|2|0|0|0|0|0|0|0|0|0|0|0|0|0|0|0|0|0|..."
      ]
     },
     "execution_count": 117,
     "metadata": {},
     "output_type": "execute_result"
    }
   ],
   "source": [
    "df_rec_fixa_grouped.head()"
   ]
  },
  {
   "cell_type": "code",
   "execution_count": null,
   "metadata": {},
   "outputs": [],
   "source": [
    "df_rec_fixa_grouped.rename(columns={'cluster_clientes':'customerId','cluster_fixa':'products'}, inplace=True)"
   ]
  },
  {
   "cell_type": "code",
   "execution_count": 331,
   "metadata": {},
   "outputs": [],
   "source": [
    "def count_products(row):\n",
    "    arr = row['products'].split('|')\n",
    "    row['produtoId'] = arr\n",
    "    return row\n",
    "    "
   ]
  },
  {
   "cell_type": "code",
   "execution_count": 333,
   "metadata": {},
   "outputs": [],
   "source": [
    "data = df_rec_fixa_grouped.set_index('customerId').apply(count_products, axis = 1)[['produtoId']].reset_index() \\\n",
    ".explode('produtoId') \\\n",
    ".groupby(['customerId', 'produtoId']).agg({'produtoId': 'count'})\\\n",
    ".rename(columns={'produtoId': 'purchase_count'}) \\\n",
    ".reset_index()"
   ]
  },
  {
   "cell_type": "code",
   "execution_count": 334,
   "metadata": {},
   "outputs": [
    {
     "data": {
      "text/html": [
       "<div>\n",
       "<style scoped>\n",
       "    .dataframe tbody tr th:only-of-type {\n",
       "        vertical-align: middle;\n",
       "    }\n",
       "\n",
       "    .dataframe tbody tr th {\n",
       "        vertical-align: top;\n",
       "    }\n",
       "\n",
       "    .dataframe thead th {\n",
       "        text-align: right;\n",
       "    }\n",
       "</style>\n",
       "<table border=\"1\" class=\"dataframe\">\n",
       "  <thead>\n",
       "    <tr style=\"text-align: right;\">\n",
       "      <th></th>\n",
       "      <th>customerId</th>\n",
       "      <th>produtoId</th>\n",
       "      <th>purchase_count</th>\n",
       "    </tr>\n",
       "  </thead>\n",
       "  <tbody>\n",
       "    <tr>\n",
       "      <td>0</td>\n",
       "      <td>0.0</td>\n",
       "      <td>-1</td>\n",
       "      <td>4605</td>\n",
       "    </tr>\n",
       "    <tr>\n",
       "      <td>1</td>\n",
       "      <td>0.0</td>\n",
       "      <td>0</td>\n",
       "      <td>306</td>\n",
       "    </tr>\n",
       "    <tr>\n",
       "      <td>2</td>\n",
       "      <td>0.0</td>\n",
       "      <td>1</td>\n",
       "      <td>2002</td>\n",
       "    </tr>\n",
       "    <tr>\n",
       "      <td>3</td>\n",
       "      <td>0.0</td>\n",
       "      <td>2</td>\n",
       "      <td>1088</td>\n",
       "    </tr>\n",
       "    <tr>\n",
       "      <td>4</td>\n",
       "      <td>0.0</td>\n",
       "      <td>3</td>\n",
       "      <td>100</td>\n",
       "    </tr>\n",
       "  </tbody>\n",
       "</table>\n",
       "</div>"
      ],
      "text/plain": [
       "   customerId produtoId  purchase_count\n",
       "0         0.0        -1            4605\n",
       "1         0.0         0             306\n",
       "2         0.0         1            2002\n",
       "3         0.0         2            1088\n",
       "4         0.0         3             100"
      ]
     },
     "execution_count": 334,
     "metadata": {},
     "output_type": "execute_result"
    }
   ],
   "source": [
    "data.head()"
   ]
  },
  {
   "cell_type": "code",
   "execution_count": 380,
   "metadata": {},
   "outputs": [],
   "source": [
    "data['produtoId'] = data['produtoId'].astype(np.int64)\n",
    "data['customerId'] = data['customerId'].astype(np.int64)"
   ]
  },
  {
   "cell_type": "code",
   "execution_count": 381,
   "metadata": {},
   "outputs": [],
   "source": [
    "df_matrix =pd.pivot_table(data, values='purchase_count', index='customerId', columns='produtoId')"
   ]
  },
  {
   "cell_type": "code",
   "execution_count": 382,
   "metadata": {},
   "outputs": [
    {
     "data": {
      "text/html": [
       "<div>\n",
       "<style scoped>\n",
       "    .dataframe tbody tr th:only-of-type {\n",
       "        vertical-align: middle;\n",
       "    }\n",
       "\n",
       "    .dataframe tbody tr th {\n",
       "        vertical-align: top;\n",
       "    }\n",
       "\n",
       "    .dataframe thead th {\n",
       "        text-align: right;\n",
       "    }\n",
       "</style>\n",
       "<table border=\"1\" class=\"dataframe\">\n",
       "  <thead>\n",
       "    <tr style=\"text-align: right;\">\n",
       "      <th>produtoId</th>\n",
       "      <th>-1</th>\n",
       "      <th>0</th>\n",
       "      <th>1</th>\n",
       "      <th>2</th>\n",
       "      <th>3</th>\n",
       "    </tr>\n",
       "    <tr>\n",
       "      <th>customerId</th>\n",
       "      <th></th>\n",
       "      <th></th>\n",
       "      <th></th>\n",
       "      <th></th>\n",
       "      <th></th>\n",
       "    </tr>\n",
       "  </thead>\n",
       "  <tbody>\n",
       "    <tr>\n",
       "      <td>0</td>\n",
       "      <td>4605</td>\n",
       "      <td>306</td>\n",
       "      <td>2002</td>\n",
       "      <td>1088</td>\n",
       "      <td>100</td>\n",
       "    </tr>\n",
       "    <tr>\n",
       "      <td>1</td>\n",
       "      <td>1594</td>\n",
       "      <td>516</td>\n",
       "      <td>1059</td>\n",
       "      <td>482</td>\n",
       "      <td>109</td>\n",
       "    </tr>\n",
       "    <tr>\n",
       "      <td>2</td>\n",
       "      <td>2009</td>\n",
       "      <td>146</td>\n",
       "      <td>813</td>\n",
       "      <td>404</td>\n",
       "      <td>14</td>\n",
       "    </tr>\n",
       "    <tr>\n",
       "      <td>3</td>\n",
       "      <td>2551</td>\n",
       "      <td>303</td>\n",
       "      <td>1483</td>\n",
       "      <td>718</td>\n",
       "      <td>82</td>\n",
       "    </tr>\n",
       "    <tr>\n",
       "      <td>4</td>\n",
       "      <td>1190</td>\n",
       "      <td>595</td>\n",
       "      <td>961</td>\n",
       "      <td>740</td>\n",
       "      <td>112</td>\n",
       "    </tr>\n",
       "    <tr>\n",
       "      <td>5</td>\n",
       "      <td>76</td>\n",
       "      <td>97</td>\n",
       "      <td>80</td>\n",
       "      <td>21</td>\n",
       "      <td>30</td>\n",
       "    </tr>\n",
       "    <tr>\n",
       "      <td>6</td>\n",
       "      <td>1231</td>\n",
       "      <td>929</td>\n",
       "      <td>874</td>\n",
       "      <td>517</td>\n",
       "      <td>224</td>\n",
       "    </tr>\n",
       "    <tr>\n",
       "      <td>7</td>\n",
       "      <td>60</td>\n",
       "      <td>92</td>\n",
       "      <td>125</td>\n",
       "      <td>40</td>\n",
       "      <td>24</td>\n",
       "    </tr>\n",
       "    <tr>\n",
       "      <td>8</td>\n",
       "      <td>294</td>\n",
       "      <td>335</td>\n",
       "      <td>217</td>\n",
       "      <td>116</td>\n",
       "      <td>86</td>\n",
       "    </tr>\n",
       "    <tr>\n",
       "      <td>9</td>\n",
       "      <td>158</td>\n",
       "      <td>187</td>\n",
       "      <td>93</td>\n",
       "      <td>49</td>\n",
       "      <td>24</td>\n",
       "    </tr>\n",
       "  </tbody>\n",
       "</table>\n",
       "</div>"
      ],
      "text/plain": [
       "produtoId     -1    0     1     2    3\n",
       "customerId                            \n",
       "0           4605  306  2002  1088  100\n",
       "1           1594  516  1059   482  109\n",
       "2           2009  146   813   404   14\n",
       "3           2551  303  1483   718   82\n",
       "4           1190  595   961   740  112\n",
       "5             76   97    80    21   30\n",
       "6           1231  929   874   517  224\n",
       "7             60   92   125    40   24\n",
       "8            294  335   217   116   86\n",
       "9            158  187    93    49   24"
      ]
     },
     "execution_count": 382,
     "metadata": {},
     "output_type": "execute_result"
    }
   ],
   "source": [
    "df_matrix"
   ]
  },
  {
   "cell_type": "code",
   "execution_count": 383,
   "metadata": {},
   "outputs": [],
   "source": [
    "df_matrix_norm = (df_matrix-df_matrix.min())/(df_matrix.max()-df_matrix.min())"
   ]
  },
  {
   "cell_type": "code",
   "execution_count": 384,
   "metadata": {},
   "outputs": [
    {
     "data": {
      "text/html": [
       "<div>\n",
       "<style scoped>\n",
       "    .dataframe tbody tr th:only-of-type {\n",
       "        vertical-align: middle;\n",
       "    }\n",
       "\n",
       "    .dataframe tbody tr th {\n",
       "        vertical-align: top;\n",
       "    }\n",
       "\n",
       "    .dataframe thead th {\n",
       "        text-align: right;\n",
       "    }\n",
       "</style>\n",
       "<table border=\"1\" class=\"dataframe\">\n",
       "  <thead>\n",
       "    <tr style=\"text-align: right;\">\n",
       "      <th>produtoId</th>\n",
       "      <th>-1</th>\n",
       "      <th>0</th>\n",
       "      <th>1</th>\n",
       "      <th>2</th>\n",
       "      <th>3</th>\n",
       "    </tr>\n",
       "    <tr>\n",
       "      <th>customerId</th>\n",
       "      <th></th>\n",
       "      <th></th>\n",
       "      <th></th>\n",
       "      <th></th>\n",
       "      <th></th>\n",
       "    </tr>\n",
       "  </thead>\n",
       "  <tbody>\n",
       "    <tr>\n",
       "      <td>0</td>\n",
       "      <td>1.000000</td>\n",
       "      <td>0.255675</td>\n",
       "      <td>1.000000</td>\n",
       "      <td>1.000000</td>\n",
       "      <td>0.409524</td>\n",
       "    </tr>\n",
       "    <tr>\n",
       "      <td>1</td>\n",
       "      <td>0.337514</td>\n",
       "      <td>0.506571</td>\n",
       "      <td>0.509365</td>\n",
       "      <td>0.432052</td>\n",
       "      <td>0.452381</td>\n",
       "    </tr>\n",
       "    <tr>\n",
       "      <td>2</td>\n",
       "      <td>0.428823</td>\n",
       "      <td>0.064516</td>\n",
       "      <td>0.381374</td>\n",
       "      <td>0.358950</td>\n",
       "      <td>0.000000</td>\n",
       "    </tr>\n",
       "    <tr>\n",
       "      <td>3</td>\n",
       "      <td>0.548075</td>\n",
       "      <td>0.252091</td>\n",
       "      <td>0.729969</td>\n",
       "      <td>0.653233</td>\n",
       "      <td>0.323810</td>\n",
       "    </tr>\n",
       "    <tr>\n",
       "      <td>4</td>\n",
       "      <td>0.248625</td>\n",
       "      <td>0.600956</td>\n",
       "      <td>0.458377</td>\n",
       "      <td>0.673852</td>\n",
       "      <td>0.466667</td>\n",
       "    </tr>\n",
       "    <tr>\n",
       "      <td>5</td>\n",
       "      <td>0.003520</td>\n",
       "      <td>0.005974</td>\n",
       "      <td>0.000000</td>\n",
       "      <td>0.000000</td>\n",
       "      <td>0.076190</td>\n",
       "    </tr>\n",
       "    <tr>\n",
       "      <td>6</td>\n",
       "      <td>0.257646</td>\n",
       "      <td>1.000000</td>\n",
       "      <td>0.413111</td>\n",
       "      <td>0.464855</td>\n",
       "      <td>1.000000</td>\n",
       "    </tr>\n",
       "    <tr>\n",
       "      <td>7</td>\n",
       "      <td>0.000000</td>\n",
       "      <td>0.000000</td>\n",
       "      <td>0.023413</td>\n",
       "      <td>0.017807</td>\n",
       "      <td>0.047619</td>\n",
       "    </tr>\n",
       "    <tr>\n",
       "      <td>8</td>\n",
       "      <td>0.051485</td>\n",
       "      <td>0.290323</td>\n",
       "      <td>0.071280</td>\n",
       "      <td>0.089035</td>\n",
       "      <td>0.342857</td>\n",
       "    </tr>\n",
       "    <tr>\n",
       "      <td>9</td>\n",
       "      <td>0.021562</td>\n",
       "      <td>0.113501</td>\n",
       "      <td>0.006764</td>\n",
       "      <td>0.026242</td>\n",
       "      <td>0.047619</td>\n",
       "    </tr>\n",
       "  </tbody>\n",
       "</table>\n",
       "</div>"
      ],
      "text/plain": [
       "produtoId         -1         0         1         2         3\n",
       "customerId                                                  \n",
       "0           1.000000  0.255675  1.000000  1.000000  0.409524\n",
       "1           0.337514  0.506571  0.509365  0.432052  0.452381\n",
       "2           0.428823  0.064516  0.381374  0.358950  0.000000\n",
       "3           0.548075  0.252091  0.729969  0.653233  0.323810\n",
       "4           0.248625  0.600956  0.458377  0.673852  0.466667\n",
       "5           0.003520  0.005974  0.000000  0.000000  0.076190\n",
       "6           0.257646  1.000000  0.413111  0.464855  1.000000\n",
       "7           0.000000  0.000000  0.023413  0.017807  0.047619\n",
       "8           0.051485  0.290323  0.071280  0.089035  0.342857\n",
       "9           0.021562  0.113501  0.006764  0.026242  0.047619"
      ]
     },
     "execution_count": 384,
     "metadata": {},
     "output_type": "execute_result"
    }
   ],
   "source": [
    "df_matrix_norm"
   ]
  },
  {
   "cell_type": "code",
   "execution_count": 385,
   "metadata": {},
   "outputs": [
    {
     "name": "stdout",
     "output_type": "stream",
     "text": [
      "(50, 3)\n"
     ]
    }
   ],
   "source": [
    "d = df_matrix_norm.reset_index() \n",
    "d.index.names = ['scaled_purchase_freq'] \n",
    "data_norm = pd.melt(d, id_vars=['customerId'], value_name='scaled_purchase_freq').dropna()\n",
    "print(data_norm.shape)"
   ]
  },
  {
   "cell_type": "code",
   "execution_count": 386,
   "metadata": {},
   "outputs": [
    {
     "data": {
      "text/html": [
       "<div>\n",
       "<style scoped>\n",
       "    .dataframe tbody tr th:only-of-type {\n",
       "        vertical-align: middle;\n",
       "    }\n",
       "\n",
       "    .dataframe tbody tr th {\n",
       "        vertical-align: top;\n",
       "    }\n",
       "\n",
       "    .dataframe thead th {\n",
       "        text-align: right;\n",
       "    }\n",
       "</style>\n",
       "<table border=\"1\" class=\"dataframe\">\n",
       "  <thead>\n",
       "    <tr style=\"text-align: right;\">\n",
       "      <th></th>\n",
       "      <th>customerId</th>\n",
       "      <th>produtoId</th>\n",
       "      <th>scaled_purchase_freq</th>\n",
       "    </tr>\n",
       "  </thead>\n",
       "  <tbody>\n",
       "    <tr>\n",
       "      <td>0</td>\n",
       "      <td>0</td>\n",
       "      <td>-1</td>\n",
       "      <td>1.000000</td>\n",
       "    </tr>\n",
       "    <tr>\n",
       "      <td>1</td>\n",
       "      <td>1</td>\n",
       "      <td>-1</td>\n",
       "      <td>0.337514</td>\n",
       "    </tr>\n",
       "    <tr>\n",
       "      <td>2</td>\n",
       "      <td>2</td>\n",
       "      <td>-1</td>\n",
       "      <td>0.428823</td>\n",
       "    </tr>\n",
       "    <tr>\n",
       "      <td>3</td>\n",
       "      <td>3</td>\n",
       "      <td>-1</td>\n",
       "      <td>0.548075</td>\n",
       "    </tr>\n",
       "    <tr>\n",
       "      <td>4</td>\n",
       "      <td>4</td>\n",
       "      <td>-1</td>\n",
       "      <td>0.248625</td>\n",
       "    </tr>\n",
       "  </tbody>\n",
       "</table>\n",
       "</div>"
      ],
      "text/plain": [
       "   customerId produtoId  scaled_purchase_freq\n",
       "0           0        -1              1.000000\n",
       "1           1        -1              0.337514\n",
       "2           2        -1              0.428823\n",
       "3           3        -1              0.548075\n",
       "4           4        -1              0.248625"
      ]
     },
     "execution_count": 386,
     "metadata": {},
     "output_type": "execute_result"
    }
   ],
   "source": [
    "data_norm.head()"
   ]
  },
  {
   "cell_type": "code",
   "execution_count": 387,
   "metadata": {},
   "outputs": [],
   "source": [
    "def normalize_data(data):\n",
    "    df_matrix = pd.pivot_table(data, values='purchase_count', index='customerId', columns='productId')\n",
    "    df_matrix_norm = (df_matrix-df_matrix.min())/(df_matrix.max()-df_matrix.min())\n",
    "    d = df_matrix_norm.reset_index()\n",
    "    d.index.names = ['scaled_purchase_freq']\n",
    "    return pd.melt(d, id_vars=['customerId'], value_name='scaled_purchase_freq').dropna()"
   ]
  },
  {
   "cell_type": "code",
   "execution_count": 388,
   "metadata": {},
   "outputs": [],
   "source": [
    "def split_data(data):\n",
    "    '''\n",
    "    Splits dataset into training and test set.\n",
    "    \n",
    "    Args:\n",
    "        data (pandas.DataFrame)\n",
    "        \n",
    "    Returns\n",
    "        train_data (tc.SFrame)\n",
    "        test_data (tc.SFrame)\n",
    "    '''\n",
    "    train, test = train_test_split(data, test_size = .2)\n",
    "    train_data = tc.SFrame(train)\n",
    "    test_data = tc.SFrame(test)\n",
    "    return train_data, test_data"
   ]
  },
  {
   "cell_type": "code",
   "execution_count": 389,
   "metadata": {},
   "outputs": [],
   "source": [
    "train_data, test_data = split_data(data)\n",
    "train_data_norm, test_data_norm = split_data(data_norm)"
   ]
  },
  {
   "cell_type": "code",
   "execution_count": 404,
   "metadata": {},
   "outputs": [],
   "source": [
    "user_id = 'cluster_clientes'\n",
    "item_id = 'produtoId'\n",
    "users_to_recommend = list(df_rec_fixa[user_id])\n",
    "n_rec = 5 # number of items to recommend\n",
    "n_display = 50 # to display the first few rows in an output dataset"
   ]
  },
  {
   "cell_type": "code",
   "execution_count": 405,
   "metadata": {},
   "outputs": [],
   "source": [
    "def model(train_data, name, user_id, item_id, target, users_to_recommend, n_rec, n_display):\n",
    "    if name == 'popularity':\n",
    "        model = tc.popularity_recommender.create(train_data, \n",
    "                                                    user_id=user_id, \n",
    "                                                    item_id=item_id, \n",
    "                                                    target=target)\n",
    "    elif name == 'cosine':\n",
    "        model = tc.item_similarity_recommender.create(train_data, \n",
    "                                                    user_id=user_id, \n",
    "                                                    item_id=item_id, \n",
    "                                                    target=target, \n",
    "                                                    similarity_type='cosine')\n",
    "    elif name == 'pearson':\n",
    "            model = tc.item_similarity_recommender.create(train_data, \n",
    "                                                        user_id=user_id, \n",
    "                                                        item_id=item_id, \n",
    "                                                        target=target, \n",
    "                                                        similarity_type='pearson')\n",
    "\n",
    "    recom = model.recommend(users=users_to_recommend, k=n_rec)\n",
    "    recom.print_rows(n_display)\n",
    "    return model"
   ]
  },
  {
   "cell_type": "code",
   "execution_count": 406,
   "metadata": {},
   "outputs": [
    {
     "data": {
      "text/html": [
       "<div style=\"max-height:1000px;max-width:1500px;overflow:auto;\"><table frame=\"box\" rules=\"cols\">\n",
       "    <tr>\n",
       "        <th style=\"padding-left: 1em; padding-right: 1em; text-align: center\">customerId</th>\n",
       "        <th style=\"padding-left: 1em; padding-right: 1em; text-align: center\">produtoId</th>\n",
       "        <th style=\"padding-left: 1em; padding-right: 1em; text-align: center\">purchase_count</th>\n",
       "    </tr>\n",
       "    <tr>\n",
       "        <td style=\"padding-left: 1em; padding-right: 1em; text-align: center; vertical-align: top\">0</td>\n",
       "        <td style=\"padding-left: 1em; padding-right: 1em; text-align: center; vertical-align: top\">0</td>\n",
       "        <td style=\"padding-left: 1em; padding-right: 1em; text-align: center; vertical-align: top\">306</td>\n",
       "    </tr>\n",
       "    <tr>\n",
       "        <td style=\"padding-left: 1em; padding-right: 1em; text-align: center; vertical-align: top\">0</td>\n",
       "        <td style=\"padding-left: 1em; padding-right: 1em; text-align: center; vertical-align: top\">2</td>\n",
       "        <td style=\"padding-left: 1em; padding-right: 1em; text-align: center; vertical-align: top\">1088</td>\n",
       "    </tr>\n",
       "    <tr>\n",
       "        <td style=\"padding-left: 1em; padding-right: 1em; text-align: center; vertical-align: top\">1</td>\n",
       "        <td style=\"padding-left: 1em; padding-right: 1em; text-align: center; vertical-align: top\">3</td>\n",
       "        <td style=\"padding-left: 1em; padding-right: 1em; text-align: center; vertical-align: top\">109</td>\n",
       "    </tr>\n",
       "    <tr>\n",
       "        <td style=\"padding-left: 1em; padding-right: 1em; text-align: center; vertical-align: top\">3</td>\n",
       "        <td style=\"padding-left: 1em; padding-right: 1em; text-align: center; vertical-align: top\">0</td>\n",
       "        <td style=\"padding-left: 1em; padding-right: 1em; text-align: center; vertical-align: top\">303</td>\n",
       "    </tr>\n",
       "    <tr>\n",
       "        <td style=\"padding-left: 1em; padding-right: 1em; text-align: center; vertical-align: top\">5</td>\n",
       "        <td style=\"padding-left: 1em; padding-right: 1em; text-align: center; vertical-align: top\">0</td>\n",
       "        <td style=\"padding-left: 1em; padding-right: 1em; text-align: center; vertical-align: top\">97</td>\n",
       "    </tr>\n",
       "    <tr>\n",
       "        <td style=\"padding-left: 1em; padding-right: 1em; text-align: center; vertical-align: top\">9</td>\n",
       "        <td style=\"padding-left: 1em; padding-right: 1em; text-align: center; vertical-align: top\">1</td>\n",
       "        <td style=\"padding-left: 1em; padding-right: 1em; text-align: center; vertical-align: top\">93</td>\n",
       "    </tr>\n",
       "    <tr>\n",
       "        <td style=\"padding-left: 1em; padding-right: 1em; text-align: center; vertical-align: top\">4</td>\n",
       "        <td style=\"padding-left: 1em; padding-right: 1em; text-align: center; vertical-align: top\">0</td>\n",
       "        <td style=\"padding-left: 1em; padding-right: 1em; text-align: center; vertical-align: top\">595</td>\n",
       "    </tr>\n",
       "    <tr>\n",
       "        <td style=\"padding-left: 1em; padding-right: 1em; text-align: center; vertical-align: top\">1</td>\n",
       "        <td style=\"padding-left: 1em; padding-right: 1em; text-align: center; vertical-align: top\">1</td>\n",
       "        <td style=\"padding-left: 1em; padding-right: 1em; text-align: center; vertical-align: top\">1059</td>\n",
       "    </tr>\n",
       "    <tr>\n",
       "        <td style=\"padding-left: 1em; padding-right: 1em; text-align: center; vertical-align: top\">1</td>\n",
       "        <td style=\"padding-left: 1em; padding-right: 1em; text-align: center; vertical-align: top\">-1</td>\n",
       "        <td style=\"padding-left: 1em; padding-right: 1em; text-align: center; vertical-align: top\">1594</td>\n",
       "    </tr>\n",
       "    <tr>\n",
       "        <td style=\"padding-left: 1em; padding-right: 1em; text-align: center; vertical-align: top\">4</td>\n",
       "        <td style=\"padding-left: 1em; padding-right: 1em; text-align: center; vertical-align: top\">1</td>\n",
       "        <td style=\"padding-left: 1em; padding-right: 1em; text-align: center; vertical-align: top\">961</td>\n",
       "    </tr>\n",
       "</table>\n",
       "[40 rows x 3 columns]<br/>Note: Only the head of the SFrame is printed.<br/>You can use print_rows(num_rows=m, num_columns=n) to print more rows and columns.\n",
       "</div>"
      ],
      "text/plain": [
       "Columns:\n",
       "\tcustomerId\tint\n",
       "\tprodutoId\tint\n",
       "\tpurchase_count\tint\n",
       "\n",
       "Rows: 40\n",
       "\n",
       "Data:\n",
       "+------------+-----------+----------------+\n",
       "| customerId | produtoId | purchase_count |\n",
       "+------------+-----------+----------------+\n",
       "|     0      |     0     |      306       |\n",
       "|     0      |     2     |      1088      |\n",
       "|     1      |     3     |      109       |\n",
       "|     3      |     0     |      303       |\n",
       "|     5      |     0     |       97       |\n",
       "|     9      |     1     |       93       |\n",
       "|     4      |     0     |      595       |\n",
       "|     1      |     1     |      1059      |\n",
       "|     1      |     -1    |      1594      |\n",
       "|     4      |     1     |      961       |\n",
       "+------------+-----------+----------------+\n",
       "[40 rows x 3 columns]\n",
       "Note: Only the head of the SFrame is printed.\n",
       "You can use print_rows(num_rows=m, num_columns=n) to print more rows and columns."
      ]
     },
     "execution_count": 406,
     "metadata": {},
     "output_type": "execute_result"
    }
   ],
   "source": [
    "train_data"
   ]
  },
  {
   "cell_type": "code",
   "execution_count": 412,
   "metadata": {},
   "outputs": [
    {
     "data": {
      "text/html": [
       "<pre>Preparing data set.</pre>"
      ],
      "text/plain": [
       "Preparing data set."
      ]
     },
     "metadata": {},
     "output_type": "display_data"
    },
    {
     "data": {
      "text/html": [
       "<pre>    Data has 40 observations with 10 users and 5 items.</pre>"
      ],
      "text/plain": [
       "    Data has 40 observations with 10 users and 5 items."
      ]
     },
     "metadata": {},
     "output_type": "display_data"
    },
    {
     "data": {
      "text/html": [
       "<pre>    Data prepared in: 0.01646s</pre>"
      ],
      "text/plain": [
       "    Data prepared in: 0.01646s"
      ]
     },
     "metadata": {},
     "output_type": "display_data"
    },
    {
     "data": {
      "text/html": [
       "<pre>40 observations to process; with 5 unique items.</pre>"
      ],
      "text/plain": [
       "40 observations to process; with 5 unique items."
      ]
     },
     "metadata": {},
     "output_type": "display_data"
    },
    {
     "data": {
      "text/html": [
       "<pre>recommendations finished on 1000/29961 queries. users per second: 162075</pre>"
      ],
      "text/plain": [
       "recommendations finished on 1000/29961 queries. users per second: 162075"
      ]
     },
     "metadata": {},
     "output_type": "display_data"
    },
    {
     "data": {
      "text/html": [
       "<pre>recommendations finished on 2000/29961 queries. users per second: 28954</pre>"
      ],
      "text/plain": [
       "recommendations finished on 2000/29961 queries. users per second: 28954"
      ]
     },
     "metadata": {},
     "output_type": "display_data"
    },
    {
     "data": {
      "text/html": [
       "<pre>recommendations finished on 3000/29961 queries. users per second: 17348.1</pre>"
      ],
      "text/plain": [
       "recommendations finished on 3000/29961 queries. users per second: 17348.1"
      ]
     },
     "metadata": {},
     "output_type": "display_data"
    },
    {
     "data": {
      "text/html": [
       "<pre>recommendations finished on 4000/29961 queries. users per second: 17697</pre>"
      ],
      "text/plain": [
       "recommendations finished on 4000/29961 queries. users per second: 17697"
      ]
     },
     "metadata": {},
     "output_type": "display_data"
    },
    {
     "data": {
      "text/html": [
       "<pre>recommendations finished on 5000/29961 queries. users per second: 17555.1</pre>"
      ],
      "text/plain": [
       "recommendations finished on 5000/29961 queries. users per second: 17555.1"
      ]
     },
     "metadata": {},
     "output_type": "display_data"
    },
    {
     "data": {
      "text/html": [
       "<pre>recommendations finished on 6000/29961 queries. users per second: 20371.2</pre>"
      ],
      "text/plain": [
       "recommendations finished on 6000/29961 queries. users per second: 20371.2"
      ]
     },
     "metadata": {},
     "output_type": "display_data"
    },
    {
     "data": {
      "text/html": [
       "<pre>recommendations finished on 7000/29961 queries. users per second: 21967</pre>"
      ],
      "text/plain": [
       "recommendations finished on 7000/29961 queries. users per second: 21967"
      ]
     },
     "metadata": {},
     "output_type": "display_data"
    },
    {
     "data": {
      "text/html": [
       "<pre>recommendations finished on 8000/29961 queries. users per second: 24536.8</pre>"
      ],
      "text/plain": [
       "recommendations finished on 8000/29961 queries. users per second: 24536.8"
      ]
     },
     "metadata": {},
     "output_type": "display_data"
    },
    {
     "data": {
      "text/html": [
       "<pre>recommendations finished on 9000/29961 queries. users per second: 26799</pre>"
      ],
      "text/plain": [
       "recommendations finished on 9000/29961 queries. users per second: 26799"
      ]
     },
     "metadata": {},
     "output_type": "display_data"
    },
    {
     "data": {
      "text/html": [
       "<pre>recommendations finished on 10000/29961 queries. users per second: 29162.3</pre>"
      ],
      "text/plain": [
       "recommendations finished on 10000/29961 queries. users per second: 29162.3"
      ]
     },
     "metadata": {},
     "output_type": "display_data"
    },
    {
     "data": {
      "text/html": [
       "<pre>recommendations finished on 11000/29961 queries. users per second: 29603.8</pre>"
      ],
      "text/plain": [
       "recommendations finished on 11000/29961 queries. users per second: 29603.8"
      ]
     },
     "metadata": {},
     "output_type": "display_data"
    },
    {
     "data": {
      "text/html": [
       "<pre>recommendations finished on 12000/29961 queries. users per second: 30527.2</pre>"
      ],
      "text/plain": [
       "recommendations finished on 12000/29961 queries. users per second: 30527.2"
      ]
     },
     "metadata": {},
     "output_type": "display_data"
    },
    {
     "data": {
      "text/html": [
       "<pre>recommendations finished on 13000/29961 queries. users per second: 31973.7</pre>"
      ],
      "text/plain": [
       "recommendations finished on 13000/29961 queries. users per second: 31973.7"
      ]
     },
     "metadata": {},
     "output_type": "display_data"
    },
    {
     "data": {
      "text/html": [
       "<pre>recommendations finished on 14000/29961 queries. users per second: 33207.7</pre>"
      ],
      "text/plain": [
       "recommendations finished on 14000/29961 queries. users per second: 33207.7"
      ]
     },
     "metadata": {},
     "output_type": "display_data"
    },
    {
     "data": {
      "text/html": [
       "<pre>recommendations finished on 15000/29961 queries. users per second: 32952.5</pre>"
      ],
      "text/plain": [
       "recommendations finished on 15000/29961 queries. users per second: 32952.5"
      ]
     },
     "metadata": {},
     "output_type": "display_data"
    },
    {
     "data": {
      "text/html": [
       "<pre>recommendations finished on 16000/29961 queries. users per second: 34525.1</pre>"
      ],
      "text/plain": [
       "recommendations finished on 16000/29961 queries. users per second: 34525.1"
      ]
     },
     "metadata": {},
     "output_type": "display_data"
    },
    {
     "data": {
      "text/html": [
       "<pre>recommendations finished on 17000/29961 queries. users per second: 35775.2</pre>"
      ],
      "text/plain": [
       "recommendations finished on 17000/29961 queries. users per second: 35775.2"
      ]
     },
     "metadata": {},
     "output_type": "display_data"
    },
    {
     "data": {
      "text/html": [
       "<pre>recommendations finished on 18000/29961 queries. users per second: 35765.4</pre>"
      ],
      "text/plain": [
       "recommendations finished on 18000/29961 queries. users per second: 35765.4"
      ]
     },
     "metadata": {},
     "output_type": "display_data"
    },
    {
     "data": {
      "text/html": [
       "<pre>recommendations finished on 19000/29961 queries. users per second: 35796.1</pre>"
      ],
      "text/plain": [
       "recommendations finished on 19000/29961 queries. users per second: 35796.1"
      ]
     },
     "metadata": {},
     "output_type": "display_data"
    },
    {
     "data": {
      "text/html": [
       "<pre>recommendations finished on 20000/29961 queries. users per second: 37073.2</pre>"
      ],
      "text/plain": [
       "recommendations finished on 20000/29961 queries. users per second: 37073.2"
      ]
     },
     "metadata": {},
     "output_type": "display_data"
    },
    {
     "data": {
      "text/html": [
       "<pre>recommendations finished on 21000/29961 queries. users per second: 37265.9</pre>"
      ],
      "text/plain": [
       "recommendations finished on 21000/29961 queries. users per second: 37265.9"
      ]
     },
     "metadata": {},
     "output_type": "display_data"
    },
    {
     "data": {
      "text/html": [
       "<pre>recommendations finished on 22000/29961 queries. users per second: 37360.7</pre>"
      ],
      "text/plain": [
       "recommendations finished on 22000/29961 queries. users per second: 37360.7"
      ]
     },
     "metadata": {},
     "output_type": "display_data"
    },
    {
     "data": {
      "text/html": [
       "<pre>recommendations finished on 23000/29961 queries. users per second: 38128.4</pre>"
      ],
      "text/plain": [
       "recommendations finished on 23000/29961 queries. users per second: 38128.4"
      ]
     },
     "metadata": {},
     "output_type": "display_data"
    },
    {
     "data": {
      "text/html": [
       "<pre>recommendations finished on 24000/29961 queries. users per second: 39007.1</pre>"
      ],
      "text/plain": [
       "recommendations finished on 24000/29961 queries. users per second: 39007.1"
      ]
     },
     "metadata": {},
     "output_type": "display_data"
    },
    {
     "data": {
      "text/html": [
       "<pre>recommendations finished on 25000/29961 queries. users per second: 39874.8</pre>"
      ],
      "text/plain": [
       "recommendations finished on 25000/29961 queries. users per second: 39874.8"
      ]
     },
     "metadata": {},
     "output_type": "display_data"
    },
    {
     "data": {
      "text/html": [
       "<pre>recommendations finished on 26000/29961 queries. users per second: 40500</pre>"
      ],
      "text/plain": [
       "recommendations finished on 26000/29961 queries. users per second: 40500"
      ]
     },
     "metadata": {},
     "output_type": "display_data"
    },
    {
     "data": {
      "text/html": [
       "<pre>recommendations finished on 27000/29961 queries. users per second: 40613.3</pre>"
      ],
      "text/plain": [
       "recommendations finished on 27000/29961 queries. users per second: 40613.3"
      ]
     },
     "metadata": {},
     "output_type": "display_data"
    },
    {
     "data": {
      "text/html": [
       "<pre>recommendations finished on 28000/29961 queries. users per second: 41770.5</pre>"
      ],
      "text/plain": [
       "recommendations finished on 28000/29961 queries. users per second: 41770.5"
      ]
     },
     "metadata": {},
     "output_type": "display_data"
    },
    {
     "data": {
      "text/html": [
       "<pre>recommendations finished on 29000/29961 queries. users per second: 42971.9</pre>"
      ],
      "text/plain": [
       "recommendations finished on 29000/29961 queries. users per second: 42971.9"
      ]
     },
     "metadata": {},
     "output_type": "display_data"
    },
    {
     "name": "stdout",
     "output_type": "stream",
     "text": [
      "+------------+-----------+---------+------+\n",
      "| customerId | produtoId |  score  | rank |\n",
      "+------------+-----------+---------+------+\n",
      "|     3      |     3     |   82.5  |  1   |\n",
      "|     4      |     -1    | 1562.75 |  1   |\n",
      "|     4      |     3     |   82.5  |  2   |\n",
      "|     4      |     -1    | 1562.75 |  1   |\n",
      "|     4      |     3     |   82.5  |  2   |\n",
      "|     2      |     0     | 396.625 |  1   |\n",
      "|     2      |     0     | 396.625 |  1   |\n",
      "|     2      |     0     | 396.625 |  1   |\n",
      "|     2      |     0     | 396.625 |  1   |\n",
      "|     2      |     0     | 396.625 |  1   |\n",
      "|     2      |     0     | 396.625 |  1   |\n",
      "|     2      |     0     | 396.625 |  1   |\n",
      "|     2      |     0     | 396.625 |  1   |\n",
      "|     4      |     -1    | 1562.75 |  1   |\n",
      "|     4      |     3     |   82.5  |  2   |\n",
      "|     4      |     -1    | 1562.75 |  1   |\n",
      "|     4      |     3     |   82.5  |  2   |\n",
      "|     4      |     -1    | 1562.75 |  1   |\n",
      "|     4      |     3     |   82.5  |  2   |\n",
      "|     3      |     3     |   82.5  |  1   |\n",
      "|     3      |     3     |   82.5  |  1   |\n",
      "|     3      |     3     |   82.5  |  1   |\n",
      "|     2      |     0     | 396.625 |  1   |\n",
      "|     2      |     0     | 396.625 |  1   |\n",
      "|     2      |     0     | 396.625 |  1   |\n",
      "|     2      |     0     | 396.625 |  1   |\n",
      "|     2      |     0     | 396.625 |  1   |\n",
      "|     2      |     0     | 396.625 |  1   |\n",
      "|     2      |     0     | 396.625 |  1   |\n",
      "|     4      |     -1    | 1562.75 |  1   |\n",
      "|     4      |     3     |   82.5  |  2   |\n",
      "|     4      |     -1    | 1562.75 |  1   |\n",
      "|     4      |     3     |   82.5  |  2   |\n",
      "|     4      |     -1    | 1562.75 |  1   |\n",
      "|     4      |     3     |   82.5  |  2   |\n",
      "|     2      |     0     | 396.625 |  1   |\n",
      "|     2      |     0     | 396.625 |  1   |\n",
      "|     2      |     0     | 396.625 |  1   |\n",
      "|     2      |     0     | 396.625 |  1   |\n",
      "|     2      |     0     | 396.625 |  1   |\n",
      "|     2      |     0     | 396.625 |  1   |\n",
      "|     2      |     0     | 396.625 |  1   |\n",
      "|     2      |     0     | 396.625 |  1   |\n",
      "|     2      |     0     | 396.625 |  1   |\n",
      "|     2      |     0     | 396.625 |  1   |\n",
      "|     2      |     0     | 396.625 |  1   |\n",
      "|     2      |     0     | 396.625 |  1   |\n",
      "|     2      |     0     | 396.625 |  1   |\n",
      "|     2      |     0     | 396.625 |  1   |\n",
      "|     4      |     -1    | 1562.75 |  1   |\n",
      "+------------+-----------+---------+------+\n",
      "[18738 rows x 4 columns]\n",
      "\n"
     ]
    }
   ],
   "source": [
    "name = 'popularity'\n",
    "target = 'purchase_count'\n",
    "popularity = model(train_data, name, 'customerId', item_id, target, users_to_recommend, n_rec, n_display)"
   ]
  },
  {
   "cell_type": "code",
   "execution_count": 415,
   "metadata": {},
   "outputs": [
    {
     "data": {
      "text/html": [
       "<pre>recommendations finished on 1000/29961 queries. users per second: 9884.94</pre>"
      ],
      "text/plain": [
       "recommendations finished on 1000/29961 queries. users per second: 9884.94"
      ]
     },
     "metadata": {},
     "output_type": "display_data"
    },
    {
     "data": {
      "text/html": [
       "<pre>recommendations finished on 2000/29961 queries. users per second: 15261.7</pre>"
      ],
      "text/plain": [
       "recommendations finished on 2000/29961 queries. users per second: 15261.7"
      ]
     },
     "metadata": {},
     "output_type": "display_data"
    },
    {
     "data": {
      "text/html": [
       "<pre>recommendations finished on 3000/29961 queries. users per second: 19649.3</pre>"
      ],
      "text/plain": [
       "recommendations finished on 3000/29961 queries. users per second: 19649.3"
      ]
     },
     "metadata": {},
     "output_type": "display_data"
    },
    {
     "data": {
      "text/html": [
       "<pre>recommendations finished on 4000/29961 queries. users per second: 22446.2</pre>"
      ],
      "text/plain": [
       "recommendations finished on 4000/29961 queries. users per second: 22446.2"
      ]
     },
     "metadata": {},
     "output_type": "display_data"
    },
    {
     "data": {
      "text/html": [
       "<pre>recommendations finished on 5000/29961 queries. users per second: 24156.3</pre>"
      ],
      "text/plain": [
       "recommendations finished on 5000/29961 queries. users per second: 24156.3"
      ]
     },
     "metadata": {},
     "output_type": "display_data"
    },
    {
     "data": {
      "text/html": [
       "<pre>recommendations finished on 6000/29961 queries. users per second: 26334.8</pre>"
      ],
      "text/plain": [
       "recommendations finished on 6000/29961 queries. users per second: 26334.8"
      ]
     },
     "metadata": {},
     "output_type": "display_data"
    },
    {
     "data": {
      "text/html": [
       "<pre>recommendations finished on 7000/29961 queries. users per second: 27057</pre>"
      ],
      "text/plain": [
       "recommendations finished on 7000/29961 queries. users per second: 27057"
      ]
     },
     "metadata": {},
     "output_type": "display_data"
    },
    {
     "data": {
      "text/html": [
       "<pre>recommendations finished on 8000/29961 queries. users per second: 28162.2</pre>"
      ],
      "text/plain": [
       "recommendations finished on 8000/29961 queries. users per second: 28162.2"
      ]
     },
     "metadata": {},
     "output_type": "display_data"
    },
    {
     "data": {
      "text/html": [
       "<pre>recommendations finished on 9000/29961 queries. users per second: 29977.7</pre>"
      ],
      "text/plain": [
       "recommendations finished on 9000/29961 queries. users per second: 29977.7"
      ]
     },
     "metadata": {},
     "output_type": "display_data"
    },
    {
     "data": {
      "text/html": [
       "<pre>recommendations finished on 10000/29961 queries. users per second: 28109.2</pre>"
      ],
      "text/plain": [
       "recommendations finished on 10000/29961 queries. users per second: 28109.2"
      ]
     },
     "metadata": {},
     "output_type": "display_data"
    },
    {
     "data": {
      "text/html": [
       "<pre>recommendations finished on 11000/29961 queries. users per second: 29351.8</pre>"
      ],
      "text/plain": [
       "recommendations finished on 11000/29961 queries. users per second: 29351.8"
      ]
     },
     "metadata": {},
     "output_type": "display_data"
    },
    {
     "data": {
      "text/html": [
       "<pre>recommendations finished on 12000/29961 queries. users per second: 30376.3</pre>"
      ],
      "text/plain": [
       "recommendations finished on 12000/29961 queries. users per second: 30376.3"
      ]
     },
     "metadata": {},
     "output_type": "display_data"
    },
    {
     "data": {
      "text/html": [
       "<pre>recommendations finished on 13000/29961 queries. users per second: 31013.7</pre>"
      ],
      "text/plain": [
       "recommendations finished on 13000/29961 queries. users per second: 31013.7"
      ]
     },
     "metadata": {},
     "output_type": "display_data"
    },
    {
     "data": {
      "text/html": [
       "<pre>recommendations finished on 14000/29961 queries. users per second: 31884.1</pre>"
      ],
      "text/plain": [
       "recommendations finished on 14000/29961 queries. users per second: 31884.1"
      ]
     },
     "metadata": {},
     "output_type": "display_data"
    },
    {
     "data": {
      "text/html": [
       "<pre>recommendations finished on 15000/29961 queries. users per second: 32712.3</pre>"
      ],
      "text/plain": [
       "recommendations finished on 15000/29961 queries. users per second: 32712.3"
      ]
     },
     "metadata": {},
     "output_type": "display_data"
    },
    {
     "data": {
      "text/html": [
       "<pre>recommendations finished on 16000/29961 queries. users per second: 32557</pre>"
      ],
      "text/plain": [
       "recommendations finished on 16000/29961 queries. users per second: 32557"
      ]
     },
     "metadata": {},
     "output_type": "display_data"
    },
    {
     "data": {
      "text/html": [
       "<pre>recommendations finished on 17000/29961 queries. users per second: 33829.6</pre>"
      ],
      "text/plain": [
       "recommendations finished on 17000/29961 queries. users per second: 33829.6"
      ]
     },
     "metadata": {},
     "output_type": "display_data"
    },
    {
     "data": {
      "text/html": [
       "<pre>recommendations finished on 18000/29961 queries. users per second: 34932.8</pre>"
      ],
      "text/plain": [
       "recommendations finished on 18000/29961 queries. users per second: 34932.8"
      ]
     },
     "metadata": {},
     "output_type": "display_data"
    },
    {
     "data": {
      "text/html": [
       "<pre>recommendations finished on 19000/29961 queries. users per second: 35042.7</pre>"
      ],
      "text/plain": [
       "recommendations finished on 19000/29961 queries. users per second: 35042.7"
      ]
     },
     "metadata": {},
     "output_type": "display_data"
    },
    {
     "data": {
      "text/html": [
       "<pre>recommendations finished on 20000/29961 queries. users per second: 34810</pre>"
      ],
      "text/plain": [
       "recommendations finished on 20000/29961 queries. users per second: 34810"
      ]
     },
     "metadata": {},
     "output_type": "display_data"
    },
    {
     "data": {
      "text/html": [
       "<pre>recommendations finished on 21000/29961 queries. users per second: 35719.1</pre>"
      ],
      "text/plain": [
       "recommendations finished on 21000/29961 queries. users per second: 35719.1"
      ]
     },
     "metadata": {},
     "output_type": "display_data"
    },
    {
     "data": {
      "text/html": [
       "<pre>recommendations finished on 22000/29961 queries. users per second: 35741.4</pre>"
      ],
      "text/plain": [
       "recommendations finished on 22000/29961 queries. users per second: 35741.4"
      ]
     },
     "metadata": {},
     "output_type": "display_data"
    },
    {
     "data": {
      "text/html": [
       "<pre>recommendations finished on 23000/29961 queries. users per second: 36623.4</pre>"
      ],
      "text/plain": [
       "recommendations finished on 23000/29961 queries. users per second: 36623.4"
      ]
     },
     "metadata": {},
     "output_type": "display_data"
    },
    {
     "data": {
      "text/html": [
       "<pre>recommendations finished on 24000/29961 queries. users per second: 37535.5</pre>"
      ],
      "text/plain": [
       "recommendations finished on 24000/29961 queries. users per second: 37535.5"
      ]
     },
     "metadata": {},
     "output_type": "display_data"
    },
    {
     "data": {
      "text/html": [
       "<pre>recommendations finished on 25000/29961 queries. users per second: 38134.5</pre>"
      ],
      "text/plain": [
       "recommendations finished on 25000/29961 queries. users per second: 38134.5"
      ]
     },
     "metadata": {},
     "output_type": "display_data"
    },
    {
     "data": {
      "text/html": [
       "<pre>recommendations finished on 26000/29961 queries. users per second: 39320.5</pre>"
      ],
      "text/plain": [
       "recommendations finished on 26000/29961 queries. users per second: 39320.5"
      ]
     },
     "metadata": {},
     "output_type": "display_data"
    },
    {
     "data": {
      "text/html": [
       "<pre>recommendations finished on 27000/29961 queries. users per second: 40476.7</pre>"
      ],
      "text/plain": [
       "recommendations finished on 27000/29961 queries. users per second: 40476.7"
      ]
     },
     "metadata": {},
     "output_type": "display_data"
    },
    {
     "data": {
      "text/html": [
       "<pre>recommendations finished on 28000/29961 queries. users per second: 41637.3</pre>"
      ],
      "text/plain": [
       "recommendations finished on 28000/29961 queries. users per second: 41637.3"
      ]
     },
     "metadata": {},
     "output_type": "display_data"
    },
    {
     "data": {
      "text/html": [
       "<pre>recommendations finished on 29000/29961 queries. users per second: 42774.2</pre>"
      ],
      "text/plain": [
       "recommendations finished on 29000/29961 queries. users per second: 42774.2"
      ]
     },
     "metadata": {},
     "output_type": "display_data"
    }
   ],
   "source": [
    "recom = popularity.recommend(users=users_to_recommend, k=2)"
   ]
  },
  {
   "cell_type": "code",
   "execution_count": 417,
   "metadata": {},
   "outputs": [],
   "source": [
    "df_fixa = pd.DataFrame(recom)"
   ]
  },
  {
   "cell_type": "code",
   "execution_count": 420,
   "metadata": {},
   "outputs": [],
   "source": [
    "pickle.dump(df_fixa, open(f'../models/recommendation_fixa_FINAL.pkl','wb'))"
   ]
  },
  {
   "cell_type": "code",
   "execution_count": null,
   "metadata": {},
   "outputs": [],
   "source": []
  }
 ],
 "metadata": {
  "kernelspec": {
   "display_name": "Python 3.7.4",
   "language": "python",
   "name": "other-env"
  },
  "language_info": {
   "codemirror_mode": {
    "name": "ipython",
    "version": 3
   },
   "file_extension": ".py",
   "mimetype": "text/x-python",
   "name": "python",
   "nbconvert_exporter": "python",
   "pygments_lexer": "ipython3",
   "version": "3.7.4"
  }
 },
 "nbformat": 4,
 "nbformat_minor": 4
}
