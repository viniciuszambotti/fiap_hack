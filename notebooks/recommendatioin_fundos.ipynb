{
 "cells": [
  {
   "cell_type": "code",
   "execution_count": 49,
   "metadata": {},
   "outputs": [],
   "source": [
    "import pandas as pd\n",
    "import numpy as np\n",
    "\n",
    "import matplotlib.pyplot as plt\n",
    "import seaborn as sns;sns.set(context='notebook',palette='Set3', style='darkgrid')\n",
    "\n",
    "import turicreate as tc\n",
    "from sklearn.model_selection import train_test_split\n",
    "\n",
    "import pickle"
   ]
  },
  {
   "cell_type": "code",
   "execution_count": 2,
   "metadata": {},
   "outputs": [],
   "source": [
    "df_cluster_clientes = pd.read_csv(\"../data/processados/clientes_final.csv\")\n",
    "df_produtos_fixa = pd.read_csv(\"../data/processados/produto_fundos_final.csv\")\n",
    "df_produtos_fundos = pd.read_csv(\"../data/processados/produto_fixa_final.csv\")"
   ]
  },
  {
   "cell_type": "code",
   "execution_count": 3,
   "metadata": {},
   "outputs": [
    {
     "name": "stderr",
     "output_type": "stream",
     "text": [
      "/home/vinicius/.pyenv/versions/3.7.4/lib/python3.7/site-packages/IPython/core/interactiveshell.py:3058: DtypeWarning: Columns (62) have mixed types. Specify dtype option on import or set low_memory=False.\n",
      "  interactivity=interactivity, compiler=compiler, result=result)\n"
     ]
    }
   ],
   "source": [
    "df_compras = pd.read_csv('../data/Dataset-1.csv')"
   ]
  },
  {
   "cell_type": "code",
   "execution_count": 4,
   "metadata": {},
   "outputs": [
    {
     "data": {
      "text/plain": [
       "(38102, 66)"
      ]
     },
     "execution_count": 4,
     "metadata": {},
     "output_type": "execute_result"
    }
   ],
   "source": [
    "df_compras.shape"
   ]
  },
  {
   "cell_type": "code",
   "execution_count": 5,
   "metadata": {},
   "outputs": [
    {
     "data": {
      "text/plain": [
       "Index(['Unnamed: 0', 'Id', 'Idade', 'EstadoCivil', 'BillingCity',\n",
       "       'NivelConhecimentoAtual', 'ScoreNivelConhecimento', 'PerfilInvestidor',\n",
       "       'RendaMensal', 'ValorPatrimonio', 'Pergunta1', 'Resposta11',\n",
       "       'Pergunta2', 'Resposta21', 'Pergunta3', 'Resposta31', 'Pergunta4',\n",
       "       'Resposta41', 'Pergunta5', 'Resposta51', 'Resposta52', 'Resposta53',\n",
       "       'Resposta54', 'Resposta55', 'Resposta56', 'Resposta57', 'Resposta58',\n",
       "       'Pergunta6', 'Resposta61', 'Resposta62', 'Resposta63', 'Resposta64',\n",
       "       'Resposta65', 'Resposta66', 'Resposta67', 'Resposta68', 'Pergunta7',\n",
       "       'Resposta71', 'Resposta72', 'Resposta73', 'Resposta74', 'Resposta75',\n",
       "       'Pergunta8', 'Resposta81', 'Pergunta9', 'Resposta91', 'ScoreRisco',\n",
       "       'ScoreObjetivos', 'ScoreSituacaoFinanceira', 'Produto', 'NomeDoProduto',\n",
       "       'NomeEmissor', 'TaxaCliente', 'TaxaPreCliente', 'DescricaoProduto',\n",
       "       'ValorMinimoAplicaInicial', 'ValorMinimoAplicacaoAdicional',\n",
       "       'DataVencimento', 'FamiliaCarteira', 'ValorInvestidoAtual',\n",
       "       'ValorRendimento', 'Rentabilidade12Meses', 'RentabilidadeMes',\n",
       "       'RiscoAtivo', 'Status', 'ProdutoId'],\n",
       "      dtype='object')"
      ]
     },
     "execution_count": 5,
     "metadata": {},
     "output_type": "execute_result"
    }
   ],
   "source": [
    "df_compras.columns"
   ]
  },
  {
   "cell_type": "code",
   "execution_count": 6,
   "metadata": {},
   "outputs": [],
   "source": [
    "df_compras = df_compras[['Id', 'ProdutoId']]"
   ]
  },
  {
   "cell_type": "code",
   "execution_count": 7,
   "metadata": {},
   "outputs": [
    {
     "data": {
      "text/html": [
       "<div>\n",
       "<style scoped>\n",
       "    .dataframe tbody tr th:only-of-type {\n",
       "        vertical-align: middle;\n",
       "    }\n",
       "\n",
       "    .dataframe tbody tr th {\n",
       "        vertical-align: top;\n",
       "    }\n",
       "\n",
       "    .dataframe thead th {\n",
       "        text-align: right;\n",
       "    }\n",
       "</style>\n",
       "<table border=\"1\" class=\"dataframe\">\n",
       "  <thead>\n",
       "    <tr style=\"text-align: right;\">\n",
       "      <th></th>\n",
       "      <th>Id</th>\n",
       "      <th>ProdutoId</th>\n",
       "    </tr>\n",
       "  </thead>\n",
       "  <tbody>\n",
       "    <tr>\n",
       "      <td>0</td>\n",
       "      <td>$2b$10$.DCvvJ9WSDpqVP2xXjeSPe9yBilu2JVQh2nFTHN...</td>\n",
       "      <td>a0W6A000009GZdgUAG</td>\n",
       "    </tr>\n",
       "    <tr>\n",
       "      <td>1</td>\n",
       "      <td>$2b$10$.DCvvJ9WSDpqVP2xXjeSPeR6I3TrUCl/MAePvQQ...</td>\n",
       "      <td>a0W6A000009GZdgUAG</td>\n",
       "    </tr>\n",
       "    <tr>\n",
       "      <td>2</td>\n",
       "      <td>$2b$10$.DCvvJ9WSDpqVP2xXjeSPeR6I3TrUCl/MAePvQQ...</td>\n",
       "      <td>a0W6A000009GZdgUAG</td>\n",
       "    </tr>\n",
       "    <tr>\n",
       "      <td>3</td>\n",
       "      <td>$2b$10$.DCvvJ9WSDpqVP2xXjeSPeR6I3TrUCl/MAePvQQ...</td>\n",
       "      <td>a0W6A000009GZdgUAG</td>\n",
       "    </tr>\n",
       "    <tr>\n",
       "      <td>4</td>\n",
       "      <td>$2b$10$.DCvvJ9WSDpqVP2xXjeSPeR6I3TrUCl/MAePvQQ...</td>\n",
       "      <td>a0W6A000009GZdgUAG</td>\n",
       "    </tr>\n",
       "  </tbody>\n",
       "</table>\n",
       "</div>"
      ],
      "text/plain": [
       "                                                  Id           ProdutoId\n",
       "0  $2b$10$.DCvvJ9WSDpqVP2xXjeSPe9yBilu2JVQh2nFTHN...  a0W6A000009GZdgUAG\n",
       "1  $2b$10$.DCvvJ9WSDpqVP2xXjeSPeR6I3TrUCl/MAePvQQ...  a0W6A000009GZdgUAG\n",
       "2  $2b$10$.DCvvJ9WSDpqVP2xXjeSPeR6I3TrUCl/MAePvQQ...  a0W6A000009GZdgUAG\n",
       "3  $2b$10$.DCvvJ9WSDpqVP2xXjeSPeR6I3TrUCl/MAePvQQ...  a0W6A000009GZdgUAG\n",
       "4  $2b$10$.DCvvJ9WSDpqVP2xXjeSPeR6I3TrUCl/MAePvQQ...  a0W6A000009GZdgUAG"
      ]
     },
     "execution_count": 7,
     "metadata": {},
     "output_type": "execute_result"
    }
   ],
   "source": [
    "df_compras.head()"
   ]
  },
  {
   "cell_type": "code",
   "execution_count": 8,
   "metadata": {},
   "outputs": [],
   "source": [
    "df_compras_custer_clientes = df_compras.merge(df_cluster_clientes[['Id', 'cluster']], on='Id', how='left')"
   ]
  },
  {
   "cell_type": "code",
   "execution_count": 9,
   "metadata": {},
   "outputs": [],
   "source": [
    "df_compras_custer_clientes.rename(columns={'cluster':'cluster_clientes'}, inplace=True)"
   ]
  },
  {
   "cell_type": "code",
   "execution_count": 10,
   "metadata": {},
   "outputs": [],
   "source": [
    "df_compras_custer_fixa = df_compras_custer_clientes.merge(df_produtos_fixa[['ProdutoId', 'cluster']], on='ProdutoId', how='left')"
   ]
  },
  {
   "cell_type": "code",
   "execution_count": 11,
   "metadata": {},
   "outputs": [
    {
     "data": {
      "text/html": [
       "<div>\n",
       "<style scoped>\n",
       "    .dataframe tbody tr th:only-of-type {\n",
       "        vertical-align: middle;\n",
       "    }\n",
       "\n",
       "    .dataframe tbody tr th {\n",
       "        vertical-align: top;\n",
       "    }\n",
       "\n",
       "    .dataframe thead th {\n",
       "        text-align: right;\n",
       "    }\n",
       "</style>\n",
       "<table border=\"1\" class=\"dataframe\">\n",
       "  <thead>\n",
       "    <tr style=\"text-align: right;\">\n",
       "      <th></th>\n",
       "      <th>Id</th>\n",
       "      <th>ProdutoId</th>\n",
       "      <th>cluster_clientes</th>\n",
       "      <th>cluster</th>\n",
       "    </tr>\n",
       "  </thead>\n",
       "  <tbody>\n",
       "    <tr>\n",
       "      <td>0</td>\n",
       "      <td>$2b$10$.DCvvJ9WSDpqVP2xXjeSPe9yBilu2JVQh2nFTHN...</td>\n",
       "      <td>a0W6A000009GZdgUAG</td>\n",
       "      <td>6.0</td>\n",
       "      <td>-1.0</td>\n",
       "    </tr>\n",
       "    <tr>\n",
       "      <td>1</td>\n",
       "      <td>$2b$10$.DCvvJ9WSDpqVP2xXjeSPeR6I3TrUCl/MAePvQQ...</td>\n",
       "      <td>a0W6A000009GZdgUAG</td>\n",
       "      <td>5.0</td>\n",
       "      <td>-1.0</td>\n",
       "    </tr>\n",
       "    <tr>\n",
       "      <td>2</td>\n",
       "      <td>$2b$10$.DCvvJ9WSDpqVP2xXjeSPeR6I3TrUCl/MAePvQQ...</td>\n",
       "      <td>a0W6A000009GZdgUAG</td>\n",
       "      <td>5.0</td>\n",
       "      <td>-1.0</td>\n",
       "    </tr>\n",
       "    <tr>\n",
       "      <td>3</td>\n",
       "      <td>$2b$10$.DCvvJ9WSDpqVP2xXjeSPeR6I3TrUCl/MAePvQQ...</td>\n",
       "      <td>a0W6A000009GZdgUAG</td>\n",
       "      <td>5.0</td>\n",
       "      <td>-1.0</td>\n",
       "    </tr>\n",
       "    <tr>\n",
       "      <td>4</td>\n",
       "      <td>$2b$10$.DCvvJ9WSDpqVP2xXjeSPeR6I3TrUCl/MAePvQQ...</td>\n",
       "      <td>a0W6A000009GZdgUAG</td>\n",
       "      <td>5.0</td>\n",
       "      <td>-1.0</td>\n",
       "    </tr>\n",
       "  </tbody>\n",
       "</table>\n",
       "</div>"
      ],
      "text/plain": [
       "                                                  Id           ProdutoId  \\\n",
       "0  $2b$10$.DCvvJ9WSDpqVP2xXjeSPe9yBilu2JVQh2nFTHN...  a0W6A000009GZdgUAG   \n",
       "1  $2b$10$.DCvvJ9WSDpqVP2xXjeSPeR6I3TrUCl/MAePvQQ...  a0W6A000009GZdgUAG   \n",
       "2  $2b$10$.DCvvJ9WSDpqVP2xXjeSPeR6I3TrUCl/MAePvQQ...  a0W6A000009GZdgUAG   \n",
       "3  $2b$10$.DCvvJ9WSDpqVP2xXjeSPeR6I3TrUCl/MAePvQQ...  a0W6A000009GZdgUAG   \n",
       "4  $2b$10$.DCvvJ9WSDpqVP2xXjeSPeR6I3TrUCl/MAePvQQ...  a0W6A000009GZdgUAG   \n",
       "\n",
       "   cluster_clientes  cluster  \n",
       "0               6.0     -1.0  \n",
       "1               5.0     -1.0  \n",
       "2               5.0     -1.0  \n",
       "3               5.0     -1.0  \n",
       "4               5.0     -1.0  "
      ]
     },
     "execution_count": 11,
     "metadata": {},
     "output_type": "execute_result"
    }
   ],
   "source": [
    "df_compras_custer_fixa.head()"
   ]
  },
  {
   "cell_type": "code",
   "execution_count": 12,
   "metadata": {},
   "outputs": [],
   "source": [
    "df_compras_custer_fixa.rename(columns={'cluster':'cluster_fixa'}, inplace=True)"
   ]
  },
  {
   "cell_type": "code",
   "execution_count": 13,
   "metadata": {},
   "outputs": [],
   "source": [
    "df_compras_final = df_compras_custer_fixa.merge(df_produtos_fundos[['ProdutoId', 'cluster']], on='ProdutoId', how='left')"
   ]
  },
  {
   "cell_type": "code",
   "execution_count": 14,
   "metadata": {},
   "outputs": [],
   "source": [
    "df_compras_final.rename(columns={'cluster':'cluster_fundos'}, inplace=True)"
   ]
  },
  {
   "cell_type": "code",
   "execution_count": 15,
   "metadata": {},
   "outputs": [
    {
     "data": {
      "text/html": [
       "<div>\n",
       "<style scoped>\n",
       "    .dataframe tbody tr th:only-of-type {\n",
       "        vertical-align: middle;\n",
       "    }\n",
       "\n",
       "    .dataframe tbody tr th {\n",
       "        vertical-align: top;\n",
       "    }\n",
       "\n",
       "    .dataframe thead th {\n",
       "        text-align: right;\n",
       "    }\n",
       "</style>\n",
       "<table border=\"1\" class=\"dataframe\">\n",
       "  <thead>\n",
       "    <tr style=\"text-align: right;\">\n",
       "      <th></th>\n",
       "      <th>Id</th>\n",
       "      <th>ProdutoId</th>\n",
       "      <th>cluster_clientes</th>\n",
       "      <th>cluster_fixa</th>\n",
       "      <th>cluster_fundos</th>\n",
       "    </tr>\n",
       "  </thead>\n",
       "  <tbody>\n",
       "    <tr>\n",
       "      <td>0</td>\n",
       "      <td>$2b$10$.DCvvJ9WSDpqVP2xXjeSPe9yBilu2JVQh2nFTHN...</td>\n",
       "      <td>a0W6A000009GZdgUAG</td>\n",
       "      <td>6.0</td>\n",
       "      <td>-1.0</td>\n",
       "      <td>NaN</td>\n",
       "    </tr>\n",
       "    <tr>\n",
       "      <td>1</td>\n",
       "      <td>$2b$10$.DCvvJ9WSDpqVP2xXjeSPeR6I3TrUCl/MAePvQQ...</td>\n",
       "      <td>a0W6A000009GZdgUAG</td>\n",
       "      <td>5.0</td>\n",
       "      <td>-1.0</td>\n",
       "      <td>NaN</td>\n",
       "    </tr>\n",
       "    <tr>\n",
       "      <td>2</td>\n",
       "      <td>$2b$10$.DCvvJ9WSDpqVP2xXjeSPeR6I3TrUCl/MAePvQQ...</td>\n",
       "      <td>a0W6A000009GZdgUAG</td>\n",
       "      <td>5.0</td>\n",
       "      <td>-1.0</td>\n",
       "      <td>NaN</td>\n",
       "    </tr>\n",
       "    <tr>\n",
       "      <td>3</td>\n",
       "      <td>$2b$10$.DCvvJ9WSDpqVP2xXjeSPeR6I3TrUCl/MAePvQQ...</td>\n",
       "      <td>a0W6A000009GZdgUAG</td>\n",
       "      <td>5.0</td>\n",
       "      <td>-1.0</td>\n",
       "      <td>NaN</td>\n",
       "    </tr>\n",
       "    <tr>\n",
       "      <td>4</td>\n",
       "      <td>$2b$10$.DCvvJ9WSDpqVP2xXjeSPeR6I3TrUCl/MAePvQQ...</td>\n",
       "      <td>a0W6A000009GZdgUAG</td>\n",
       "      <td>5.0</td>\n",
       "      <td>-1.0</td>\n",
       "      <td>NaN</td>\n",
       "    </tr>\n",
       "  </tbody>\n",
       "</table>\n",
       "</div>"
      ],
      "text/plain": [
       "                                                  Id           ProdutoId  \\\n",
       "0  $2b$10$.DCvvJ9WSDpqVP2xXjeSPe9yBilu2JVQh2nFTHN...  a0W6A000009GZdgUAG   \n",
       "1  $2b$10$.DCvvJ9WSDpqVP2xXjeSPeR6I3TrUCl/MAePvQQ...  a0W6A000009GZdgUAG   \n",
       "2  $2b$10$.DCvvJ9WSDpqVP2xXjeSPeR6I3TrUCl/MAePvQQ...  a0W6A000009GZdgUAG   \n",
       "3  $2b$10$.DCvvJ9WSDpqVP2xXjeSPeR6I3TrUCl/MAePvQQ...  a0W6A000009GZdgUAG   \n",
       "4  $2b$10$.DCvvJ9WSDpqVP2xXjeSPeR6I3TrUCl/MAePvQQ...  a0W6A000009GZdgUAG   \n",
       "\n",
       "   cluster_clientes  cluster_fixa  cluster_fundos  \n",
       "0               6.0          -1.0             NaN  \n",
       "1               5.0          -1.0             NaN  \n",
       "2               5.0          -1.0             NaN  \n",
       "3               5.0          -1.0             NaN  \n",
       "4               5.0          -1.0             NaN  "
      ]
     },
     "execution_count": 15,
     "metadata": {},
     "output_type": "execute_result"
    }
   ],
   "source": [
    "df_compras_final.head()"
   ]
  },
  {
   "cell_type": "markdown",
   "metadata": {},
   "source": [
    "# Recomendação Fundos"
   ]
  },
  {
   "cell_type": "code",
   "execution_count": 16,
   "metadata": {},
   "outputs": [],
   "source": [
    "df_compras_final = df_compras_final.query('cluster_fundos != \"NaN\" or cluster_fixa != \"NaN\"')"
   ]
  },
  {
   "cell_type": "code",
   "execution_count": 17,
   "metadata": {},
   "outputs": [],
   "source": [
    "df_compras_final.dropna(subset=['cluster_clientes'], inplace=True)"
   ]
  },
  {
   "cell_type": "code",
   "execution_count": 18,
   "metadata": {},
   "outputs": [
    {
     "data": {
      "text/plain": [
       "Id                      0\n",
       "ProdutoId               0\n",
       "cluster_clientes        0\n",
       "cluster_fixa         5442\n",
       "cluster_fundos      29961\n",
       "dtype: int64"
      ]
     },
     "execution_count": 18,
     "metadata": {},
     "output_type": "execute_result"
    }
   ],
   "source": [
    "df_compras_final.isnull().sum()"
   ]
  },
  {
   "cell_type": "code",
   "execution_count": 19,
   "metadata": {},
   "outputs": [],
   "source": [
    "df_rec_fixa = df_compras_final.query('cluster_fundos != \"NaN\"')"
   ]
  },
  {
   "cell_type": "code",
   "execution_count": 20,
   "metadata": {},
   "outputs": [
    {
     "data": {
      "text/plain": [
       "(5442, 5)"
      ]
     },
     "execution_count": 20,
     "metadata": {},
     "output_type": "execute_result"
    }
   ],
   "source": [
    "df_rec_fixa.shape"
   ]
  },
  {
   "cell_type": "code",
   "execution_count": 21,
   "metadata": {},
   "outputs": [
    {
     "data": {
      "text/html": [
       "<div>\n",
       "<style scoped>\n",
       "    .dataframe tbody tr th:only-of-type {\n",
       "        vertical-align: middle;\n",
       "    }\n",
       "\n",
       "    .dataframe tbody tr th {\n",
       "        vertical-align: top;\n",
       "    }\n",
       "\n",
       "    .dataframe thead th {\n",
       "        text-align: right;\n",
       "    }\n",
       "</style>\n",
       "<table border=\"1\" class=\"dataframe\">\n",
       "  <thead>\n",
       "    <tr style=\"text-align: right;\">\n",
       "      <th></th>\n",
       "      <th>Id</th>\n",
       "      <th>ProdutoId</th>\n",
       "      <th>cluster_clientes</th>\n",
       "      <th>cluster_fixa</th>\n",
       "      <th>cluster_fundos</th>\n",
       "    </tr>\n",
       "  </thead>\n",
       "  <tbody>\n",
       "    <tr>\n",
       "      <td>37</td>\n",
       "      <td>$2b$10$.DCvvJ9WSDpqVP2xXjeSPeGnEF/TEJQwSSSBnZa...</td>\n",
       "      <td>a0W6A00000Aa9rKUAR</td>\n",
       "      <td>0.0</td>\n",
       "      <td>NaN</td>\n",
       "      <td>10.0</td>\n",
       "    </tr>\n",
       "    <tr>\n",
       "      <td>41</td>\n",
       "      <td>$2b$10$.DCvvJ9WSDpqVP2xXjeSPetwA4M1vJpM6aEi4AT...</td>\n",
       "      <td>a0W3u00000AdL5wEAF</td>\n",
       "      <td>0.0</td>\n",
       "      <td>NaN</td>\n",
       "      <td>10.0</td>\n",
       "    </tr>\n",
       "    <tr>\n",
       "      <td>43</td>\n",
       "      <td>$2b$10$.DCvvJ9WSDpqVP2xXjeSPetwA4M1vJpM6aEi4AT...</td>\n",
       "      <td>a0W3u00000AdICSEA3</td>\n",
       "      <td>0.0</td>\n",
       "      <td>NaN</td>\n",
       "      <td>9.0</td>\n",
       "    </tr>\n",
       "    <tr>\n",
       "      <td>45</td>\n",
       "      <td>$2b$10$.DCvvJ9WSDpqVP2xXjeSPeiJXRYJIOtinZ88UyK...</td>\n",
       "      <td>a0W6A000008HwdFUAS</td>\n",
       "      <td>5.0</td>\n",
       "      <td>NaN</td>\n",
       "      <td>9.0</td>\n",
       "    </tr>\n",
       "    <tr>\n",
       "      <td>53</td>\n",
       "      <td>$2b$10$.DCvvJ9WSDpqVP2xXjeSPee6LD.ucBCuEQncqS1...</td>\n",
       "      <td>a0W3u000009PBzxEAG</td>\n",
       "      <td>1.0</td>\n",
       "      <td>NaN</td>\n",
       "      <td>15.0</td>\n",
       "    </tr>\n",
       "  </tbody>\n",
       "</table>\n",
       "</div>"
      ],
      "text/plain": [
       "                                                   Id           ProdutoId  \\\n",
       "37  $2b$10$.DCvvJ9WSDpqVP2xXjeSPeGnEF/TEJQwSSSBnZa...  a0W6A00000Aa9rKUAR   \n",
       "41  $2b$10$.DCvvJ9WSDpqVP2xXjeSPetwA4M1vJpM6aEi4AT...  a0W3u00000AdL5wEAF   \n",
       "43  $2b$10$.DCvvJ9WSDpqVP2xXjeSPetwA4M1vJpM6aEi4AT...  a0W3u00000AdICSEA3   \n",
       "45  $2b$10$.DCvvJ9WSDpqVP2xXjeSPeiJXRYJIOtinZ88UyK...  a0W6A000008HwdFUAS   \n",
       "53  $2b$10$.DCvvJ9WSDpqVP2xXjeSPee6LD.ucBCuEQncqS1...  a0W3u000009PBzxEAG   \n",
       "\n",
       "    cluster_clientes  cluster_fixa  cluster_fundos  \n",
       "37               0.0           NaN            10.0  \n",
       "41               0.0           NaN            10.0  \n",
       "43               0.0           NaN             9.0  \n",
       "45               5.0           NaN             9.0  \n",
       "53               1.0           NaN            15.0  "
      ]
     },
     "execution_count": 21,
     "metadata": {},
     "output_type": "execute_result"
    }
   ],
   "source": [
    "df_rec_fixa.head()"
   ]
  },
  {
   "cell_type": "code",
   "execution_count": 23,
   "metadata": {},
   "outputs": [
    {
     "name": "stderr",
     "output_type": "stream",
     "text": [
      "/home/vinicius/.pyenv/versions/3.7.4/lib/python3.7/site-packages/ipykernel_launcher.py:1: SettingWithCopyWarning: \n",
      "A value is trying to be set on a copy of a slice from a DataFrame.\n",
      "Try using .loc[row_indexer,col_indexer] = value instead\n",
      "\n",
      "See the caveats in the documentation: http://pandas.pydata.org/pandas-docs/stable/user_guide/indexing.html#returning-a-view-versus-a-copy\n",
      "  \"\"\"Entry point for launching an IPython kernel.\n"
     ]
    }
   ],
   "source": [
    "df_rec_fixa['cluster_fundos'] = df_rec_fixa['cluster_fundos'].astype(int).astype(str)"
   ]
  },
  {
   "cell_type": "code",
   "execution_count": 24,
   "metadata": {},
   "outputs": [],
   "source": [
    "df_rec_fixa_grouped = df_rec_fixa.groupby(['cluster_clientes'])['cluster_fundos'].apply(lambda x: '|'.join(x)).reset_index()"
   ]
  },
  {
   "cell_type": "code",
   "execution_count": 25,
   "metadata": {},
   "outputs": [
    {
     "data": {
      "text/plain": [
       "(10, 2)"
      ]
     },
     "execution_count": 25,
     "metadata": {},
     "output_type": "execute_result"
    }
   ],
   "source": [
    "df_rec_fixa_grouped.shape"
   ]
  },
  {
   "cell_type": "code",
   "execution_count": 26,
   "metadata": {},
   "outputs": [
    {
     "data": {
      "text/html": [
       "<div>\n",
       "<style scoped>\n",
       "    .dataframe tbody tr th:only-of-type {\n",
       "        vertical-align: middle;\n",
       "    }\n",
       "\n",
       "    .dataframe tbody tr th {\n",
       "        vertical-align: top;\n",
       "    }\n",
       "\n",
       "    .dataframe thead th {\n",
       "        text-align: right;\n",
       "    }\n",
       "</style>\n",
       "<table border=\"1\" class=\"dataframe\">\n",
       "  <thead>\n",
       "    <tr style=\"text-align: right;\">\n",
       "      <th></th>\n",
       "      <th>cluster_clientes</th>\n",
       "      <th>cluster_fundos</th>\n",
       "    </tr>\n",
       "  </thead>\n",
       "  <tbody>\n",
       "    <tr>\n",
       "      <td>0</td>\n",
       "      <td>0.0</td>\n",
       "      <td>10|10|9|-1|-1|11|10|9|9|9|10|10|10|-1|10|9|9|1...</td>\n",
       "    </tr>\n",
       "    <tr>\n",
       "      <td>1</td>\n",
       "      <td>1.0</td>\n",
       "      <td>15|10|10|9|10|10|9|10|10|10|8|10|9|1|8|8|9|0|1...</td>\n",
       "    </tr>\n",
       "    <tr>\n",
       "      <td>2</td>\n",
       "      <td>2.0</td>\n",
       "      <td>11|8|8|10|10|-1|-1|10|10|10|15|9|-1|10|10|-1|-...</td>\n",
       "    </tr>\n",
       "    <tr>\n",
       "      <td>3</td>\n",
       "      <td>3.0</td>\n",
       "      <td>15|15|8|-1|8|10|0|11|8|10|8|9|0|0|10|10|10|-1|...</td>\n",
       "    </tr>\n",
       "    <tr>\n",
       "      <td>4</td>\n",
       "      <td>4.0</td>\n",
       "      <td>10|9|10|10|10|10|9|1|9|11|11|9|15|9|10|9|10|10...</td>\n",
       "    </tr>\n",
       "  </tbody>\n",
       "</table>\n",
       "</div>"
      ],
      "text/plain": [
       "   cluster_clientes                                     cluster_fundos\n",
       "0               0.0  10|10|9|-1|-1|11|10|9|9|9|10|10|10|-1|10|9|9|1...\n",
       "1               1.0  15|10|10|9|10|10|9|10|10|10|8|10|9|1|8|8|9|0|1...\n",
       "2               2.0  11|8|8|10|10|-1|-1|10|10|10|15|9|-1|10|10|-1|-...\n",
       "3               3.0  15|15|8|-1|8|10|0|11|8|10|8|9|0|0|10|10|10|-1|...\n",
       "4               4.0  10|9|10|10|10|10|9|1|9|11|11|9|15|9|10|9|10|10..."
      ]
     },
     "execution_count": 26,
     "metadata": {},
     "output_type": "execute_result"
    }
   ],
   "source": [
    "df_rec_fixa_grouped.head()"
   ]
  },
  {
   "cell_type": "code",
   "execution_count": 27,
   "metadata": {},
   "outputs": [],
   "source": [
    "df_rec_fixa_grouped.rename(columns={'cluster_clientes':'customerId','cluster_fundos':'products'}, inplace=True)"
   ]
  },
  {
   "cell_type": "code",
   "execution_count": 28,
   "metadata": {},
   "outputs": [],
   "source": [
    "def count_products(row):\n",
    "    arr = row['products'].split('|')\n",
    "    row['produtoId'] = arr\n",
    "    return row\n",
    "    "
   ]
  },
  {
   "cell_type": "code",
   "execution_count": 29,
   "metadata": {},
   "outputs": [],
   "source": [
    "data = df_rec_fixa_grouped.set_index('customerId').apply(count_products, axis = 1)[['produtoId']].reset_index() \\\n",
    ".explode('produtoId') \\\n",
    ".groupby(['customerId', 'produtoId']).agg({'produtoId': 'count'})\\\n",
    ".rename(columns={'produtoId': 'purchase_count'}) \\\n",
    ".reset_index()"
   ]
  },
  {
   "cell_type": "code",
   "execution_count": 30,
   "metadata": {},
   "outputs": [
    {
     "data": {
      "text/html": [
       "<div>\n",
       "<style scoped>\n",
       "    .dataframe tbody tr th:only-of-type {\n",
       "        vertical-align: middle;\n",
       "    }\n",
       "\n",
       "    .dataframe tbody tr th {\n",
       "        vertical-align: top;\n",
       "    }\n",
       "\n",
       "    .dataframe thead th {\n",
       "        text-align: right;\n",
       "    }\n",
       "</style>\n",
       "<table border=\"1\" class=\"dataframe\">\n",
       "  <thead>\n",
       "    <tr style=\"text-align: right;\">\n",
       "      <th></th>\n",
       "      <th>customerId</th>\n",
       "      <th>produtoId</th>\n",
       "      <th>purchase_count</th>\n",
       "    </tr>\n",
       "  </thead>\n",
       "  <tbody>\n",
       "    <tr>\n",
       "      <td>0</td>\n",
       "      <td>0.0</td>\n",
       "      <td>-1</td>\n",
       "      <td>55</td>\n",
       "    </tr>\n",
       "    <tr>\n",
       "      <td>1</td>\n",
       "      <td>0.0</td>\n",
       "      <td>0</td>\n",
       "      <td>25</td>\n",
       "    </tr>\n",
       "    <tr>\n",
       "      <td>2</td>\n",
       "      <td>0.0</td>\n",
       "      <td>1</td>\n",
       "      <td>7</td>\n",
       "    </tr>\n",
       "    <tr>\n",
       "      <td>3</td>\n",
       "      <td>0.0</td>\n",
       "      <td>10</td>\n",
       "      <td>236</td>\n",
       "    </tr>\n",
       "    <tr>\n",
       "      <td>4</td>\n",
       "      <td>0.0</td>\n",
       "      <td>11</td>\n",
       "      <td>14</td>\n",
       "    </tr>\n",
       "  </tbody>\n",
       "</table>\n",
       "</div>"
      ],
      "text/plain": [
       "   customerId produtoId  purchase_count\n",
       "0         0.0        -1              55\n",
       "1         0.0         0              25\n",
       "2         0.0         1               7\n",
       "3         0.0        10             236\n",
       "4         0.0        11              14"
      ]
     },
     "execution_count": 30,
     "metadata": {},
     "output_type": "execute_result"
    }
   ],
   "source": [
    "data.head()"
   ]
  },
  {
   "cell_type": "code",
   "execution_count": 31,
   "metadata": {},
   "outputs": [],
   "source": [
    "data['produtoId'] = data['produtoId'].astype(np.int64)\n",
    "data['customerId'] = data['customerId'].astype(np.int64)"
   ]
  },
  {
   "cell_type": "code",
   "execution_count": 32,
   "metadata": {},
   "outputs": [],
   "source": [
    "df_matrix =pd.pivot_table(data, values='purchase_count', index='customerId', columns='produtoId')"
   ]
  },
  {
   "cell_type": "code",
   "execution_count": 33,
   "metadata": {},
   "outputs": [
    {
     "data": {
      "text/html": [
       "<div>\n",
       "<style scoped>\n",
       "    .dataframe tbody tr th:only-of-type {\n",
       "        vertical-align: middle;\n",
       "    }\n",
       "\n",
       "    .dataframe tbody tr th {\n",
       "        vertical-align: top;\n",
       "    }\n",
       "\n",
       "    .dataframe thead th {\n",
       "        text-align: right;\n",
       "    }\n",
       "</style>\n",
       "<table border=\"1\" class=\"dataframe\">\n",
       "  <thead>\n",
       "    <tr style=\"text-align: right;\">\n",
       "      <th>produtoId</th>\n",
       "      <th>-1</th>\n",
       "      <th>0</th>\n",
       "      <th>1</th>\n",
       "      <th>2</th>\n",
       "      <th>3</th>\n",
       "      <th>4</th>\n",
       "      <th>5</th>\n",
       "      <th>6</th>\n",
       "      <th>7</th>\n",
       "      <th>8</th>\n",
       "      <th>9</th>\n",
       "      <th>10</th>\n",
       "      <th>11</th>\n",
       "      <th>12</th>\n",
       "      <th>14</th>\n",
       "      <th>15</th>\n",
       "    </tr>\n",
       "    <tr>\n",
       "      <th>customerId</th>\n",
       "      <th></th>\n",
       "      <th></th>\n",
       "      <th></th>\n",
       "      <th></th>\n",
       "      <th></th>\n",
       "      <th></th>\n",
       "      <th></th>\n",
       "      <th></th>\n",
       "      <th></th>\n",
       "      <th></th>\n",
       "      <th></th>\n",
       "      <th></th>\n",
       "      <th></th>\n",
       "      <th></th>\n",
       "      <th></th>\n",
       "      <th></th>\n",
       "    </tr>\n",
       "  </thead>\n",
       "  <tbody>\n",
       "    <tr>\n",
       "      <td>0</td>\n",
       "      <td>55.0</td>\n",
       "      <td>25.0</td>\n",
       "      <td>7.0</td>\n",
       "      <td>3.0</td>\n",
       "      <td>2.0</td>\n",
       "      <td>2.0</td>\n",
       "      <td>NaN</td>\n",
       "      <td>NaN</td>\n",
       "      <td>NaN</td>\n",
       "      <td>25.0</td>\n",
       "      <td>136.0</td>\n",
       "      <td>236.0</td>\n",
       "      <td>14.0</td>\n",
       "      <td>NaN</td>\n",
       "      <td>NaN</td>\n",
       "      <td>31.0</td>\n",
       "    </tr>\n",
       "    <tr>\n",
       "      <td>1</td>\n",
       "      <td>142.0</td>\n",
       "      <td>100.0</td>\n",
       "      <td>38.0</td>\n",
       "      <td>7.0</td>\n",
       "      <td>10.0</td>\n",
       "      <td>4.0</td>\n",
       "      <td>6.0</td>\n",
       "      <td>3.0</td>\n",
       "      <td>NaN</td>\n",
       "      <td>67.0</td>\n",
       "      <td>365.0</td>\n",
       "      <td>721.0</td>\n",
       "      <td>25.0</td>\n",
       "      <td>NaN</td>\n",
       "      <td>4.0</td>\n",
       "      <td>43.0</td>\n",
       "    </tr>\n",
       "    <tr>\n",
       "      <td>2</td>\n",
       "      <td>40.0</td>\n",
       "      <td>3.0</td>\n",
       "      <td>6.0</td>\n",
       "      <td>1.0</td>\n",
       "      <td>4.0</td>\n",
       "      <td>NaN</td>\n",
       "      <td>NaN</td>\n",
       "      <td>NaN</td>\n",
       "      <td>NaN</td>\n",
       "      <td>5.0</td>\n",
       "      <td>32.0</td>\n",
       "      <td>64.0</td>\n",
       "      <td>10.0</td>\n",
       "      <td>NaN</td>\n",
       "      <td>NaN</td>\n",
       "      <td>4.0</td>\n",
       "    </tr>\n",
       "    <tr>\n",
       "      <td>3</td>\n",
       "      <td>44.0</td>\n",
       "      <td>15.0</td>\n",
       "      <td>12.0</td>\n",
       "      <td>1.0</td>\n",
       "      <td>5.0</td>\n",
       "      <td>3.0</td>\n",
       "      <td>1.0</td>\n",
       "      <td>NaN</td>\n",
       "      <td>1.0</td>\n",
       "      <td>18.0</td>\n",
       "      <td>51.0</td>\n",
       "      <td>138.0</td>\n",
       "      <td>13.0</td>\n",
       "      <td>NaN</td>\n",
       "      <td>2.0</td>\n",
       "      <td>7.0</td>\n",
       "    </tr>\n",
       "    <tr>\n",
       "      <td>4</td>\n",
       "      <td>147.0</td>\n",
       "      <td>91.0</td>\n",
       "      <td>34.0</td>\n",
       "      <td>2.0</td>\n",
       "      <td>14.0</td>\n",
       "      <td>5.0</td>\n",
       "      <td>1.0</td>\n",
       "      <td>2.0</td>\n",
       "      <td>3.0</td>\n",
       "      <td>107.0</td>\n",
       "      <td>224.0</td>\n",
       "      <td>606.0</td>\n",
       "      <td>31.0</td>\n",
       "      <td>1.0</td>\n",
       "      <td>NaN</td>\n",
       "      <td>38.0</td>\n",
       "    </tr>\n",
       "    <tr>\n",
       "      <td>5</td>\n",
       "      <td>42.0</td>\n",
       "      <td>11.0</td>\n",
       "      <td>NaN</td>\n",
       "      <td>1.0</td>\n",
       "      <td>1.0</td>\n",
       "      <td>NaN</td>\n",
       "      <td>NaN</td>\n",
       "      <td>NaN</td>\n",
       "      <td>NaN</td>\n",
       "      <td>14.0</td>\n",
       "      <td>94.0</td>\n",
       "      <td>173.0</td>\n",
       "      <td>2.0</td>\n",
       "      <td>NaN</td>\n",
       "      <td>1.0</td>\n",
       "      <td>2.0</td>\n",
       "    </tr>\n",
       "    <tr>\n",
       "      <td>6</td>\n",
       "      <td>71.0</td>\n",
       "      <td>25.0</td>\n",
       "      <td>6.0</td>\n",
       "      <td>NaN</td>\n",
       "      <td>NaN</td>\n",
       "      <td>NaN</td>\n",
       "      <td>NaN</td>\n",
       "      <td>NaN</td>\n",
       "      <td>NaN</td>\n",
       "      <td>23.0</td>\n",
       "      <td>66.0</td>\n",
       "      <td>285.0</td>\n",
       "      <td>6.0</td>\n",
       "      <td>NaN</td>\n",
       "      <td>1.0</td>\n",
       "      <td>6.0</td>\n",
       "    </tr>\n",
       "    <tr>\n",
       "      <td>7</td>\n",
       "      <td>17.0</td>\n",
       "      <td>6.0</td>\n",
       "      <td>6.0</td>\n",
       "      <td>NaN</td>\n",
       "      <td>6.0</td>\n",
       "      <td>3.0</td>\n",
       "      <td>NaN</td>\n",
       "      <td>NaN</td>\n",
       "      <td>NaN</td>\n",
       "      <td>4.0</td>\n",
       "      <td>15.0</td>\n",
       "      <td>49.0</td>\n",
       "      <td>NaN</td>\n",
       "      <td>NaN</td>\n",
       "      <td>NaN</td>\n",
       "      <td>NaN</td>\n",
       "    </tr>\n",
       "    <tr>\n",
       "      <td>8</td>\n",
       "      <td>56.0</td>\n",
       "      <td>10.0</td>\n",
       "      <td>27.0</td>\n",
       "      <td>2.0</td>\n",
       "      <td>4.0</td>\n",
       "      <td>4.0</td>\n",
       "      <td>2.0</td>\n",
       "      <td>NaN</td>\n",
       "      <td>1.0</td>\n",
       "      <td>12.0</td>\n",
       "      <td>187.0</td>\n",
       "      <td>160.0</td>\n",
       "      <td>34.0</td>\n",
       "      <td>NaN</td>\n",
       "      <td>1.0</td>\n",
       "      <td>32.0</td>\n",
       "    </tr>\n",
       "    <tr>\n",
       "      <td>9</td>\n",
       "      <td>18.0</td>\n",
       "      <td>3.0</td>\n",
       "      <td>3.0</td>\n",
       "      <td>NaN</td>\n",
       "      <td>NaN</td>\n",
       "      <td>1.0</td>\n",
       "      <td>NaN</td>\n",
       "      <td>NaN</td>\n",
       "      <td>NaN</td>\n",
       "      <td>6.0</td>\n",
       "      <td>20.0</td>\n",
       "      <td>56.0</td>\n",
       "      <td>4.0</td>\n",
       "      <td>NaN</td>\n",
       "      <td>NaN</td>\n",
       "      <td>6.0</td>\n",
       "    </tr>\n",
       "  </tbody>\n",
       "</table>\n",
       "</div>"
      ],
      "text/plain": [
       "produtoId     -1      0     1    2     3    4    5    6    7      8      9   \\\n",
       "customerId                                                                    \n",
       "0            55.0   25.0   7.0  3.0   2.0  2.0  NaN  NaN  NaN   25.0  136.0   \n",
       "1           142.0  100.0  38.0  7.0  10.0  4.0  6.0  3.0  NaN   67.0  365.0   \n",
       "2            40.0    3.0   6.0  1.0   4.0  NaN  NaN  NaN  NaN    5.0   32.0   \n",
       "3            44.0   15.0  12.0  1.0   5.0  3.0  1.0  NaN  1.0   18.0   51.0   \n",
       "4           147.0   91.0  34.0  2.0  14.0  5.0  1.0  2.0  3.0  107.0  224.0   \n",
       "5            42.0   11.0   NaN  1.0   1.0  NaN  NaN  NaN  NaN   14.0   94.0   \n",
       "6            71.0   25.0   6.0  NaN   NaN  NaN  NaN  NaN  NaN   23.0   66.0   \n",
       "7            17.0    6.0   6.0  NaN   6.0  3.0  NaN  NaN  NaN    4.0   15.0   \n",
       "8            56.0   10.0  27.0  2.0   4.0  4.0  2.0  NaN  1.0   12.0  187.0   \n",
       "9            18.0    3.0   3.0  NaN   NaN  1.0  NaN  NaN  NaN    6.0   20.0   \n",
       "\n",
       "produtoId      10    11   12   14    15  \n",
       "customerId                               \n",
       "0           236.0  14.0  NaN  NaN  31.0  \n",
       "1           721.0  25.0  NaN  4.0  43.0  \n",
       "2            64.0  10.0  NaN  NaN   4.0  \n",
       "3           138.0  13.0  NaN  2.0   7.0  \n",
       "4           606.0  31.0  1.0  NaN  38.0  \n",
       "5           173.0   2.0  NaN  1.0   2.0  \n",
       "6           285.0   6.0  NaN  1.0   6.0  \n",
       "7            49.0   NaN  NaN  NaN   NaN  \n",
       "8           160.0  34.0  NaN  1.0  32.0  \n",
       "9            56.0   4.0  NaN  NaN   6.0  "
      ]
     },
     "execution_count": 33,
     "metadata": {},
     "output_type": "execute_result"
    }
   ],
   "source": [
    "df_matrix"
   ]
  },
  {
   "cell_type": "code",
   "execution_count": 35,
   "metadata": {},
   "outputs": [],
   "source": [
    "def normalize_data(data):\n",
    "    df_matrix = pd.pivot_table(data, values='purchase_count', index='customerId', columns='productId')\n",
    "    df_matrix_norm = (df_matrix-df_matrix.min())/(df_matrix.max()-df_matrix.min())\n",
    "    d = df_matrix_norm.reset_index()\n",
    "    d.index.names = ['scaled_purchase_freq']\n",
    "    return pd.melt(d, id_vars=['customerId'], value_name='scaled_purchase_freq').dropna()"
   ]
  },
  {
   "cell_type": "code",
   "execution_count": 36,
   "metadata": {},
   "outputs": [],
   "source": [
    "def split_data(data):\n",
    "    '''\n",
    "    Splits dataset into training and test set.\n",
    "    \n",
    "    Args:\n",
    "        data (pandas.DataFrame)\n",
    "        \n",
    "    Returns\n",
    "        train_data (tc.SFrame)\n",
    "        test_data (tc.SFrame)\n",
    "    '''\n",
    "    train, test = train_test_split(data, test_size = .2)\n",
    "    train_data = tc.SFrame(train)\n",
    "    test_data = tc.SFrame(test)\n",
    "    return train_data, test_data"
   ]
  },
  {
   "cell_type": "code",
   "execution_count": 37,
   "metadata": {},
   "outputs": [],
   "source": [
    "train_data, test_data = split_data(data)"
   ]
  },
  {
   "cell_type": "code",
   "execution_count": 42,
   "metadata": {},
   "outputs": [],
   "source": [
    "user_id = 'cluster_fundos'\n",
    "item_id = 'produtoId'\n",
    "users_to_recommend = list(df_rec_fixa[user_id])\n",
    "n_rec = 2 # number of items to recommend\n",
    "n_display = 50 # to display the first few rows in an output dataset"
   ]
  },
  {
   "cell_type": "code",
   "execution_count": 43,
   "metadata": {},
   "outputs": [],
   "source": [
    "def model(train_data, name, user_id, item_id, target, users_to_recommend, n_rec, n_display):\n",
    "    if name == 'popularity':\n",
    "        model = tc.popularity_recommender.create(train_data, \n",
    "                                                    user_id=user_id, \n",
    "                                                    item_id=item_id, \n",
    "                                                    target=target)\n",
    "    elif name == 'cosine':\n",
    "        model = tc.item_similarity_recommender.create(train_data, \n",
    "                                                    user_id=user_id, \n",
    "                                                    item_id=item_id, \n",
    "                                                    target=target, \n",
    "                                                    similarity_type='cosine')\n",
    "    elif name == 'pearson':\n",
    "            model = tc.item_similarity_recommender.create(train_data, \n",
    "                                                        user_id=user_id, \n",
    "                                                        item_id=item_id, \n",
    "                                                        target=target, \n",
    "                                                        similarity_type='pearson')\n",
    "\n",
    "    recom = model.recommend(users=users_to_recommend, k=n_rec)\n",
    "    recom.print_rows(n_display)\n",
    "    return model"
   ]
  },
  {
   "cell_type": "code",
   "execution_count": 44,
   "metadata": {},
   "outputs": [
    {
     "data": {
      "text/html": [
       "<div style=\"max-height:1000px;max-width:1500px;overflow:auto;\"><table frame=\"box\" rules=\"cols\">\n",
       "    <tr>\n",
       "        <th style=\"padding-left: 1em; padding-right: 1em; text-align: center\">customerId</th>\n",
       "        <th style=\"padding-left: 1em; padding-right: 1em; text-align: center\">produtoId</th>\n",
       "        <th style=\"padding-left: 1em; padding-right: 1em; text-align: center\">purchase_count</th>\n",
       "    </tr>\n",
       "    <tr>\n",
       "        <td style=\"padding-left: 1em; padding-right: 1em; text-align: center; vertical-align: top\">4</td>\n",
       "        <td style=\"padding-left: 1em; padding-right: 1em; text-align: center; vertical-align: top\">8</td>\n",
       "        <td style=\"padding-left: 1em; padding-right: 1em; text-align: center; vertical-align: top\">107</td>\n",
       "    </tr>\n",
       "    <tr>\n",
       "        <td style=\"padding-left: 1em; padding-right: 1em; text-align: center; vertical-align: top\">1</td>\n",
       "        <td style=\"padding-left: 1em; padding-right: 1em; text-align: center; vertical-align: top\">4</td>\n",
       "        <td style=\"padding-left: 1em; padding-right: 1em; text-align: center; vertical-align: top\">4</td>\n",
       "    </tr>\n",
       "    <tr>\n",
       "        <td style=\"padding-left: 1em; padding-right: 1em; text-align: center; vertical-align: top\">0</td>\n",
       "        <td style=\"padding-left: 1em; padding-right: 1em; text-align: center; vertical-align: top\">8</td>\n",
       "        <td style=\"padding-left: 1em; padding-right: 1em; text-align: center; vertical-align: top\">25</td>\n",
       "    </tr>\n",
       "    <tr>\n",
       "        <td style=\"padding-left: 1em; padding-right: 1em; text-align: center; vertical-align: top\">3</td>\n",
       "        <td style=\"padding-left: 1em; padding-right: 1em; text-align: center; vertical-align: top\">9</td>\n",
       "        <td style=\"padding-left: 1em; padding-right: 1em; text-align: center; vertical-align: top\">51</td>\n",
       "    </tr>\n",
       "    <tr>\n",
       "        <td style=\"padding-left: 1em; padding-right: 1em; text-align: center; vertical-align: top\">4</td>\n",
       "        <td style=\"padding-left: 1em; padding-right: 1em; text-align: center; vertical-align: top\">1</td>\n",
       "        <td style=\"padding-left: 1em; padding-right: 1em; text-align: center; vertical-align: top\">34</td>\n",
       "    </tr>\n",
       "    <tr>\n",
       "        <td style=\"padding-left: 1em; padding-right: 1em; text-align: center; vertical-align: top\">6</td>\n",
       "        <td style=\"padding-left: 1em; padding-right: 1em; text-align: center; vertical-align: top\">0</td>\n",
       "        <td style=\"padding-left: 1em; padding-right: 1em; text-align: center; vertical-align: top\">25</td>\n",
       "    </tr>\n",
       "    <tr>\n",
       "        <td style=\"padding-left: 1em; padding-right: 1em; text-align: center; vertical-align: top\">4</td>\n",
       "        <td style=\"padding-left: 1em; padding-right: 1em; text-align: center; vertical-align: top\">4</td>\n",
       "        <td style=\"padding-left: 1em; padding-right: 1em; text-align: center; vertical-align: top\">5</td>\n",
       "    </tr>\n",
       "    <tr>\n",
       "        <td style=\"padding-left: 1em; padding-right: 1em; text-align: center; vertical-align: top\">0</td>\n",
       "        <td style=\"padding-left: 1em; padding-right: 1em; text-align: center; vertical-align: top\">2</td>\n",
       "        <td style=\"padding-left: 1em; padding-right: 1em; text-align: center; vertical-align: top\">3</td>\n",
       "    </tr>\n",
       "    <tr>\n",
       "        <td style=\"padding-left: 1em; padding-right: 1em; text-align: center; vertical-align: top\">1</td>\n",
       "        <td style=\"padding-left: 1em; padding-right: 1em; text-align: center; vertical-align: top\">-1</td>\n",
       "        <td style=\"padding-left: 1em; padding-right: 1em; text-align: center; vertical-align: top\">142</td>\n",
       "    </tr>\n",
       "    <tr>\n",
       "        <td style=\"padding-left: 1em; padding-right: 1em; text-align: center; vertical-align: top\">3</td>\n",
       "        <td style=\"padding-left: 1em; padding-right: 1em; text-align: center; vertical-align: top\">5</td>\n",
       "        <td style=\"padding-left: 1em; padding-right: 1em; text-align: center; vertical-align: top\">1</td>\n",
       "    </tr>\n",
       "</table>\n",
       "[91 rows x 3 columns]<br/>Note: Only the head of the SFrame is printed.<br/>You can use print_rows(num_rows=m, num_columns=n) to print more rows and columns.\n",
       "</div>"
      ],
      "text/plain": [
       "Columns:\n",
       "\tcustomerId\tint\n",
       "\tprodutoId\tint\n",
       "\tpurchase_count\tint\n",
       "\n",
       "Rows: 91\n",
       "\n",
       "Data:\n",
       "+------------+-----------+----------------+\n",
       "| customerId | produtoId | purchase_count |\n",
       "+------------+-----------+----------------+\n",
       "|     4      |     8     |      107       |\n",
       "|     1      |     4     |       4        |\n",
       "|     0      |     8     |       25       |\n",
       "|     3      |     9     |       51       |\n",
       "|     4      |     1     |       34       |\n",
       "|     6      |     0     |       25       |\n",
       "|     4      |     4     |       5        |\n",
       "|     0      |     2     |       3        |\n",
       "|     1      |     -1    |      142       |\n",
       "|     3      |     5     |       1        |\n",
       "+------------+-----------+----------------+\n",
       "[91 rows x 3 columns]\n",
       "Note: Only the head of the SFrame is printed.\n",
       "You can use print_rows(num_rows=m, num_columns=n) to print more rows and columns."
      ]
     },
     "execution_count": 44,
     "metadata": {},
     "output_type": "execute_result"
    }
   ],
   "source": [
    "train_data"
   ]
  },
  {
   "cell_type": "code",
   "execution_count": 54,
   "metadata": {},
   "outputs": [
    {
     "data": {
      "text/html": [
       "<pre>Preparing data set.</pre>"
      ],
      "text/plain": [
       "Preparing data set."
      ]
     },
     "metadata": {},
     "output_type": "display_data"
    },
    {
     "data": {
      "text/html": [
       "<pre>    Data has 91 observations with 10 users and 16 items.</pre>"
      ],
      "text/plain": [
       "    Data has 91 observations with 10 users and 16 items."
      ]
     },
     "metadata": {},
     "output_type": "display_data"
    },
    {
     "data": {
      "text/html": [
       "<pre>    Data prepared in: 0.002546s</pre>"
      ],
      "text/plain": [
       "    Data prepared in: 0.002546s"
      ]
     },
     "metadata": {},
     "output_type": "display_data"
    },
    {
     "data": {
      "text/html": [
       "<pre>91 observations to process; with 16 unique items.</pre>"
      ],
      "text/plain": [
       "91 observations to process; with 16 unique items."
      ]
     },
     "metadata": {},
     "output_type": "display_data"
    },
    {
     "data": {
      "text/html": [
       "<pre>recommendations finished on 1000/5442 queries. users per second: 14782.8</pre>"
      ],
      "text/plain": [
       "recommendations finished on 1000/5442 queries. users per second: 14782.8"
      ]
     },
     "metadata": {},
     "output_type": "display_data"
    },
    {
     "data": {
      "text/html": [
       "<pre>recommendations finished on 2000/5442 queries. users per second: 21824.3</pre>"
      ],
      "text/plain": [
       "recommendations finished on 2000/5442 queries. users per second: 21824.3"
      ]
     },
     "metadata": {},
     "output_type": "display_data"
    },
    {
     "data": {
      "text/html": [
       "<pre>recommendations finished on 3000/5442 queries. users per second: 31937.3</pre>"
      ],
      "text/plain": [
       "recommendations finished on 3000/5442 queries. users per second: 31937.3"
      ]
     },
     "metadata": {},
     "output_type": "display_data"
    },
    {
     "data": {
      "text/html": [
       "<pre>recommendations finished on 4000/5442 queries. users per second: 40529.7</pre>"
      ],
      "text/plain": [
       "recommendations finished on 4000/5442 queries. users per second: 40529.7"
      ]
     },
     "metadata": {},
     "output_type": "display_data"
    },
    {
     "data": {
      "text/html": [
       "<pre>recommendations finished on 5000/5442 queries. users per second: 49554.5</pre>"
      ],
      "text/plain": [
       "recommendations finished on 5000/5442 queries. users per second: 49554.5"
      ]
     },
     "metadata": {},
     "output_type": "display_data"
    },
    {
     "name": "stdout",
     "output_type": "stream",
     "text": [
      "+------------+-----------+--------------------+------+\n",
      "| customerId | produtoId |       score        | rank |\n",
      "+------------+-----------+--------------------+------+\n",
      "|     10     |     10    |       269.25       |  1   |\n",
      "|     10     |     9     |      129.875       |  2   |\n",
      "|     10     |     10    |       269.25       |  1   |\n",
      "|     10     |     9     |      129.875       |  2   |\n",
      "|     9      |     3     | 4.333333333333333  |  1   |\n",
      "|     9      |     5     |        3.0         |  2   |\n",
      "|     9      |     3     | 4.333333333333333  |  1   |\n",
      "|     9      |     5     |        3.0         |  2   |\n",
      "|     15     |     10    |       269.25       |  1   |\n",
      "|     15     |     9     |      129.875       |  2   |\n",
      "|     10     |     10    |       269.25       |  1   |\n",
      "|     10     |     9     |      129.875       |  2   |\n",
      "|     -1     |     10    |       269.25       |  1   |\n",
      "|     -1     |     9     |      129.875       |  2   |\n",
      "|     -1     |     10    |       269.25       |  1   |\n",
      "|     -1     |     9     |      129.875       |  2   |\n",
      "|     -1     |     10    |       269.25       |  1   |\n",
      "|     -1     |     9     |      129.875       |  2   |\n",
      "|     10     |     10    |       269.25       |  1   |\n",
      "|     10     |     9     |      129.875       |  2   |\n",
      "|     9      |     3     | 4.333333333333333  |  1   |\n",
      "|     9      |     5     |        3.0         |  2   |\n",
      "|     10     |     10    |       269.25       |  1   |\n",
      "|     10     |     9     |      129.875       |  2   |\n",
      "|     10     |     10    |       269.25       |  1   |\n",
      "|     10     |     9     |      129.875       |  2   |\n",
      "|     11     |     10    |       269.25       |  1   |\n",
      "|     11     |     9     |      129.875       |  2   |\n",
      "|     8      |     15    | 18.571428571428573 |  1   |\n",
      "|     8      |     6     |        3.0         |  2   |\n",
      "|     8      |     15    | 18.571428571428573 |  1   |\n",
      "|     8      |     6     |        3.0         |  2   |\n",
      "|     10     |     10    |       269.25       |  1   |\n",
      "|     10     |     9     |      129.875       |  2   |\n",
      "|     10     |     10    |       269.25       |  1   |\n",
      "|     10     |     9     |      129.875       |  2   |\n",
      "|     10     |     10    |       269.25       |  1   |\n",
      "|     10     |     9     |      129.875       |  2   |\n",
      "|     15     |     10    |       269.25       |  1   |\n",
      "|     15     |     9     |      129.875       |  2   |\n",
      "|     15     |     10    |       269.25       |  1   |\n",
      "|     15     |     9     |      129.875       |  2   |\n",
      "|     9      |     3     | 4.333333333333333  |  1   |\n",
      "|     9      |     5     |        3.0         |  2   |\n",
      "|     9      |     3     | 4.333333333333333  |  1   |\n",
      "|     9      |     5     |        3.0         |  2   |\n",
      "|     10     |     10    |       269.25       |  1   |\n",
      "|     10     |     9     |      129.875       |  2   |\n",
      "|     10     |     10    |       269.25       |  1   |\n",
      "|     10     |     9     |      129.875       |  2   |\n",
      "+------------+-----------+--------------------+------+\n",
      "[10884 rows x 4 columns]\n",
      "\n"
     ]
    }
   ],
   "source": [
    "name = 'popularity'\n",
    "target = 'purchase_count'\n",
    "popularity = model(train_data, name, 'customerId', item_id, target, users_to_recommend, n_rec, n_display)"
   ]
  },
  {
   "cell_type": "code",
   "execution_count": 46,
   "metadata": {},
   "outputs": [
    {
     "data": {
      "text/html": [
       "<pre>recommendations finished on 1000/5442 queries. users per second: 18450.2</pre>"
      ],
      "text/plain": [
       "recommendations finished on 1000/5442 queries. users per second: 18450.2"
      ]
     },
     "metadata": {},
     "output_type": "display_data"
    },
    {
     "data": {
      "text/html": [
       "<pre>recommendations finished on 2000/5442 queries. users per second: 18808.3</pre>"
      ],
      "text/plain": [
       "recommendations finished on 2000/5442 queries. users per second: 18808.3"
      ]
     },
     "metadata": {},
     "output_type": "display_data"
    },
    {
     "data": {
      "text/html": [
       "<pre>recommendations finished on 3000/5442 queries. users per second: 27670.7</pre>"
      ],
      "text/plain": [
       "recommendations finished on 3000/5442 queries. users per second: 27670.7"
      ]
     },
     "metadata": {},
     "output_type": "display_data"
    },
    {
     "data": {
      "text/html": [
       "<pre>recommendations finished on 4000/5442 queries. users per second: 36117.1</pre>"
      ],
      "text/plain": [
       "recommendations finished on 4000/5442 queries. users per second: 36117.1"
      ]
     },
     "metadata": {},
     "output_type": "display_data"
    },
    {
     "data": {
      "text/html": [
       "<pre>recommendations finished on 5000/5442 queries. users per second: 43367.4</pre>"
      ],
      "text/plain": [
       "recommendations finished on 5000/5442 queries. users per second: 43367.4"
      ]
     },
     "metadata": {},
     "output_type": "display_data"
    }
   ],
   "source": [
    "recom = popularity.recommend(users=users_to_recommend, k=2)"
   ]
  },
  {
   "cell_type": "code",
   "execution_count": 72,
   "metadata": {},
   "outputs": [
    {
     "data": {
      "text/plain": [
       "turicreate.data_structures.sframe.SFrame"
      ]
     },
     "execution_count": 72,
     "metadata": {},
     "output_type": "execute_result"
    }
   ],
   "source": [
    "type(recom)"
   ]
  },
  {
   "cell_type": "code",
   "execution_count": 74,
   "metadata": {},
   "outputs": [],
   "source": [
    "df_fundos = pd.DataFrame(recom)"
   ]
  },
  {
   "cell_type": "code",
   "execution_count": 78,
   "metadata": {},
   "outputs": [],
   "source": [
    "pickle.dump(df_fundos, open(f'../models/recommendation_fundos_FINAL.pkl','wb'))"
   ]
  },
  {
   "cell_type": "code",
   "execution_count": null,
   "metadata": {},
   "outputs": [],
   "source": []
  }
 ],
 "metadata": {
  "kernelspec": {
   "display_name": "Python 3.7.4",
   "language": "python",
   "name": "other-env"
  },
  "language_info": {
   "codemirror_mode": {
    "name": "ipython",
    "version": 3
   },
   "file_extension": ".py",
   "mimetype": "text/x-python",
   "name": "python",
   "nbconvert_exporter": "python",
   "pygments_lexer": "ipython3",
   "version": "3.7.4"
  }
 },
 "nbformat": 4,
 "nbformat_minor": 4
}
