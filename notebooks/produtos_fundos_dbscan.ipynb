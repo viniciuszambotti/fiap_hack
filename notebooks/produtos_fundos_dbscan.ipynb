{
 "cells": [
  {
   "cell_type": "code",
   "execution_count": 1,
   "metadata": {},
   "outputs": [],
   "source": [
    "import pandas as pd\n",
    "import numpy as np\n",
    "import datetime as dt\n",
    "\n",
    "import matplotlib.pyplot as plt\n",
    "import seaborn as sns;sns.set(context='notebook',palette='Set3', style='darkgrid')\n",
    "%matplotlib inline\n",
    "\n",
    "from classes.ClusterModel import ClusterModel\n",
    "\n",
    "import pickle"
   ]
  },
  {
   "cell_type": "code",
   "execution_count": 2,
   "metadata": {},
   "outputs": [],
   "source": [
    "df_produtos = pd.read_csv(\"../data/processados/produtos_fundos.csv\")"
   ]
  },
  {
   "cell_type": "code",
   "execution_count": 3,
   "metadata": {},
   "outputs": [
    {
     "data": {
      "text/html": [
       "<div>\n",
       "<style scoped>\n",
       "    .dataframe tbody tr th:only-of-type {\n",
       "        vertical-align: middle;\n",
       "    }\n",
       "\n",
       "    .dataframe tbody tr th {\n",
       "        vertical-align: top;\n",
       "    }\n",
       "\n",
       "    .dataframe thead th {\n",
       "        text-align: right;\n",
       "    }\n",
       "</style>\n",
       "<table border=\"1\" class=\"dataframe\">\n",
       "  <thead>\n",
       "    <tr style=\"text-align: right;\">\n",
       "      <th></th>\n",
       "      <th>ProdutoId</th>\n",
       "      <th>NomeInvestimento__c</th>\n",
       "      <th>DescricaoCarencia__c</th>\n",
       "      <th>DescricaoCotizacaoResgate__c</th>\n",
       "      <th>DescricaoCotizacaoResgate__c.1</th>\n",
       "      <th>DescricaoTributacaoProduto__c</th>\n",
       "      <th>DiasUteisParaResgate__c</th>\n",
       "      <th>FamiliaCarteira__c</th>\n",
       "      <th>FiltroValorMinimo__c</th>\n",
       "      <th>RentabilidadeAno__c</th>\n",
       "      <th>ResgateDias__c</th>\n",
       "      <th>RiscoAtivo__c</th>\n",
       "      <th>SaldoMinimoPermanencia__c</th>\n",
       "      <th>Inativo__c</th>\n",
       "    </tr>\n",
       "  </thead>\n",
       "  <tbody>\n",
       "    <tr>\n",
       "      <td>0</td>\n",
       "      <td>a0W3u000009PBevEAG</td>\n",
       "      <td>EQUITAS SELECTION MÃO AMIGA FIC AÇÕES</td>\n",
       "      <td>Qualquer dia</td>\n",
       "      <td>30 dias corridos</td>\n",
       "      <td>30 dias corridos</td>\n",
       "      <td>Incidirá no momento do resgate, à alíquota de ...</td>\n",
       "      <td>32 dias</td>\n",
       "      <td>Renda Variável</td>\n",
       "      <td>5000.0</td>\n",
       "      <td>4.001300</td>\n",
       "      <td>Qualquer dia</td>\n",
       "      <td>5.0</td>\n",
       "      <td>1000.0</td>\n",
       "      <td>False</td>\n",
       "    </tr>\n",
       "    <tr>\n",
       "      <td>1</td>\n",
       "      <td>a0W3u000009PBfAEAW</td>\n",
       "      <td>EQUITAS SELECTION FIC FIA</td>\n",
       "      <td>Qualquer dia</td>\n",
       "      <td>30 dias corridos</td>\n",
       "      <td>30 dias corridos</td>\n",
       "      <td>Incidirá no momento do resgate, à alíquota de ...</td>\n",
       "      <td>32 dias</td>\n",
       "      <td>Renda Variável</td>\n",
       "      <td>5000.0</td>\n",
       "      <td>1.334016</td>\n",
       "      <td>Qualquer dia</td>\n",
       "      <td>5.0</td>\n",
       "      <td>1000.0</td>\n",
       "      <td>False</td>\n",
       "    </tr>\n",
       "    <tr>\n",
       "      <td>2</td>\n",
       "      <td>a0W3u000009PBlwEAG</td>\n",
       "      <td>TRIGONO FLAGSHIP SMALL CAPS FIC FIA</td>\n",
       "      <td>Qualquer dia</td>\n",
       "      <td>30 dias corridos</td>\n",
       "      <td>30 dias corridos</td>\n",
       "      <td>Incidirá no momento do resgate, à alíquota de ...</td>\n",
       "      <td>32 dias</td>\n",
       "      <td>Renda Variável</td>\n",
       "      <td>500.0</td>\n",
       "      <td>11.323087</td>\n",
       "      <td>Qualquer dia</td>\n",
       "      <td>5.0</td>\n",
       "      <td>500.0</td>\n",
       "      <td>False</td>\n",
       "    </tr>\n",
       "    <tr>\n",
       "      <td>3</td>\n",
       "      <td>a0W3u000009PBm6EAG</td>\n",
       "      <td>TRIGONO VERBIER  FIA</td>\n",
       "      <td>Qualquer dia</td>\n",
       "      <td>30 dias corridos</td>\n",
       "      <td>30 dias corridos</td>\n",
       "      <td>Incidirá no momento do resgate, à alíquota de ...</td>\n",
       "      <td>32 dias</td>\n",
       "      <td>Renda Variável</td>\n",
       "      <td>500.0</td>\n",
       "      <td>8.178073</td>\n",
       "      <td>Qualquer dia</td>\n",
       "      <td>5.0</td>\n",
       "      <td>500.0</td>\n",
       "      <td>False</td>\n",
       "    </tr>\n",
       "    <tr>\n",
       "      <td>4</td>\n",
       "      <td>a0W3u000009PCgiEAG</td>\n",
       "      <td>SQUADRA LONG-BIASED FIC FIA</td>\n",
       "      <td>Qualquer dia</td>\n",
       "      <td>60 dias corridos</td>\n",
       "      <td>60 dias corridos</td>\n",
       "      <td>Incidirá no momento do resgate, à alíquota de ...</td>\n",
       "      <td>62 dias</td>\n",
       "      <td>Renda Variável</td>\n",
       "      <td>5000.0</td>\n",
       "      <td>6.945695</td>\n",
       "      <td>Qualquer dia</td>\n",
       "      <td>5.0</td>\n",
       "      <td>5000.0</td>\n",
       "      <td>False</td>\n",
       "    </tr>\n",
       "  </tbody>\n",
       "</table>\n",
       "</div>"
      ],
      "text/plain": [
       "            ProdutoId                    NomeInvestimento__c  \\\n",
       "0  a0W3u000009PBevEAG  EQUITAS SELECTION MÃO AMIGA FIC AÇÕES   \n",
       "1  a0W3u000009PBfAEAW              EQUITAS SELECTION FIC FIA   \n",
       "2  a0W3u000009PBlwEAG    TRIGONO FLAGSHIP SMALL CAPS FIC FIA   \n",
       "3  a0W3u000009PBm6EAG                   TRIGONO VERBIER  FIA   \n",
       "4  a0W3u000009PCgiEAG            SQUADRA LONG-BIASED FIC FIA   \n",
       "\n",
       "  DescricaoCarencia__c DescricaoCotizacaoResgate__c  \\\n",
       "0         Qualquer dia             30 dias corridos   \n",
       "1         Qualquer dia             30 dias corridos   \n",
       "2         Qualquer dia             30 dias corridos   \n",
       "3         Qualquer dia             30 dias corridos   \n",
       "4         Qualquer dia             60 dias corridos   \n",
       "\n",
       "  DescricaoCotizacaoResgate__c.1  \\\n",
       "0               30 dias corridos   \n",
       "1               30 dias corridos   \n",
       "2               30 dias corridos   \n",
       "3               30 dias corridos   \n",
       "4               60 dias corridos   \n",
       "\n",
       "                       DescricaoTributacaoProduto__c DiasUteisParaResgate__c  \\\n",
       "0  Incidirá no momento do resgate, à alíquota de ...                 32 dias   \n",
       "1  Incidirá no momento do resgate, à alíquota de ...                 32 dias   \n",
       "2  Incidirá no momento do resgate, à alíquota de ...                 32 dias   \n",
       "3  Incidirá no momento do resgate, à alíquota de ...                 32 dias   \n",
       "4  Incidirá no momento do resgate, à alíquota de ...                 62 dias   \n",
       "\n",
       "  FamiliaCarteira__c  FiltroValorMinimo__c  RentabilidadeAno__c  \\\n",
       "0     Renda Variável                5000.0             4.001300   \n",
       "1     Renda Variável                5000.0             1.334016   \n",
       "2     Renda Variável                 500.0            11.323087   \n",
       "3     Renda Variável                 500.0             8.178073   \n",
       "4     Renda Variável                5000.0             6.945695   \n",
       "\n",
       "  ResgateDias__c  RiscoAtivo__c  SaldoMinimoPermanencia__c  Inativo__c  \n",
       "0   Qualquer dia            5.0                     1000.0       False  \n",
       "1   Qualquer dia            5.0                     1000.0       False  \n",
       "2   Qualquer dia            5.0                      500.0       False  \n",
       "3   Qualquer dia            5.0                      500.0       False  \n",
       "4   Qualquer dia            5.0                     5000.0       False  "
      ]
     },
     "execution_count": 3,
     "metadata": {},
     "output_type": "execute_result"
    }
   ],
   "source": [
    "df_produtos.head()"
   ]
  },
  {
   "cell_type": "code",
   "execution_count": 4,
   "metadata": {},
   "outputs": [
    {
     "data": {
      "text/plain": [
       "Index(['ProdutoId', 'NomeInvestimento__c', 'DescricaoCarencia__c',\n",
       "       'DescricaoCotizacaoResgate__c', 'DescricaoCotizacaoResgate__c.1',\n",
       "       'DescricaoTributacaoProduto__c', 'DiasUteisParaResgate__c',\n",
       "       'FamiliaCarteira__c', 'FiltroValorMinimo__c', 'RentabilidadeAno__c',\n",
       "       'ResgateDias__c', 'RiscoAtivo__c', 'SaldoMinimoPermanencia__c',\n",
       "       'Inativo__c'],\n",
       "      dtype='object')"
      ]
     },
     "execution_count": 4,
     "metadata": {},
     "output_type": "execute_result"
    }
   ],
   "source": [
    "df_produtos.columns"
   ]
  },
  {
   "cell_type": "code",
   "execution_count": 5,
   "metadata": {},
   "outputs": [],
   "source": [
    "df_ml = df_produtos[['FamiliaCarteira__c', 'RiscoAtivo__c', 'ProdutoId']]"
   ]
  },
  {
   "cell_type": "code",
   "execution_count": 6,
   "metadata": {},
   "outputs": [
    {
     "name": "stderr",
     "output_type": "stream",
     "text": [
      "/home/vinicius/.pyenv/versions/3.7.4/lib/python3.7/site-packages/ipykernel_launcher.py:1: SettingWithCopyWarning: \n",
      "A value is trying to be set on a copy of a slice from a DataFrame\n",
      "\n",
      "See the caveats in the documentation: http://pandas.pydata.org/pandas-docs/stable/user_guide/indexing.html#returning-a-view-versus-a-copy\n",
      "  \"\"\"Entry point for launching an IPython kernel.\n"
     ]
    }
   ],
   "source": [
    "df_ml.dropna(inplace=True)"
   ]
  },
  {
   "cell_type": "code",
   "execution_count": 7,
   "metadata": {},
   "outputs": [
    {
     "data": {
      "text/plain": [
       "FamiliaCarteira__c    0\n",
       "RiscoAtivo__c         0\n",
       "ProdutoId             0\n",
       "dtype: int64"
      ]
     },
     "execution_count": 7,
     "metadata": {},
     "output_type": "execute_result"
    }
   ],
   "source": [
    "df_ml.isnull().sum()"
   ]
  },
  {
   "cell_type": "code",
   "execution_count": 8,
   "metadata": {},
   "outputs": [
    {
     "data": {
      "text/plain": [
       "(282, 3)"
      ]
     },
     "execution_count": 8,
     "metadata": {},
     "output_type": "execute_result"
    }
   ],
   "source": [
    "df_ml.shape"
   ]
  },
  {
   "cell_type": "code",
   "execution_count": 9,
   "metadata": {},
   "outputs": [],
   "source": [
    "cluster_model = ClusterModel(df_ml.loc[:, df_ml.columns != 'ProdutoId'],do_pca=False)"
   ]
  },
  {
   "cell_type": "code",
   "execution_count": 10,
   "metadata": {},
   "outputs": [],
   "source": [
    "clusters, model = cluster_model.dbscan()"
   ]
  },
  {
   "cell_type": "code",
   "execution_count": 11,
   "metadata": {},
   "outputs": [
    {
     "data": {
      "text/html": [
       "<div>\n",
       "<style scoped>\n",
       "    .dataframe tbody tr th:only-of-type {\n",
       "        vertical-align: middle;\n",
       "    }\n",
       "\n",
       "    .dataframe tbody tr th {\n",
       "        vertical-align: top;\n",
       "    }\n",
       "\n",
       "    .dataframe thead th {\n",
       "        text-align: right;\n",
       "    }\n",
       "</style>\n",
       "<table border=\"1\" class=\"dataframe\">\n",
       "  <thead>\n",
       "    <tr style=\"text-align: right;\">\n",
       "      <th></th>\n",
       "      <th>FamiliaCarteira__c</th>\n",
       "      <th>RiscoAtivo__c</th>\n",
       "      <th>cluster</th>\n",
       "    </tr>\n",
       "  </thead>\n",
       "  <tbody>\n",
       "    <tr>\n",
       "      <td>0</td>\n",
       "      <td>Renda Variável</td>\n",
       "      <td>5.0</td>\n",
       "      <td>0</td>\n",
       "    </tr>\n",
       "    <tr>\n",
       "      <td>1</td>\n",
       "      <td>Renda Variável</td>\n",
       "      <td>5.0</td>\n",
       "      <td>0</td>\n",
       "    </tr>\n",
       "    <tr>\n",
       "      <td>2</td>\n",
       "      <td>Renda Variável</td>\n",
       "      <td>5.0</td>\n",
       "      <td>0</td>\n",
       "    </tr>\n",
       "    <tr>\n",
       "      <td>3</td>\n",
       "      <td>Renda Variável</td>\n",
       "      <td>5.0</td>\n",
       "      <td>0</td>\n",
       "    </tr>\n",
       "    <tr>\n",
       "      <td>4</td>\n",
       "      <td>Renda Variável</td>\n",
       "      <td>5.0</td>\n",
       "      <td>0</td>\n",
       "    </tr>\n",
       "  </tbody>\n",
       "</table>\n",
       "</div>"
      ],
      "text/plain": [
       "  FamiliaCarteira__c  RiscoAtivo__c  cluster\n",
       "0     Renda Variável            5.0        0\n",
       "1     Renda Variável            5.0        0\n",
       "2     Renda Variável            5.0        0\n",
       "3     Renda Variável            5.0        0\n",
       "4     Renda Variável            5.0        0"
      ]
     },
     "execution_count": 11,
     "metadata": {},
     "output_type": "execute_result"
    }
   ],
   "source": [
    "clusters.head()"
   ]
  },
  {
   "cell_type": "code",
   "execution_count": 12,
   "metadata": {},
   "outputs": [],
   "source": [
    "df_merged = clusters.merge(df_ml[['ProdutoId']], left_index=True, right_index=True)"
   ]
  },
  {
   "cell_type": "code",
   "execution_count": 13,
   "metadata": {},
   "outputs": [],
   "source": [
    "df_merged.to_csv(\"../data/processados/produto_fundos_final.csv\", index=False)"
   ]
  },
  {
   "cell_type": "code",
   "execution_count": 56,
   "metadata": {},
   "outputs": [
    {
     "data": {
      "text/plain": [
       "<matplotlib.axes._subplots.AxesSubplot at 0x7f4c739cde90>"
      ]
     },
     "execution_count": 56,
     "metadata": {},
     "output_type": "execute_result"
    },
    {
     "data": {
      "image/png": "[encoded data removed]",
      "text/plain": [
       "<Figure size 720x720 with 1 Axes>"
      ]
     },
     "metadata": {
      "needs_background": "light"
     },
     "output_type": "display_data"
    }
   ],
   "source": [
    "plt.figure(figsize=(10,10))\n",
    "clusters['cluster'].value_counts().plot(kind='bar')"
   ]
  },
  {
   "cell_type": "code",
   "execution_count": 57,
   "metadata": {},
   "outputs": [
    {
     "data": {
      "text/plain": [
       "<matplotlib.axes._subplots.AxesSubplot at 0x7f4c738c45d0>"
      ]
     },
     "execution_count": 57,
     "metadata": {},
     "output_type": "execute_result"
    },
    {
     "data": {
      "image/png": "[encoded data removed]",
      "text/plain": [
       "<Figure size 720x720 with 1 Axes>"
      ]
     },
     "metadata": {
      "needs_background": "light"
     },
     "output_type": "display_data"
    }
   ],
   "source": [
    "plt.figure(figsize=(10,10))\n",
    "sns.countplot(y =\"FamiliaCarteira__c\", hue=\"cluster\", data=clusters, palette='Set1')"
   ]
  },
  {
   "cell_type": "code",
   "execution_count": 58,
   "metadata": {},
   "outputs": [
    {
     "data": {
      "text/plain": [
       "<matplotlib.axes._subplots.AxesSubplot at 0x7f4c7380b210>"
      ]
     },
     "execution_count": 58,
     "metadata": {},
     "output_type": "execute_result"
    },
    {
     "data": {
      "image/png": "[encoded data removed]",
      "text/plain": [
       "<Figure size 720x720 with 1 Axes>"
      ]
     },
     "metadata": {
      "needs_background": "light"
     },
     "output_type": "display_data"
    }
   ],
   "source": [
    "plt.figure(figsize=(10,10))\n",
    "sns.countplot(x=\"RiscoAtivo__c\", hue=\"cluster\", data=clusters, palette='Set1')"
   ]
  },
  {
   "cell_type": "code",
   "execution_count": 62,
   "metadata": {},
   "outputs": [
    {
     "data": {
      "text/html": [
       "<div>\n",
       "<style scoped>\n",
       "    .dataframe tbody tr th:only-of-type {\n",
       "        vertical-align: middle;\n",
       "    }\n",
       "\n",
       "    .dataframe tbody tr th {\n",
       "        vertical-align: top;\n",
       "    }\n",
       "\n",
       "    .dataframe thead th {\n",
       "        text-align: right;\n",
       "    }\n",
       "</style>\n",
       "<table border=\"1\" class=\"dataframe\">\n",
       "  <thead>\n",
       "    <tr style=\"text-align: right;\">\n",
       "      <th></th>\n",
       "      <th>DescricaoCarencia__c</th>\n",
       "      <th>FamiliaCarteira__c</th>\n",
       "      <th>RiscoAtivo__c</th>\n",
       "      <th>cluster</th>\n",
       "    </tr>\n",
       "  </thead>\n",
       "  <tbody>\n",
       "    <tr>\n",
       "      <td>24</td>\n",
       "      <td>Qualquer dia</td>\n",
       "      <td>Renda Fixa</td>\n",
       "      <td>5.0</td>\n",
       "      <td>3</td>\n",
       "    </tr>\n",
       "    <tr>\n",
       "      <td>32</td>\n",
       "      <td>Qualquer dia</td>\n",
       "      <td>Renda Fixa</td>\n",
       "      <td>5.0</td>\n",
       "      <td>3</td>\n",
       "    </tr>\n",
       "    <tr>\n",
       "      <td>48</td>\n",
       "      <td>Qualquer dia</td>\n",
       "      <td>Renda Fixa</td>\n",
       "      <td>5.0</td>\n",
       "      <td>3</td>\n",
       "    </tr>\n",
       "    <tr>\n",
       "      <td>49</td>\n",
       "      <td>Qualquer dia</td>\n",
       "      <td>Renda Fixa</td>\n",
       "      <td>5.0</td>\n",
       "      <td>3</td>\n",
       "    </tr>\n",
       "    <tr>\n",
       "      <td>57</td>\n",
       "      <td>Qualquer dia</td>\n",
       "      <td>Renda Fixa</td>\n",
       "      <td>5.0</td>\n",
       "      <td>3</td>\n",
       "    </tr>\n",
       "    <tr>\n",
       "      <td>58</td>\n",
       "      <td>Qualquer dia</td>\n",
       "      <td>Renda Fixa</td>\n",
       "      <td>5.0</td>\n",
       "      <td>3</td>\n",
       "    </tr>\n",
       "    <tr>\n",
       "      <td>69</td>\n",
       "      <td>Qualquer dia</td>\n",
       "      <td>Renda Fixa</td>\n",
       "      <td>5.0</td>\n",
       "      <td>3</td>\n",
       "    </tr>\n",
       "    <tr>\n",
       "      <td>77</td>\n",
       "      <td>Qualquer dia</td>\n",
       "      <td>Renda Fixa</td>\n",
       "      <td>5.0</td>\n",
       "      <td>3</td>\n",
       "    </tr>\n",
       "    <tr>\n",
       "      <td>86</td>\n",
       "      <td>Qualquer dia</td>\n",
       "      <td>Renda Fixa</td>\n",
       "      <td>5.0</td>\n",
       "      <td>3</td>\n",
       "    </tr>\n",
       "    <tr>\n",
       "      <td>90</td>\n",
       "      <td>Qualquer dia</td>\n",
       "      <td>Renda Fixa</td>\n",
       "      <td>5.0</td>\n",
       "      <td>3</td>\n",
       "    </tr>\n",
       "    <tr>\n",
       "      <td>91</td>\n",
       "      <td>Qualquer dia</td>\n",
       "      <td>Renda Fixa</td>\n",
       "      <td>5.0</td>\n",
       "      <td>3</td>\n",
       "    </tr>\n",
       "    <tr>\n",
       "      <td>118</td>\n",
       "      <td>Qualquer dia</td>\n",
       "      <td>Renda Fixa</td>\n",
       "      <td>5.0</td>\n",
       "      <td>3</td>\n",
       "    </tr>\n",
       "    <tr>\n",
       "      <td>123</td>\n",
       "      <td>Qualquer dia</td>\n",
       "      <td>Renda Fixa</td>\n",
       "      <td>5.0</td>\n",
       "      <td>3</td>\n",
       "    </tr>\n",
       "    <tr>\n",
       "      <td>133</td>\n",
       "      <td>Qualquer dia</td>\n",
       "      <td>Renda Fixa</td>\n",
       "      <td>5.0</td>\n",
       "      <td>3</td>\n",
       "    </tr>\n",
       "    <tr>\n",
       "      <td>134</td>\n",
       "      <td>Qualquer dia</td>\n",
       "      <td>Renda Fixa</td>\n",
       "      <td>5.0</td>\n",
       "      <td>3</td>\n",
       "    </tr>\n",
       "    <tr>\n",
       "      <td>158</td>\n",
       "      <td>Qualquer dia</td>\n",
       "      <td>Renda Fixa</td>\n",
       "      <td>5.0</td>\n",
       "      <td>3</td>\n",
       "    </tr>\n",
       "    <tr>\n",
       "      <td>170</td>\n",
       "      <td>Qualquer dia</td>\n",
       "      <td>Renda Fixa</td>\n",
       "      <td>5.0</td>\n",
       "      <td>3</td>\n",
       "    </tr>\n",
       "    <tr>\n",
       "      <td>173</td>\n",
       "      <td>Qualquer dia</td>\n",
       "      <td>Renda Fixa</td>\n",
       "      <td>5.0</td>\n",
       "      <td>3</td>\n",
       "    </tr>\n",
       "    <tr>\n",
       "      <td>176</td>\n",
       "      <td>Qualquer dia</td>\n",
       "      <td>Renda Fixa</td>\n",
       "      <td>5.0</td>\n",
       "      <td>3</td>\n",
       "    </tr>\n",
       "    <tr>\n",
       "      <td>184</td>\n",
       "      <td>Qualquer dia</td>\n",
       "      <td>Renda Fixa</td>\n",
       "      <td>5.0</td>\n",
       "      <td>3</td>\n",
       "    </tr>\n",
       "    <tr>\n",
       "      <td>186</td>\n",
       "      <td>Qualquer dia</td>\n",
       "      <td>Renda Fixa</td>\n",
       "      <td>5.0</td>\n",
       "      <td>3</td>\n",
       "    </tr>\n",
       "    <tr>\n",
       "      <td>187</td>\n",
       "      <td>Qualquer dia</td>\n",
       "      <td>Renda Fixa</td>\n",
       "      <td>5.0</td>\n",
       "      <td>3</td>\n",
       "    </tr>\n",
       "    <tr>\n",
       "      <td>218</td>\n",
       "      <td>Qualquer dia</td>\n",
       "      <td>Renda Fixa</td>\n",
       "      <td>5.0</td>\n",
       "      <td>3</td>\n",
       "    </tr>\n",
       "    <tr>\n",
       "      <td>225</td>\n",
       "      <td>Qualquer dia</td>\n",
       "      <td>Renda Fixa</td>\n",
       "      <td>5.0</td>\n",
       "      <td>3</td>\n",
       "    </tr>\n",
       "    <tr>\n",
       "      <td>228</td>\n",
       "      <td>Qualquer dia</td>\n",
       "      <td>Renda Fixa</td>\n",
       "      <td>5.0</td>\n",
       "      <td>3</td>\n",
       "    </tr>\n",
       "    <tr>\n",
       "      <td>231</td>\n",
       "      <td>Qualquer dia</td>\n",
       "      <td>Renda Fixa</td>\n",
       "      <td>5.0</td>\n",
       "      <td>3</td>\n",
       "    </tr>\n",
       "    <tr>\n",
       "      <td>232</td>\n",
       "      <td>Qualquer dia</td>\n",
       "      <td>Renda Fixa</td>\n",
       "      <td>5.0</td>\n",
       "      <td>3</td>\n",
       "    </tr>\n",
       "    <tr>\n",
       "      <td>252</td>\n",
       "      <td>Qualquer dia</td>\n",
       "      <td>Renda Fixa</td>\n",
       "      <td>5.0</td>\n",
       "      <td>3</td>\n",
       "    </tr>\n",
       "    <tr>\n",
       "      <td>254</td>\n",
       "      <td>Qualquer dia</td>\n",
       "      <td>Renda Fixa</td>\n",
       "      <td>5.0</td>\n",
       "      <td>3</td>\n",
       "    </tr>\n",
       "    <tr>\n",
       "      <td>258</td>\n",
       "      <td>Qualquer dia</td>\n",
       "      <td>Renda Fixa</td>\n",
       "      <td>5.0</td>\n",
       "      <td>3</td>\n",
       "    </tr>\n",
       "    <tr>\n",
       "      <td>261</td>\n",
       "      <td>Qualquer dia</td>\n",
       "      <td>Renda Fixa</td>\n",
       "      <td>5.0</td>\n",
       "      <td>3</td>\n",
       "    </tr>\n",
       "    <tr>\n",
       "      <td>262</td>\n",
       "      <td>Qualquer dia</td>\n",
       "      <td>Renda Fixa</td>\n",
       "      <td>5.0</td>\n",
       "      <td>3</td>\n",
       "    </tr>\n",
       "    <tr>\n",
       "      <td>267</td>\n",
       "      <td>Qualquer dia</td>\n",
       "      <td>Renda Fixa</td>\n",
       "      <td>5.0</td>\n",
       "      <td>3</td>\n",
       "    </tr>\n",
       "    <tr>\n",
       "      <td>271</td>\n",
       "      <td>Qualquer dia</td>\n",
       "      <td>Renda Fixa</td>\n",
       "      <td>5.0</td>\n",
       "      <td>3</td>\n",
       "    </tr>\n",
       "    <tr>\n",
       "      <td>273</td>\n",
       "      <td>Qualquer dia</td>\n",
       "      <td>Renda Fixa</td>\n",
       "      <td>5.0</td>\n",
       "      <td>3</td>\n",
       "    </tr>\n",
       "  </tbody>\n",
       "</table>\n",
       "</div>"
      ],
      "text/plain": [
       "    DescricaoCarencia__c FamiliaCarteira__c  RiscoAtivo__c  cluster\n",
       "24          Qualquer dia         Renda Fixa            5.0        3\n",
       "32          Qualquer dia         Renda Fixa            5.0        3\n",
       "48          Qualquer dia         Renda Fixa            5.0        3\n",
       "49          Qualquer dia         Renda Fixa            5.0        3\n",
       "57          Qualquer dia         Renda Fixa            5.0        3\n",
       "58          Qualquer dia         Renda Fixa            5.0        3\n",
       "69          Qualquer dia         Renda Fixa            5.0        3\n",
       "77          Qualquer dia         Renda Fixa            5.0        3\n",
       "86          Qualquer dia         Renda Fixa            5.0        3\n",
       "90          Qualquer dia         Renda Fixa            5.0        3\n",
       "91          Qualquer dia         Renda Fixa            5.0        3\n",
       "118         Qualquer dia         Renda Fixa            5.0        3\n",
       "123         Qualquer dia         Renda Fixa            5.0        3\n",
       "133         Qualquer dia         Renda Fixa            5.0        3\n",
       "134         Qualquer dia         Renda Fixa            5.0        3\n",
       "158         Qualquer dia         Renda Fixa            5.0        3\n",
       "170         Qualquer dia         Renda Fixa            5.0        3\n",
       "173         Qualquer dia         Renda Fixa            5.0        3\n",
       "176         Qualquer dia         Renda Fixa            5.0        3\n",
       "184         Qualquer dia         Renda Fixa            5.0        3\n",
       "186         Qualquer dia         Renda Fixa            5.0        3\n",
       "187         Qualquer dia         Renda Fixa            5.0        3\n",
       "218         Qualquer dia         Renda Fixa            5.0        3\n",
       "225         Qualquer dia         Renda Fixa            5.0        3\n",
       "228         Qualquer dia         Renda Fixa            5.0        3\n",
       "231         Qualquer dia         Renda Fixa            5.0        3\n",
       "232         Qualquer dia         Renda Fixa            5.0        3\n",
       "252         Qualquer dia         Renda Fixa            5.0        3\n",
       "254         Qualquer dia         Renda Fixa            5.0        3\n",
       "258         Qualquer dia         Renda Fixa            5.0        3\n",
       "261         Qualquer dia         Renda Fixa            5.0        3\n",
       "262         Qualquer dia         Renda Fixa            5.0        3\n",
       "267         Qualquer dia         Renda Fixa            5.0        3\n",
       "271         Qualquer dia         Renda Fixa            5.0        3\n",
       "273         Qualquer dia         Renda Fixa            5.0        3"
      ]
     },
     "execution_count": 62,
     "metadata": {},
     "output_type": "execute_result"
    }
   ],
   "source": [
    "clusters.query(\"cluster == 3\")"
   ]
  },
  {
   "cell_type": "code",
   "execution_count": null,
   "metadata": {},
   "outputs": [],
   "source": []
  }
 ],
 "metadata": {
  "kernelspec": {
   "display_name": "Python 3.7.4",
   "language": "python",
   "name": "other-env"
  },
  "language_info": {
   "codemirror_mode": {
    "name": "ipython",
    "version": 3
   },
   "file_extension": ".py",
   "mimetype": "text/x-python",
   "name": "python",
   "nbconvert_exporter": "python",
   "pygments_lexer": "ipython3",
   "version": "3.7.4"
  }
 },
 "nbformat": 4,
 "nbformat_minor": 4
}
