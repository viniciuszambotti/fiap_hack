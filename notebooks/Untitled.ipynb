{
 "cells": [
  {
   "cell_type": "markdown",
   "metadata": {},
   "source": [
    "# Affinity Propagation"
   ]
  },
  {
   "cell_type": "markdown",
   "metadata": {},
   "source": [
    "creates clusters by sending messages between pairs of samples until convergence. <br>\n",
    "A dataset is then described using a small number of exemplars, which are identified as those most representative of other samples.<br>\n",
    "\n",
    "https://scikit-learn.org/stable/modules/clustering.html#affinity-propagation\n",
    "\n"
   ]
  },
  {
   "cell_type": "code",
   "execution_count": 1,
   "metadata": {},
   "outputs": [],
   "source": [
    "import pandas as pd\n",
    "import numpy as np\n",
    "import datetime as dt\n",
    "\n",
    "import matplotlib.pyplot as plt\n",
    "import seaborn as sns;sns.set(context='notebook',palette='Set3', style='darkgrid')\n",
    "%matplotlib inline\n",
    "\n",
    "from classes.ClusterModel import ClusterModel\n",
    "\n",
    "import pickle"
   ]
  },
  {
   "cell_type": "code",
   "execution_count": 2,
   "metadata": {},
   "outputs": [],
   "source": [
    "df_clientes = pd.read_csv(\"../data/processados/clientes.csv\")"
   ]
  },
  {
   "cell_type": "code",
   "execution_count": 3,
   "metadata": {},
   "outputs": [
    {
     "data": {
      "text/plain": [
       "Index(['Id', 'Idade', 'EstadoCivil', 'BillingCity', 'ScoreNivelConhecimento',\n",
       "       'PerfilInvestidor', 'RendaMensal', 'ValorPatrimonio', 'ScoreObjetivos',\n",
       "       'ScoreSituacaoFinanceira', 'ScoreRisco', 'P_investidor',\n",
       "       'b_renda_mensal', 'b_idade', 'tempo_dinheiro_inves', 'resgate_dia',\n",
       "       'inves_renda_mensal', 'possivel_renda_investida_mes'],\n",
       "      dtype='object')"
      ]
     },
     "execution_count": 3,
     "metadata": {},
     "output_type": "execute_result"
    }
   ],
   "source": [
    "df_clientes.columns"
   ]
  },
  {
   "cell_type": "code",
   "execution_count": 4,
   "metadata": {},
   "outputs": [],
   "source": [
    "df_ml = df_clientes[['EstadoCivil', 'ScoreNivelConhecimento', 'ScoreObjetivos', \n",
    "                    'ScoreSituacaoFinanceira', 'P_investidor', 'b_renda_mensal',\n",
    "                    'b_idade', 'tempo_dinheiro_inves', 'resgate_dia', 'inves_renda_mensal',\n",
    "                    'possivel_renda_investida_mes']]"
   ]
  },
  {
   "cell_type": "code",
   "execution_count": 5,
   "metadata": {},
   "outputs": [
    {
     "data": {
      "text/html": [
       "<div>\n",
       "<style scoped>\n",
       "    .dataframe tbody tr th:only-of-type {\n",
       "        vertical-align: middle;\n",
       "    }\n",
       "\n",
       "    .dataframe tbody tr th {\n",
       "        vertical-align: top;\n",
       "    }\n",
       "\n",
       "    .dataframe thead th {\n",
       "        text-align: right;\n",
       "    }\n",
       "</style>\n",
       "<table border=\"1\" class=\"dataframe\">\n",
       "  <thead>\n",
       "    <tr style=\"text-align: right;\">\n",
       "      <th></th>\n",
       "      <th>EstadoCivil</th>\n",
       "      <th>ScoreNivelConhecimento</th>\n",
       "      <th>ScoreObjetivos</th>\n",
       "      <th>ScoreSituacaoFinanceira</th>\n",
       "      <th>P_investidor</th>\n",
       "      <th>b_renda_mensal</th>\n",
       "      <th>b_idade</th>\n",
       "      <th>tempo_dinheiro_inves</th>\n",
       "      <th>resgate_dia</th>\n",
       "      <th>inves_renda_mensal</th>\n",
       "      <th>possivel_renda_investida_mes</th>\n",
       "    </tr>\n",
       "  </thead>\n",
       "  <tbody>\n",
       "    <tr>\n",
       "      <td>0</td>\n",
       "      <td>M</td>\n",
       "      <td>1.0</td>\n",
       "      <td>2.0</td>\n",
       "      <td>1.0</td>\n",
       "      <td>conservador</td>\n",
       "      <td>(-50.0, 10000.0]</td>\n",
       "      <td>(16.921, 32.8]</td>\n",
       "      <td>1_ano</td>\n",
       "      <td>30</td>\n",
       "      <td>10</td>\n",
       "      <td>130.0</td>\n",
       "    </tr>\n",
       "    <tr>\n",
       "      <td>1</td>\n",
       "      <td>S</td>\n",
       "      <td>1.0</td>\n",
       "      <td>3.0</td>\n",
       "      <td>1.0</td>\n",
       "      <td>conservador</td>\n",
       "      <td>(-50.0, 10000.0]</td>\n",
       "      <td>(16.921, 32.8]</td>\n",
       "      <td>inder</td>\n",
       "      <td>0</td>\n",
       "      <td>20</td>\n",
       "      <td>100.0</td>\n",
       "    </tr>\n",
       "    <tr>\n",
       "      <td>2</td>\n",
       "      <td>C</td>\n",
       "      <td>1.0</td>\n",
       "      <td>1.0</td>\n",
       "      <td>1.0</td>\n",
       "      <td>conservador</td>\n",
       "      <td>(-50.0, 10000.0]</td>\n",
       "      <td>(16.921, 32.8]</td>\n",
       "      <td>inder</td>\n",
       "      <td>100</td>\n",
       "      <td>10</td>\n",
       "      <td>310.0</td>\n",
       "    </tr>\n",
       "    <tr>\n",
       "      <td>3</td>\n",
       "      <td>S</td>\n",
       "      <td>1.0</td>\n",
       "      <td>5.0</td>\n",
       "      <td>2.0</td>\n",
       "      <td>moderado</td>\n",
       "      <td>(-50.0, 10000.0]</td>\n",
       "      <td>(32.8, 48.6]</td>\n",
       "      <td>1_a_5_anos</td>\n",
       "      <td>0</td>\n",
       "      <td>50</td>\n",
       "      <td>1000.0</td>\n",
       "    </tr>\n",
       "    <tr>\n",
       "      <td>4</td>\n",
       "      <td>D</td>\n",
       "      <td>2.0</td>\n",
       "      <td>2.0</td>\n",
       "      <td>2.0</td>\n",
       "      <td>conservador</td>\n",
       "      <td>(-50.0, 10000.0]</td>\n",
       "      <td>(32.8, 48.6]</td>\n",
       "      <td>1_a_5_anos</td>\n",
       "      <td>50</td>\n",
       "      <td>10</td>\n",
       "      <td>600.0</td>\n",
       "    </tr>\n",
       "  </tbody>\n",
       "</table>\n",
       "</div>"
      ],
      "text/plain": [
       "  EstadoCivil  ScoreNivelConhecimento  ScoreObjetivos  \\\n",
       "0           M                     1.0             2.0   \n",
       "1           S                     1.0             3.0   \n",
       "2           C                     1.0             1.0   \n",
       "3           S                     1.0             5.0   \n",
       "4           D                     2.0             2.0   \n",
       "\n",
       "   ScoreSituacaoFinanceira P_investidor    b_renda_mensal         b_idade  \\\n",
       "0                      1.0  conservador  (-50.0, 10000.0]  (16.921, 32.8]   \n",
       "1                      1.0  conservador  (-50.0, 10000.0]  (16.921, 32.8]   \n",
       "2                      1.0  conservador  (-50.0, 10000.0]  (16.921, 32.8]   \n",
       "3                      2.0     moderado  (-50.0, 10000.0]    (32.8, 48.6]   \n",
       "4                      2.0  conservador  (-50.0, 10000.0]    (32.8, 48.6]   \n",
       "\n",
       "  tempo_dinheiro_inves  resgate_dia  inves_renda_mensal  \\\n",
       "0                1_ano           30                  10   \n",
       "1                inder            0                  20   \n",
       "2                inder          100                  10   \n",
       "3           1_a_5_anos            0                  50   \n",
       "4           1_a_5_anos           50                  10   \n",
       "\n",
       "   possivel_renda_investida_mes  \n",
       "0                         130.0  \n",
       "1                         100.0  \n",
       "2                         310.0  \n",
       "3                        1000.0  \n",
       "4                         600.0  "
      ]
     },
     "execution_count": 5,
     "metadata": {},
     "output_type": "execute_result"
    }
   ],
   "source": [
    "df_ml.head()"
   ]
  },
  {
   "cell_type": "code",
   "execution_count": 6,
   "metadata": {},
   "outputs": [
    {
     "name": "stderr",
     "output_type": "stream",
     "text": [
      "/home/vinicius/.pyenv/versions/3.7.4/lib/python3.7/site-packages/ipykernel_launcher.py:1: SettingWithCopyWarning: \n",
      "A value is trying to be set on a copy of a slice from a DataFrame\n",
      "\n",
      "See the caveats in the documentation: http://pandas.pydata.org/pandas-docs/stable/user_guide/indexing.html#returning-a-view-versus-a-copy\n",
      "  \"\"\"Entry point for launching an IPython kernel.\n"
     ]
    }
   ],
   "source": [
    "df_ml.dropna(inplace=True)"
   ]
  },
  {
   "cell_type": "code",
   "execution_count": 7,
   "metadata": {},
   "outputs": [
    {
     "data": {
      "text/plain": [
       "EstadoCivil                     0\n",
       "ScoreNivelConhecimento          0\n",
       "ScoreObjetivos                  0\n",
       "ScoreSituacaoFinanceira         0\n",
       "P_investidor                    0\n",
       "b_renda_mensal                  0\n",
       "b_idade                         0\n",
       "tempo_dinheiro_inves            0\n",
       "resgate_dia                     0\n",
       "inves_renda_mensal              0\n",
       "possivel_renda_investida_mes    0\n",
       "dtype: int64"
      ]
     },
     "execution_count": 7,
     "metadata": {},
     "output_type": "execute_result"
    }
   ],
   "source": [
    "df_ml.isnull().sum()"
   ]
  },
  {
   "cell_type": "code",
   "execution_count": 18,
   "metadata": {},
   "outputs": [
    {
     "data": {
      "text/plain": [
       "(12820, 11)"
      ]
     },
     "execution_count": 18,
     "metadata": {},
     "output_type": "execute_result"
    }
   ],
   "source": [
    "df_ml.shape"
   ]
  },
  {
   "cell_type": "code",
   "execution_count": 8,
   "metadata": {},
   "outputs": [],
   "source": [
    "cluster_model = ClusterModel(df_ml)"
   ]
  },
  {
   "cell_type": "code",
   "execution_count": 9,
   "metadata": {},
   "outputs": [
    {
     "name": "stdout",
     "output_type": "stream",
     "text": [
      "Converged after 162 iterations.\n"
     ]
    }
   ],
   "source": [
    "df_cluster, model, cluster_centers_indices, labels, n_clusters= cluster_model.affinity_propagation()"
   ]
  },
  {
   "cell_type": "code",
   "execution_count": 10,
   "metadata": {},
   "outputs": [],
   "source": [
    "pickle.dump(model, open(f'../models/affinity_prop_clientes_{dt.datetime.now()}.pkl','wb'))"
   ]
  },
  {
   "cell_type": "code",
   "execution_count": 17,
   "metadata": {},
   "outputs": [
    {
     "data": {
      "text/plain": [
       "439"
      ]
     },
     "execution_count": 17,
     "metadata": {},
     "output_type": "execute_result"
    }
   ],
   "source": [
    "n_clusters"
   ]
  },
  {
   "cell_type": "code",
   "execution_count": 41,
   "metadata": {},
   "outputs": [],
   "source": [
    "df_cluster.to_csv('../data/processados/affinity.csv', index= False)"
   ]
  },
  {
   "cell_type": "code",
   "execution_count": 22,
   "metadata": {},
   "outputs": [
    {
     "data": {
      "text/plain": [
       "391    199\n",
       "73     197\n",
       "354    176\n",
       "18     165\n",
       "400    161\n",
       "      ... \n",
       "249      1\n",
       "62       1\n",
       "81       1\n",
       "376      1\n",
       "0        1\n",
       "Name: cluster, Length: 439, dtype: int64"
      ]
     },
     "execution_count": 22,
     "metadata": {},
     "output_type": "execute_result"
    }
   ],
   "source": [
    "df_cluster['cluster'].value_counts()"
   ]
  },
  {
   "cell_type": "code",
   "execution_count": null,
   "metadata": {},
   "outputs": [],
   "source": [
    "cl_391 = df_cluster.query('cluster == 391')"
   ]
  },
  {
   "cell_type": "code",
   "execution_count": 28,
   "metadata": {},
   "outputs": [
    {
     "data": {
      "text/plain": [
       "<matplotlib.axes._subplots.AxesSubplot at 0x7fb272890b90>"
      ]
     },
     "execution_count": 28,
     "metadata": {},
     "output_type": "execute_result"
    },
    {
     "data": {
      "image/png": "[encoded data removed]",
      "text/plain": [
       "<Figure size 720x720 with 1 Axes>"
      ]
     },
     "metadata": {
      "needs_background": "light"
     },
     "output_type": "display_data"
    }
   ],
   "source": [
    "plt.figure(figsize=(10,10))\n",
    "cl_391['P_investidor'].value_counts().plot(kind='bar')"
   ]
  },
  {
   "cell_type": "code",
   "execution_count": 29,
   "metadata": {},
   "outputs": [
    {
     "data": {
      "text/plain": [
       "<matplotlib.axes._subplots.AxesSubplot at 0x7fb270241390>"
      ]
     },
     "execution_count": 29,
     "metadata": {},
     "output_type": "execute_result"
    },
    {
     "data": {
      "image/png": "[encoded data removed]",
      "text/plain": [
       "<Figure size 720x720 with 1 Axes>"
      ]
     },
     "metadata": {
      "needs_background": "light"
     },
     "output_type": "display_data"
    }
   ],
   "source": [
    "plt.figure(figsize=(10,10))\n",
    "cl_391['ScoreNivelConhecimento'].value_counts().plot(kind='bar')"
   ]
  },
  {
   "cell_type": "code",
   "execution_count": 33,
   "metadata": {},
   "outputs": [
    {
     "data": {
      "text/plain": [
       "Index(['EstadoCivil', 'ScoreNivelConhecimento', 'ScoreObjetivos',\n",
       "       'ScoreSituacaoFinanceira', 'P_investidor', 'b_renda_mensal', 'b_idade',\n",
       "       'tempo_dinheiro_inves', 'resgate_dia', 'inves_renda_mensal',\n",
       "       'possivel_renda_investida_mes', 'cluster'],\n",
       "      dtype='object')"
      ]
     },
     "execution_count": 33,
     "metadata": {},
     "output_type": "execute_result"
    }
   ],
   "source": [
    "cl_391.columns"
   ]
  },
  {
   "cell_type": "code",
   "execution_count": 34,
   "metadata": {},
   "outputs": [
    {
     "data": {
      "text/plain": [
       "<matplotlib.axes._subplots.AxesSubplot at 0x7fb26b70b610>"
      ]
     },
     "execution_count": 34,
     "metadata": {},
     "output_type": "execute_result"
    },
    {
     "data": {
      "image/png": "[encoded data removed]",
      "text/plain": [
       "<Figure size 720x720 with 1 Axes>"
      ]
     },
     "metadata": {
      "needs_background": "light"
     },
     "output_type": "display_data"
    }
   ],
   "source": [
    "plt.figure(figsize=(10,10))\n",
    "cl_391['b_renda_mensal'].value_counts().plot(kind='bar')"
   ]
  },
  {
   "cell_type": "code",
   "execution_count": 35,
   "metadata": {},
   "outputs": [
    {
     "data": {
      "text/plain": [
       "<matplotlib.axes._subplots.AxesSubplot at 0x7fb26b6540d0>"
      ]
     },
     "execution_count": 35,
     "metadata": {},
     "output_type": "execute_result"
    },
    {
     "data": {
      "image/png": "[encoded data removed]",
      "text/plain": [
       "<Figure size 720x720 with 1 Axes>"
      ]
     },
     "metadata": {
      "needs_background": "light"
     },
     "output_type": "display_data"
    }
   ],
   "source": [
    "plt.figure(figsize=(10,10))\n",
    "cl_391['tempo_dinheiro_inves'].value_counts().plot(kind='bar')"
   ]
  },
  {
   "cell_type": "code",
   "execution_count": 36,
   "metadata": {},
   "outputs": [
    {
     "data": {
      "text/plain": [
       "<matplotlib.axes._subplots.AxesSubplot at 0x7fb26b626610>"
      ]
     },
     "execution_count": 36,
     "metadata": {},
     "output_type": "execute_result"
    },
    {
     "data": {
      "image/png": "[encoded data removed]",
      "text/plain": [
       "<Figure size 720x720 with 1 Axes>"
      ]
     },
     "metadata": {
      "needs_background": "light"
     },
     "output_type": "display_data"
    }
   ],
   "source": [
    "plt.figure(figsize=(10,10))\n",
    "cl_391['resgate_dia'].value_counts().plot(kind='bar')"
   ]
  },
  {
   "cell_type": "code",
   "execution_count": 37,
   "metadata": {},
   "outputs": [
    {
     "data": {
      "text/plain": [
       "<matplotlib.axes._subplots.AxesSubplot at 0x7fb26b605590>"
      ]
     },
     "execution_count": 37,
     "metadata": {},
     "output_type": "execute_result"
    },
    {
     "data": {
      "image/png": "[encoded data removed]",
      "text/plain": [
       "<Figure size 720x720 with 1 Axes>"
      ]
     },
     "metadata": {
      "needs_background": "light"
     },
     "output_type": "display_data"
    }
   ],
   "source": [
    "plt.figure(figsize=(10,10))\n",
    "cl_391['b_idade'].value_counts().plot(kind='bar')"
   ]
  },
  {
   "cell_type": "code",
   "execution_count": 39,
   "metadata": {},
   "outputs": [
    {
     "data": {
      "text/plain": [
       "<matplotlib.axes._subplots.AxesSubplot at 0x7fb26b3603d0>"
      ]
     },
     "execution_count": 39,
     "metadata": {},
     "output_type": "execute_result"
    },
    {
     "data": {
      "image/png": "[encoded data removed]",
      "text/plain": [
       "<Figure size 720x720 with 1 Axes>"
      ]
     },
     "metadata": {
      "needs_background": "light"
     },
     "output_type": "display_data"
    }
   ],
   "source": [
    "plt.figure(figsize=(10,10))\n",
    "cl_391['inves_renda_mensal'].value_counts().plot(kind='bar')"
   ]
  },
  {
   "cell_type": "code",
   "execution_count": 40,
   "metadata": {},
   "outputs": [
    {
     "data": {
      "text/plain": [
       "<matplotlib.axes._subplots.AxesSubplot at 0x7fb26b322dd0>"
      ]
     },
     "execution_count": 40,
     "metadata": {},
     "output_type": "execute_result"
    },
    {
     "data": {
      "image/png": "[encoded data removed]",
      "text/plain": [
       "<Figure size 720x720 with 1 Axes>"
      ]
     },
     "metadata": {
      "needs_background": "light"
     },
     "output_type": "display_data"
    }
   ],
   "source": [
    "plt.figure(figsize=(10,10))\n",
    "cl_391['ScoreObjetivos'].value_counts().plot(kind='bar')"
   ]
  },
  {
   "cell_type": "code",
   "execution_count": null,
   "metadata": {},
   "outputs": [],
   "source": []
  }
 ],
 "metadata": {
  "kernelspec": {
   "display_name": "Python 3.7.4",
   "language": "python",
   "name": "other-env"
  },
  "language_info": {
   "codemirror_mode": {
    "name": "ipython",
    "version": 3
   },
   "file_extension": ".py",
   "mimetype": "text/x-python",
   "name": "python",
   "nbconvert_exporter": "python",
   "pygments_lexer": "ipython3",
   "version": "3.7.4"
  }
 },
 "nbformat": 4,
 "nbformat_minor": 4
}
