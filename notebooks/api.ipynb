{
 "cells": [
  {
   "cell_type": "code",
   "execution_count": 291,
   "metadata": {},
   "outputs": [],
   "source": [
    "import pandas as pd\n",
    "import numpy as np\n",
    "import pickle\n",
    "\n",
    "from classes.ClusterModel import ClusterModel\n",
    "\n",
    "import json"
   ]
  },
  {
   "cell_type": "code",
   "execution_count": 292,
   "metadata": {},
   "outputs": [],
   "source": [
    "modelo_clientes = pickle.load(open('../models/kmeans_clientes_FINAL.pkl', 'rb'))\n",
    "modelo_fixa = pickle.load(open('../models/recommendation_fixa_FINAL.pkl', 'rb'))\n",
    "modelo_fundos = pickle.load(open('../models/recommendation_fundos_FINAL.pkl', 'rb'))"
   ]
  },
  {
   "cell_type": "code",
   "execution_count": 293,
   "metadata": {},
   "outputs": [],
   "source": [
    "clientes = pd.read_csv('../data/processados/clientes_final.csv')\n",
    "fixa = pd.read_csv('../data/processados/produto_fixa_final.csv')\n",
    "fundos = pd.read_csv('../data/processados/produto_fundos_final.csv')"
   ]
  },
  {
   "cell_type": "code",
   "execution_count": 294,
   "metadata": {},
   "outputs": [],
   "source": [
    "full_fundos = pd.read_csv('../data/processados/produtos_fundos.csv')\n",
    "full_fixa = pd.read_csv('../data/processados/produtos_fixa.csv')"
   ]
  },
  {
   "cell_type": "code",
   "execution_count": 295,
   "metadata": {},
   "outputs": [],
   "source": [
    "entry = '{\"Id\":\"$2b$10$.DCvvJ9WSDpqVP2xXjeSPeR6I3TrUCl/MAePvQQcvloiuSPbG0TpW\",\"P_investidor\":\"conservador\", \"b_renda_mensal\":\"(-50.0, 10000.0]\", \"tempo_dinheiro_inves\":\"inder\",\"resgate_dia\":0, \"inves_renda_mensal\":10}'"
   ]
  },
  {
   "cell_type": "code",
   "execution_count": 296,
   "metadata": {},
   "outputs": [],
   "source": [
    "jsn = json.loads(entry)"
   ]
  },
  {
   "cell_type": "code",
   "execution_count": 297,
   "metadata": {},
   "outputs": [],
   "source": [
    "data = pd.DataFrame([jsn], columns=jsn.keys())"
   ]
  },
  {
   "cell_type": "code",
   "execution_count": 298,
   "metadata": {},
   "outputs": [],
   "source": [
    "cluster = clientes[clientes['Id'] == data['Id'].values[0]]['cluster']"
   ]
  },
  {
   "cell_type": "code",
   "execution_count": 299,
   "metadata": {},
   "outputs": [],
   "source": [
    "recomendacao_fixa = modelo_fixa.query(f'customerId == {cluster.values[0]}').iloc[0]['produtoId']\n",
    "recomendacao_fundos = modelo_fundos.query(f'customerId == {cluster.values[0]}').iloc[0]['produtoId']"
   ]
  },
  {
   "cell_type": "code",
   "execution_count": 300,
   "metadata": {},
   "outputs": [],
   "source": [
    "full_fundos = full_fundos[['ProdutoId', 'NomeInvestimento__c', 'FiltroValorMinimo__c']]"
   ]
  },
  {
   "cell_type": "code",
   "execution_count": 301,
   "metadata": {},
   "outputs": [],
   "source": [
    "full_fixa = full_fixa[['ProdutoId', 'NomeInvestimento__c', 'NomeProduto__c']]"
   ]
  },
  {
   "cell_type": "code",
   "execution_count": 302,
   "metadata": {},
   "outputs": [],
   "source": [
    "produtos_fixa = fixa.query(f'cluster == {recomendacao_fixa}').iloc[range(0,2)]"
   ]
  },
  {
   "cell_type": "code",
   "execution_count": 303,
   "metadata": {},
   "outputs": [],
   "source": [
    "produtos_fundos = fundos.query(f'cluster == {recomendacao_fundos}').iloc[range(0,2)]"
   ]
  },
  {
   "cell_type": "code",
   "execution_count": 304,
   "metadata": {},
   "outputs": [],
   "source": [
    "fundo =json.dumps({\"fundo\":produtos_fundos.merge(full_fundos, left_on='ProdutoId', right_on='ProdutoId', how='left').to_dict('records')})"
   ]
  },
  {
   "cell_type": "code",
   "execution_count": 305,
   "metadata": {},
   "outputs": [],
   "source": [
    "fixa =json.dumps({\"fixa\":produtos_fixa.merge(full_fixa, left_on='ProdutoId', right_on='ProdutoId', how='left').to_dict('records')})"
   ]
  },
  {
   "cell_type": "code",
   "execution_count": 306,
   "metadata": {},
   "outputs": [
    {
     "data": {
      "text/plain": [
       "'{\"fundo\": [{\"FamiliaCarteira__c\": \"Renda Fixa\", \"RiscoAtivo__c\": 2.0, \"cluster\": -1, \"ProdutoId\": \"a0W3u00000AdEFNEA3\", \"NomeInvestimento__c\": \"CA INDOSUEZ DI MASTER FIRF REF. DI LP\", \"FiltroValorMinimo__c\": 1000.0}, {\"FamiliaCarteira__c\": \"Renda Fixa\", \"RiscoAtivo__c\": 2.0, \"cluster\": -1, \"ProdutoId\": \"a0W3u00000AdGFdEAN\", \"NomeInvestimento__c\": \"AZ QUEST YIELD FIC FIRF LP\", \"FiltroValorMinimo__c\": 10000.0}]},{\"fixa\": [{\"b_dias_vencimento\": \"(503.2, 1007.4]\", \"FiltroValorMinimo__c\": 1000.0, \"DescricaoCarencia__c\": \"Qualquer dia\", \"cluster\": -1, \"ProdutoId\": \"a0W3u000009PBsjEAG\", \"NomeInvestimento__c\": \"CDB\", \"NomeProduto__c\": \"CDB POS 1\"}, {\"b_dias_vencimento\": \"(503.2, 1007.4]\", \"FiltroValorMinimo__c\": 1000.0, \"DescricaoCarencia__c\": \"Qualquer dia\", \"cluster\": -1, \"ProdutoId\": \"a0W3u000009PC0WEAW\", \"NomeInvestimento__c\": \"CDB\", \"NomeProduto__c\": \"CDB POS\"}]}'"
      ]
     },
     "execution_count": 306,
     "metadata": {},
     "output_type": "execute_result"
    }
   ],
   "source": [
    "fundo +',' +fixa"
   ]
  },
  {
   "cell_type": "code",
   "execution_count": 307,
   "metadata": {},
   "outputs": [
    {
     "data": {
      "text/plain": [
       "{'fundo': [{'FamiliaCarteira__c': 'Renda Fixa',\n",
       "   'RiscoAtivo__c': 2.0,\n",
       "   'cluster': -1,\n",
       "   'ProdutoId': 'a0W3u00000AdEFNEA3',\n",
       "   'NomeInvestimento__c': 'CA INDOSUEZ DI MASTER FIRF REF. DI LP',\n",
       "   'FiltroValorMinimo__c': 1000.0},\n",
       "  {'FamiliaCarteira__c': 'Renda Fixa',\n",
       "   'RiscoAtivo__c': 2.0,\n",
       "   'cluster': -1,\n",
       "   'ProdutoId': 'a0W3u00000AdGFdEAN',\n",
       "   'NomeInvestimento__c': 'AZ QUEST YIELD FIC FIRF LP',\n",
       "   'FiltroValorMinimo__c': 10000.0}]}"
      ]
     },
     "execution_count": 307,
     "metadata": {},
     "output_type": "execute_result"
    }
   ],
   "source": [
    "json.loads(fundo)"
   ]
  },
  {
   "cell_type": "code",
   "execution_count": 308,
   "metadata": {},
   "outputs": [
    {
     "data": {
      "text/plain": [
       "{'fixa': [{'b_dias_vencimento': '(503.2, 1007.4]',\n",
       "   'FiltroValorMinimo__c': 1000.0,\n",
       "   'DescricaoCarencia__c': 'Qualquer dia',\n",
       "   'cluster': -1,\n",
       "   'ProdutoId': 'a0W3u000009PBsjEAG',\n",
       "   'NomeInvestimento__c': 'CDB',\n",
       "   'NomeProduto__c': 'CDB POS 1'},\n",
       "  {'b_dias_vencimento': '(503.2, 1007.4]',\n",
       "   'FiltroValorMinimo__c': 1000.0,\n",
       "   'DescricaoCarencia__c': 'Qualquer dia',\n",
       "   'cluster': -1,\n",
       "   'ProdutoId': 'a0W3u000009PC0WEAW',\n",
       "   'NomeInvestimento__c': 'CDB',\n",
       "   'NomeProduto__c': 'CDB POS'}]}"
      ]
     },
     "execution_count": 308,
     "metadata": {},
     "output_type": "execute_result"
    }
   ],
   "source": [
    "json.loads(fixa)"
   ]
  },
  {
   "cell_type": "code",
   "execution_count": 309,
   "metadata": {},
   "outputs": [],
   "source": [
    "st = f'\"data\":[{fixa},{fundo}]'"
   ]
  },
  {
   "cell_type": "code",
   "execution_count": 310,
   "metadata": {},
   "outputs": [],
   "source": [
    "result = '{' + st + '}'"
   ]
  },
  {
   "cell_type": "code",
   "execution_count": 311,
   "metadata": {},
   "outputs": [
    {
     "data": {
      "text/plain": [
       "{'data': [{'fixa': [{'b_dias_vencimento': '(503.2, 1007.4]',\n",
       "     'FiltroValorMinimo__c': 1000.0,\n",
       "     'DescricaoCarencia__c': 'Qualquer dia',\n",
       "     'cluster': -1,\n",
       "     'ProdutoId': 'a0W3u000009PBsjEAG',\n",
       "     'NomeInvestimento__c': 'CDB',\n",
       "     'NomeProduto__c': 'CDB POS 1'},\n",
       "    {'b_dias_vencimento': '(503.2, 1007.4]',\n",
       "     'FiltroValorMinimo__c': 1000.0,\n",
       "     'DescricaoCarencia__c': 'Qualquer dia',\n",
       "     'cluster': -1,\n",
       "     'ProdutoId': 'a0W3u000009PC0WEAW',\n",
       "     'NomeInvestimento__c': 'CDB',\n",
       "     'NomeProduto__c': 'CDB POS'}]},\n",
       "  {'fundo': [{'FamiliaCarteira__c': 'Renda Fixa',\n",
       "     'RiscoAtivo__c': 2.0,\n",
       "     'cluster': -1,\n",
       "     'ProdutoId': 'a0W3u00000AdEFNEA3',\n",
       "     'NomeInvestimento__c': 'CA INDOSUEZ DI MASTER FIRF REF. DI LP',\n",
       "     'FiltroValorMinimo__c': 1000.0},\n",
       "    {'FamiliaCarteira__c': 'Renda Fixa',\n",
       "     'RiscoAtivo__c': 2.0,\n",
       "     'cluster': -1,\n",
       "     'ProdutoId': 'a0W3u00000AdGFdEAN',\n",
       "     'NomeInvestimento__c': 'AZ QUEST YIELD FIC FIRF LP',\n",
       "     'FiltroValorMinimo__c': 10000.0}]}]}"
      ]
     },
     "execution_count": 311,
     "metadata": {},
     "output_type": "execute_result"
    }
   ],
   "source": [
    "json.loads(result)"
   ]
  },
  {
   "cell_type": "code",
   "execution_count": null,
   "metadata": {},
   "outputs": [],
   "source": []
  }
 ],
 "metadata": {
  "kernelspec": {
   "display_name": "Python 3.7.4",
   "language": "python",
   "name": "other-env"
  },
  "language_info": {
   "codemirror_mode": {
    "name": "ipython",
    "version": 3
   },
   "file_extension": ".py",
   "mimetype": "text/x-python",
   "name": "python",
   "nbconvert_exporter": "python",
   "pygments_lexer": "ipython3",
   "version": "3.7.4"
  }
 },
 "nbformat": 4,
 "nbformat_minor": 4
}
